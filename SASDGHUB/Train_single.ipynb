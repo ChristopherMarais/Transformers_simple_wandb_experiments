{
 "cells": [
  {
   "cell_type": "code",
   "execution_count": null,
   "id": "ee564013-69a3-4853-98fe-6c2a00844ebd",
   "metadata": {
    "tags": []
   },
   "outputs": [],
   "source": [
    "import wandb\n",
    "import torch\n",
    "import sklearn\n",
    "import numpy as np\n",
    "import pandas as pd\n",
    "import logging\n",
    "import matplotlib.pyplot as plt\n",
    "import seaborn as sns\n",
    "from sklearn.model_selection import train_test_split\n",
    "from simpletransformers.classification import MultiLabelClassificationModel, MultiLabelClassificationArgs"
   ]
  },
  {
   "cell_type": "code",
   "execution_count": null,
   "id": "43217174-039a-41fa-9ab1-0441bc061dd5",
   "metadata": {
    "tags": []
   },
   "outputs": [],
   "source": [
    "# see GPU avaialability\n",
    "cuda_available = torch.cuda.is_available()"
   ]
  },
  {
   "cell_type": "code",
   "execution_count": null,
   "id": "2410685e-4550-4080-aa6b-74b1cce94dfc",
   "metadata": {
    "tags": []
   },
   "outputs": [],
   "source": [
    "# import data\n",
    "data = pd.read_csv('OneHot_Combined_cln_utf8.tsv', sep='\\t')\n",
    "data = data.iloc[-10000:,:]\n",
    "\n",
    "# reformat data\n",
    "sdg_lst = ['SDG1','SDG2','SDG3','SDG4','SDG5','SDG6','SDG7','SDG8','SDG9','SDG10','SDG11','SDG12','SDG13','SDG14','SDG15','SDG16','SDG17']\n",
    "data['y'] = data[sdg_lst].values.tolist()\n",
    "y = data['y']\n",
    "X = data['abstract']\n",
    "\n",
    "# plot ratio of data\n",
    "class_weight = (data[sdg_lst].sum()/ data[sdg_lst].sum().sum())\n",
    "print('% PER CLASS:\\n\\n', class_weight*100)\n",
    "data[sdg_lst].sum().plot.bar()\n",
    "\n",
    "# split data\n",
    "X_train, X_val, y_train, y_val = train_test_split(X, y, test_size=0.3, random_state=42)\n",
    "\n",
    "# add data to dataframes\n",
    "train_df = pd.DataFrame()\n",
    "train_df['text'] = X_train\n",
    "train_df['labels'] = y_train\n",
    "train_df.reset_index(inplace=True, drop=True)\n",
    "\n",
    "eval_df = pd.DataFrame()\n",
    "eval_df['text'] = X_val\n",
    "eval_df['labels'] = y_val\n",
    "eval_df.reset_index(inplace=True, drop=True)\n",
    "\n",
    "# get number of classes\n",
    "label_count = len(sdg_lst)"
   ]
  },
  {
   "cell_type": "code",
   "execution_count": null,
   "id": "ab116e8c-6382-48c5-b23d-bc7b3553c389",
   "metadata": {
    "tags": []
   },
   "outputs": [],
   "source": [
    "# parameter optimisation\n",
    "sweep_config = {\n",
    "    \"method\": \"bayes\",  # bayes, grid, random\n",
    "    \"metric\": {\"name\": \"accuracy\", \"goal\": \"maximize\"},\n",
    "    \"parameters\": {\n",
    "        \"num_train_epochs\": {\"min\": 1, \"max\": 20},\n",
    "        \"learning_rate\": {\"min\": 5e-5, \"max\": 4e-4},\n",
    "        \"train_batch_size\":{\"min\": 1, \"max\": 30},\n",
    "        \"eval_batch_size\":{\"min\": 1, \"max\": 30},\n",
    "        \"warmup_steps\":{\"min\": 50, \"max\": 500},\n",
    "        \"weight_decay\":{\"min\": 0.01, \"max\": 0.1},\n",
    "        # \"logging_steps\":{\"min\": 1, \"max\": 20}, #{\"values\": [2, 5, 10]}\n",
    "        \"threshold\":{\"min\":0.0, \"max\":1.0}\n",
    "    },\n",
    "}\n",
    "\n",
    "sweep_id = wandb.sweep(sweep_config, entity='sasdghub', project=\"sasdghub_ml_classify\")\n",
    "\n",
    "# logging\n",
    "logging.basicConfig(level=logging.INFO)\n",
    "transformers_logger = logging.getLogger(\"transformers\")\n",
    "transformers_logger.setLevel(logging.WARNING)"
   ]
  },
  {
   "cell_type": "code",
   "execution_count": null,
   "id": "50f3c1a9-502b-42df-93c1-d958d7df4a93",
   "metadata": {
    "tags": []
   },
   "outputs": [],
   "source": [
    "def acc_result(true, pred):\n",
    "    true=np.argmax(true, axis=1)\n",
    "    pred=np.argmax(pred, axis=1)\n",
    "    acc = sklearn.metrics.accuracy_score(true, pred)\n",
    "    return acc\n",
    "\n",
    "def f1_macro_result(true, pred):\n",
    "    true=np.argmax(true, axis=1)\n",
    "    pred=np.argmax(pred, axis=1)\n",
    "    f1 = sklearn.metrics.f1_score(true, pred, average='macro')\n",
    "    return f1\n",
    "\n",
    "def f1_micro_result(true, pred):\n",
    "    true=np.argmax(true, axis=1)\n",
    "    pred=np.argmax(pred, axis=1)\n",
    "    f1 = sklearn.metrics.f1_score(true, pred, average='micro')\n",
    "    return f1\n",
    "\n",
    "def cm_result(true, pred):\n",
    "    true=np.argmax(true, axis=1)\n",
    "    pred=np.argmax(pred, axis=1)\n",
    "    cm = wandb.plot.confusion_matrix(probs=None, y_true=true, preds=pred, class_names=sdg_lst) #sklearn.metrics.multilabel_confusion_matrix(true, pred)\n",
    "    return cm"
   ]
  },
  {
   "cell_type": "code",
   "execution_count": null,
   "id": "583face1-70f2-44ad-a913-1d66137b0afc",
   "metadata": {
    "tags": []
   },
   "outputs": [],
   "source": [
    "# train with optimal parameters\n",
    "# logging\n",
    "logging.basicConfig(level=logging.INFO)\n",
    "transformers_logger = logging.getLogger(\"transformers\")\n",
    "transformers_logger.setLevel(logging.WARNING)\n",
    "\n",
    "# # Optional model configuration\n",
    "model_args = MultiLabelClassificationArgs(fp16= False,\n",
    "                                          manual_seed = 4,\n",
    "                                          use_multiprocessing = True,\n",
    "                                          overwrite_output_dir=True,\n",
    "                                          evaluate_during_training = True,\n",
    "                                          num_train_epochs=20,\n",
    "                                          learning_rate=0.0001,\n",
    "                                          train_batch_size=20,\n",
    "                                          eval_batch_size=20,\n",
    "                                          warmup_steps=300,\n",
    "                                          weight_decay=0.09,\n",
    "                                          threshold=0.97,\n",
    "                                          wandb_project = 'sasdghub_ml_classify',\n",
    "                                          wandb_kwargs={\n",
    "                                              'entity':'sasdghub'\n",
    "                                                       }\n",
    "                                         )\n",
    "\n",
    "# Create a MultiLabelClassificationModel\n",
    "model = MultiLabelClassificationModel(\n",
    "        \"xlnet\",\n",
    "        \"xlnet-base-cased\",\n",
    "        num_labels=label_count,\n",
    "        args=model_args,\n",
    "        use_cuda=cuda_available,\n",
    "        pos_weight=list((1/label_count)/class_weight),\n",
    "        # show_running_loss=True,\n",
    ")\n",
    "\n",
    "# Train the model\n",
    "model.train_model(train_df,\n",
    "                      verbose=True,\n",
    "                      eval_df=eval_df,\n",
    "                      accuracy=acc_result,\n",
    "                      f1_macro=f1_macro_result,\n",
    "                      f1_micro=f1_micro_result,\n",
    "                      cm=cm_result)\n",
    "\n",
    "# Evaluate the model\n",
    "result, model_outputs, wrong_predictions = model.eval_model(\n",
    "    eval_df,\n",
    "    verbose=True,\n",
    "    accuracy=acc_result,\n",
    "    f1_macro=f1_macro_result,\n",
    "    f1_micro=f1_micro_result,\n",
    "    cm=cm_result\n",
    ")"
   ]
  },
  {
   "cell_type": "code",
   "execution_count": null,
   "id": "8d7d8cf8-6bfa-4d5e-9d95-08f977d822ab",
   "metadata": {
    "tags": []
   },
   "outputs": [],
   "source": [
    "# Make predictions with the model\n",
    "# predictions, raw_outputs = model.predict([\"sanitation and clean drinking water\"])"
   ]
  },
  {
   "cell_type": "markdown",
   "id": "f5c051ad-fdb9-4055-908a-f48dd267b932",
   "metadata": {
    "tags": []
   },
   "source": [
    "#######################################################################################\n",
    "\n",
    "\n",
    "modify so it can digest longer text (split training data into paragraphs that can be digested) # needs an update\n",
    "\n",
    "freeze number of layers as a parameter\n",
    "\n",
    "select and save best model\n",
    "apply new model in apply script\n",
    "\n",
    "make testing script with ROC curves and confusion matrices (model.eval)\n",
    "\n",
    "make testing dataset and train real classifier\n",
    "\n",
    "get model embedding\n",
    "train classifier for targets\n",
    "OR\n",
    "force nodes for each SDG to output only to targets (SDG7 node does not link to target 9.5 but only to 7.x targets.) (heirarichical classification NN)"
   ]
  },
  {
   "cell_type": "code",
   "execution_count": null,
   "id": "db4d09a5-9cc5-41c0-8db2-98964f4ab5b9",
   "metadata": {},
   "outputs": [],
   "source": []
  }
 ],
 "metadata": {
  "kernelspec": {
   "display_name": "Python 3 (ipykernel)",
   "language": "python",
   "name": "python3"
  },
  "language_info": {
   "codemirror_mode": {
    "name": "ipython",
    "version": 3
   },
   "file_extension": ".py",
   "mimetype": "text/x-python",
   "name": "python",
   "nbconvert_exporter": "python",
   "pygments_lexer": "ipython3",
   "version": "3.9.12"
  }
 },
 "nbformat": 4,
 "nbformat_minor": 5
}
