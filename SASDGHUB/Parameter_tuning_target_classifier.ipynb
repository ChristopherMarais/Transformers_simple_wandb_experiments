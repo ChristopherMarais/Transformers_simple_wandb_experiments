{
 "cells": [
  {
   "cell_type": "markdown",
   "id": "83fd34e1-4700-417a-b95f-42fd97e908b1",
   "metadata": {},
   "source": [
    "### Target classifier"
   ]
  },
  {
   "cell_type": "code",
   "execution_count": 1,
   "id": "689e0297-9b06-429a-aeeb-7741fcefbc9c",
   "metadata": {
    "execution": {
     "iopub.execute_input": "2022-08-30T15:06:01.832133Z",
     "iopub.status.busy": "2022-08-30T15:06:01.831133Z",
     "iopub.status.idle": "2022-08-30T15:06:06.504446Z",
     "shell.execute_reply": "2022-08-30T15:06:06.503446Z",
     "shell.execute_reply.started": "2022-08-30T15:06:01.831133Z"
    },
    "tags": []
   },
   "outputs": [],
   "source": [
    "from simpletransformers.language_representation import RepresentationModel\n",
    "from simpletransformers.classification import MultiLabelClassificationModel\n",
    "from simpletransformers.config.model_args import ModelArgs\n",
    "from sklearn.manifold import Isomap\n",
    "from sklearn.neighbors import KNeighborsClassifier\n",
    "import matplotlib.pyplot as plt\n",
    "import pandas as pd\n",
    "import numpy as np\n",
    "import torch\n",
    "\n",
    "from sklearn.metrics.pairwise import cosine_similarity"
   ]
  },
  {
   "cell_type": "code",
   "execution_count": 2,
   "id": "7886bd55-872c-483c-a0c4-42ae8765d49e",
   "metadata": {
    "execution": {
     "iopub.execute_input": "2022-08-30T15:06:06.505438Z",
     "iopub.status.busy": "2022-08-30T15:06:06.505438Z",
     "iopub.status.idle": "2022-08-30T15:06:07.216446Z",
     "shell.execute_reply": "2022-08-30T15:06:07.215446Z",
     "shell.execute_reply.started": "2022-08-30T15:06:06.505438Z"
    },
    "tags": []
   },
   "outputs": [],
   "source": [
    "# import data\n",
    "data = pd.read_csv('OneHot_Combined_cln_utf8.tsv', sep='\\t')\n",
    "data = data[data['source']!='SASDG_Hub'] #keep the articles classified by Willem separate as an unseen testing set\n",
    "data = data.iloc[-1000:,:] # select a small subset of the data (last 1000 rows)\n",
    "\n",
    "# import target data\n",
    "target_df = pd.read_csv('Targets.csv', sep=';')"
   ]
  },
  {
   "cell_type": "code",
   "execution_count": 3,
   "id": "b1160642-d5b4-4ed4-9461-a49a8557e658",
   "metadata": {
    "execution": {
     "iopub.execute_input": "2022-08-30T15:06:07.217438Z",
     "iopub.status.busy": "2022-08-30T15:06:07.217438Z",
     "iopub.status.idle": "2022-08-30T15:06:07.232435Z",
     "shell.execute_reply": "2022-08-30T15:06:07.231435Z",
     "shell.execute_reply.started": "2022-08-30T15:06:07.217438Z"
    },
    "tags": []
   },
   "outputs": [],
   "source": [
    "# function to apply model to text\n",
    "def classify_sdg(text_lst):\n",
    "    # see GPU avaialability\n",
    "    cuda_available = torch.cuda.is_available()\n",
    "    \n",
    "    # import model from path (this path is the directory with all the model files)\n",
    "    sdg_model = MultiLabelClassificationModel(\n",
    "            \"xlnet\",\n",
    "            r\"C:\\Users\\gcmar\\Desktop\\GIT_REPOS\\Transformers_simple_wandb_experiments\\SASDGHUB\\outputs\\best_model\\\\\",\n",
    "            num_labels=17,\n",
    "            use_cuda=cuda_available,\n",
    "            )\n",
    "    predictions, raw_outputs = sdg_model.predict(text_lst)\n",
    "    return(predictions, raw_outputs)"
   ]
  },
  {
   "cell_type": "code",
   "execution_count": 24,
   "id": "34e9d699-4603-46fa-8e6f-1598361379e6",
   "metadata": {
    "execution": {
     "iopub.execute_input": "2022-08-30T15:40:10.747392Z",
     "iopub.status.busy": "2022-08-30T15:40:10.747392Z",
     "iopub.status.idle": "2022-08-30T15:40:10.767397Z",
     "shell.execute_reply": "2022-08-30T15:40:10.766408Z",
     "shell.execute_reply.started": "2022-08-30T15:40:10.747392Z"
    },
    "tags": []
   },
   "outputs": [],
   "source": [
    "# function to classify targets\n",
    "def classify_sdg_target(text_lst, \n",
    "                        target_data_path='Targets.csv',\n",
    "                        run_isomap=True, # run faster for multiple samples otherwise (target_data_path required when this is False) (do not use when only one sample)\n",
    "                        target_embedding_reduced_path=None, # load a previously calculated and reduced embedding for the targets 'outputs/targets_embedded_reduced_gpt2_2D.csv'\n",
    "                        isomap_dims = 2,\n",
    "                        isomap_neigbors = 5, # has to be <= len(text_lst) a.k.a n_samples\n",
    "                        pre_trained_model_type='gpt2', \n",
    "                        pre_trained_model_name='gpt2',\n",
    "                        target_threshold_val=0.5):\n",
    "    \n",
    "    # see GPU avaialability\n",
    "    cuda_available = torch.cuda.is_available()\n",
    "\n",
    "    # define and load model from hugging face\n",
    "    model_args = ModelArgs(max_seq_length=1024)\n",
    "    # model import\n",
    "    model = RepresentationModel(\n",
    "        pre_trained_model_type,\n",
    "        pre_trained_model_name, #gpt2 , gpt2-large\n",
    "        args=model_args,\n",
    "    )\n",
    "    \n",
    "    # classify sdg of text\n",
    "    sdg_predictions, sdg_raw_outputs = classify_sdg(text_lst)\n",
    "    # get embeddings of text\n",
    "    word_embeddings = model.encode_sentences(text_lst, combine_strategy=\"mean\")\n",
    "    \n",
    "    \n",
    "    # ISOMAP\n",
    "    if run_isomap==True: \n",
    "        # reduce isomap_neigbors to fit the number of samples\n",
    "        n_samples = len(text_lst)\n",
    "        if n_samples < isomap_neigbors:\n",
    "            isomap_neigbors = np.max([1,n_samples-1])\n",
    "            print('Reduced isomap_n_neigbors to: ', isomap_neigbors)\n",
    "\n",
    "        # reduce dimensions of embeddings to 2 (can be reduced to higher dimensions)\n",
    "        isomap = Isomap(n_components=isomap_dims, n_neighbors=isomap_neigbors-1) # input is an array with samples x features\n",
    "        word_embeddings_transformed = isomap.fit_transform(word_embeddings)\n",
    "\n",
    "        if target_embedding_reduced_path == None:\n",
    "            # load pre-calculated embeddings\n",
    "            target_df = pd.read_csv(target_data_path, sep=';')\n",
    "            # get sentence list from target data\n",
    "            target_sentence_list = target_df['text'].tolist()\n",
    "            # get embeddings of targets\n",
    "            target_embeddings = model.encode_sentences(target_sentence_list, combine_strategy=\"mean\")\n",
    "            target_embeddings_transformed = isomap.fit_transform(target_embeddings)\n",
    "\n",
    "            # add labels to reduced embeddings\n",
    "            target_trans_df = pd.DataFrame(target_embeddings_transformed)\n",
    "            target_trans_df['target'] = target_df['target']\n",
    "            target_trans_df['sdg'] = target_df['sdg']\n",
    "            target_trans_df.to_csv('outputs/targets_embedded_reduced_'+pre_trained_model_name+'_'+str(isomap_dims)+'D.csv', index=False)\n",
    "\n",
    "            # define source and target for KNN\n",
    "            Y = target_trans_df\n",
    "            X = pd.DataFrame(word_embeddings_transformed)\n",
    "            idx_ar = np.array(range(0,17), np.int64)\n",
    "            sdg_label_lst = []\n",
    "            for row in (np.array(sdg_predictions)==1):\n",
    "                sdg_label_lst.append(idx_ar[row])\n",
    "            X['sdg'] = sdg_label_lst\n",
    "            sdg_prob_lst = []\n",
    "            for row in sdg_raw_outputs:\n",
    "                sdg_prob_lst.append(row)\n",
    "            X['sdg_probability'] = sdg_prob_lst\n",
    "            \n",
    "        else:\n",
    "            # import reduced embedding of targets\n",
    "            target_trans_df = pd.read_csv(target_embedding_reduced_path, sep=',')\n",
    "            \n",
    "            # define source and target for KNN\n",
    "            Y = target_trans_df\n",
    "            X = pd.DataFrame(word_embeddings_transformed)\n",
    "            idx_ar = np.array(range(0,17), np.int64)\n",
    "            sdg_label_lst = []\n",
    "            for row in (np.array(sdg_predictions)==1):\n",
    "                sdg_label_lst.append(idx_ar[row])\n",
    "            X['sdg'] = sdg_label_lst\n",
    "            sdg_prob_lst = []\n",
    "            for row in sdg_raw_outputs:\n",
    "                sdg_prob_lst.append(row)\n",
    "            X['sdg_probability'] = sdg_prob_lst\n",
    "\n",
    "        # plot embeddings if they are 2D\n",
    "        if isomap_dims ==2:\n",
    "            trans_df = pd.DataFrame(word_embeddings_transformed)\n",
    "            trans_df['target'] = target_df['target']\n",
    "            trans_df['sdg'] = target_df['sdg']\n",
    "            trans_df.plot.scatter(0,1,c='sdg', colormap='viridis') # colour by sdg\n",
    "            plt.title('Isomap 2D plot of text embedding')\n",
    "            plt.show()\n",
    "    \n",
    "    else:\n",
    "        # load pre-calculated embeddings\n",
    "        target_df = pd.read_csv(target_data_path, sep=';')\n",
    "        # get sentence list from target data\n",
    "        target_sentence_list = target_df['text'].tolist()\n",
    "        # get embeddings of targets\n",
    "        target_embeddings = model.encode_sentences(target_sentence_list, combine_strategy=\"mean\")\n",
    "        \n",
    "        # define source and target for KNN\n",
    "        Y = pd.DataFrame(target_embeddings)\n",
    "        Y['target'] = target_df['target']\n",
    "        Y['sdg'] = target_df['sdg']\n",
    "        X = pd.DataFrame(word_embeddings)\n",
    "        idx_ar = np.array(range(0,17), np.int64)\n",
    "        sdg_label_lst = []\n",
    "        for row in (np.array(sdg_predictions)==1):\n",
    "            sdg_label_lst.append(idx_ar[row])\n",
    "        X['sdg'] = sdg_label_lst\n",
    "        sdg_prob_lst = []\n",
    "        for row in sdg_raw_outputs:\n",
    "            sdg_prob_lst.append(row)\n",
    "        X['sdg_probability'] = sdg_prob_lst\n",
    "    \n",
    "    \n",
    "#     # create dictionary of knn models per sdg\n",
    "#     # train/prepare knn models\n",
    "#     knn = KNeighborsClassifier(n_neighbors=knn_n_val, weights='distance')\n",
    "#     knn_models_dict = {}\n",
    "#     for i in range(0+1, 17+1):\n",
    "#         Y_target_df = Y[Y['sdg']==i]\n",
    "#         Y_embedding_df = Y_target_df.loc[:, ~Y_target_df.columns.isin(['sdg', 'target'])]\n",
    "#         model = knn.fit(Y_embedding_df, Y_target_df['target'])\n",
    "#         knn_models_dict[i] = model\n",
    "        \n",
    "#     ############## save dict to disk and add option in function to load or train\n",
    "        \n",
    "#     # apply knn\n",
    "#     results_df = pd.DataFrame()\n",
    "#     for i,j in knn_models_dict.items():\n",
    "#         results_df['text'] = text_lst\n",
    "#         results_df['sdg'] = X['sdg']\n",
    "#         results_df['sdg_probability'] = X['sdg_probability']\n",
    "#         X_embedding_df = X.loc[:, ~X.columns.isin(['sdg', 'sdg_probability'])]\n",
    "#         results_df['sdg_'+str(i)+'_targets_prob'] = j.predict_proba(X_embedding_df).tolist()\n",
    "#         results_df['sdg_'+str(i)+'_targets_pred'] = j.predict(X_embedding_df).tolist()\n",
    "\n",
    "#################### use old cosine method and use parameter search to learn distance cutoff for each SDG?\n",
    "    # define final results table\n",
    "    results_df = pd.DataFrame()\n",
    "    results_df['text'] = text_lst\n",
    "    results_df['sdg'] = X['sdg']\n",
    "    results_df['sdg_probability'] = X['sdg_probability']\n",
    "    # calculate pairwise cosine similarity between targets and text list\n",
    "    similarity_ar = cosine_similarity(X.loc[:, ~X.columns.isin(['sdg', 'sdg_probability'])], \n",
    "                                  Y.loc[:, ~Y.columns.isin(['sdg', 'target'])],\n",
    "                                 )\n",
    "    results_df['target_similarity'] = similarity_ar.tolist()\n",
    "    # select targets on distance sdg and threshold\n",
    "    targets_ar = np.array(Y['target'])\n",
    "    targets_full_ar = np.tile(targets_ar, (len(d), 1)) # expand to make full column##########################\n",
    "    sdg_ar = np.array(Y['sdg'])\n",
    "    sdg_full_ar = np.tile(sdg_ar, (len(d), 1)) # expand to make full column##########################\n",
    "    \n",
    "    \n",
    "    # (dist_ar>=target_threshold_val)\n",
    "    \n",
    "    return results_df, targets_ar, sdg_ar, similarity_ar"
   ]
  },
  {
   "cell_type": "code",
   "execution_count": 68,
   "id": "6aa86020-a2fd-4983-a1d6-cc421968c9f5",
   "metadata": {
    "execution": {
     "iopub.execute_input": "2022-08-30T16:27:01.986022Z",
     "iopub.status.busy": "2022-08-30T16:27:01.986022Z",
     "iopub.status.idle": "2022-08-30T16:27:01.996025Z",
     "shell.execute_reply": "2022-08-30T16:27:01.995027Z",
     "shell.execute_reply.started": "2022-08-30T16:27:01.986022Z"
    },
    "tags": []
   },
   "outputs": [
    {
     "data": {
      "text/plain": [
       "array([ 1,  1,  1,  1,  1,  1,  1,  2,  2,  2,  2,  2,  2,  2,  2,  3,  3,\n",
       "        3,  3,  3,  3,  3,  3,  3,  3,  3,  3,  3,  4,  4,  4,  4,  4,  4,\n",
       "        4,  4,  4,  4,  5,  5,  5,  5,  5,  5,  5,  5,  5,  6,  6,  6,  6,\n",
       "        6,  6,  6,  6,  7,  7,  7,  7,  7,  8,  8,  8,  8,  8,  8,  8,  8,\n",
       "        8,  8,  8,  8,  9,  9,  9,  9,  9,  9,  9,  9, 10, 10, 10, 10, 10,\n",
       "       10, 10, 10, 10, 10, 11, 11, 11, 11, 11, 11, 11, 11, 11, 11, 12, 12,\n",
       "       12, 12, 12, 12, 12, 12, 12, 12, 12, 13, 13, 13, 13, 13, 14, 14, 14,\n",
       "       14, 14, 14, 14, 14, 14, 14, 15, 15, 15, 15, 15, 15, 15, 15, 15, 15,\n",
       "       15, 15, 16, 16, 16, 16, 16, 16, 16, 16, 16, 16, 16, 16, 17, 17, 17,\n",
       "       17, 17, 17, 17, 17, 17, 17, 17, 17, 17, 17, 17, 17, 17, 17, 17],\n",
       "      dtype=int64)"
      ]
     },
     "execution_count": 68,
     "metadata": {},
     "output_type": "execute_result"
    }
   ],
   "source": [
    "c"
   ]
  },
  {
   "cell_type": "code",
   "execution_count": 77,
   "id": "391eae7e-e308-40ad-93eb-c9d4062518f3",
   "metadata": {
    "execution": {
     "iopub.execute_input": "2022-08-30T16:27:52.549911Z",
     "iopub.status.busy": "2022-08-30T16:27:52.549911Z",
     "iopub.status.idle": "2022-08-30T16:27:52.560903Z",
     "shell.execute_reply": "2022-08-30T16:27:52.559908Z",
     "shell.execute_reply.started": "2022-08-30T16:27:52.549911Z"
    },
    "tags": []
   },
   "outputs": [],
   "source": [
    "sdg_full_ar = np.tile(c, (10,1))"
   ]
  },
  {
   "cell_type": "code",
   "execution_count": 60,
   "id": "e8464e36-88f8-4558-a7c9-f264ae7304ec",
   "metadata": {
    "execution": {
     "iopub.execute_input": "2022-08-30T16:26:29.751927Z",
     "iopub.status.busy": "2022-08-30T16:26:29.751927Z",
     "iopub.status.idle": "2022-08-30T16:26:29.762948Z",
     "shell.execute_reply": "2022-08-30T16:26:29.761942Z",
     "shell.execute_reply.started": "2022-08-30T16:26:29.751927Z"
    },
    "tags": []
   },
   "outputs": [
    {
     "data": {
      "text/plain": [
       "(10,)"
      ]
     },
     "execution_count": 60,
     "metadata": {},
     "output_type": "execute_result"
    }
   ],
   "source": [
    "sdg_select_ar.shape"
   ]
  },
  {
   "cell_type": "code",
   "execution_count": 86,
   "id": "2710fcc4-3576-47c4-9a8d-34e95905ad3f",
   "metadata": {
    "execution": {
     "iopub.execute_input": "2022-08-30T16:30:45.386483Z",
     "iopub.status.busy": "2022-08-30T16:30:45.386483Z",
     "iopub.status.idle": "2022-08-30T16:30:45.391474Z",
     "shell.execute_reply": "2022-08-30T16:30:45.391474Z",
     "shell.execute_reply.started": "2022-08-30T16:30:45.386483Z"
    },
    "tags": []
   },
   "outputs": [],
   "source": [
    "sdg_onehot_ar = np.array([])\n",
    "for i in len(sdg_full_ar):\n",
    "    isin_ar = np.isin(sdg_full_ar[i], sdg_select_ar[i])\n",
    "    np.vstack((a,b))\n"
   ]
  },
  {
   "cell_type": "code",
   "execution_count": 85,
   "id": "2d4c1d67-3417-4deb-b550-5395a42b5bb0",
   "metadata": {
    "execution": {
     "iopub.execute_input": "2022-08-30T16:29:49.537535Z",
     "iopub.status.busy": "2022-08-30T16:29:49.536545Z",
     "iopub.status.idle": "2022-08-30T16:29:49.549518Z",
     "shell.execute_reply": "2022-08-30T16:29:49.548515Z",
     "shell.execute_reply.started": "2022-08-30T16:29:49.537535Z"
    },
    "tags": []
   },
   "outputs": [
    {
     "data": {
      "text/plain": [
       "array(['3.1', '3.2', '3.3', '3.4', '3.5', '3.6', '3.7', '3.8', '3.9',\n",
       "       '3.a', '3.b', '3.c', '3.d', '7.1', '7.2', '7.3', '7.a', '7.b',\n",
       "       '9.1', '9.2', '9.3', '9.4', '9.5', '9.a', '9.b', '9.c', '16.1',\n",
       "       '16.2', '16.3', '16.4', '16.5', '16.6', '16.7', '16.8', '16.9',\n",
       "       '16.10', '16.a', '16.b'], dtype=object)"
      ]
     },
     "execution_count": 85,
     "metadata": {},
     "output_type": "execute_result"
    }
   ],
   "source": [
    "b[isin_ar]"
   ]
  },
  {
   "cell_type": "code",
   "execution_count": 89,
   "id": "cbc75df6-578e-4060-9902-1ecb2d2d2efd",
   "metadata": {
    "execution": {
     "iopub.execute_input": "2022-08-30T16:31:00.394425Z",
     "iopub.status.busy": "2022-08-30T16:31:00.394425Z",
     "iopub.status.idle": "2022-08-30T16:31:00.415440Z",
     "shell.execute_reply": "2022-08-30T16:31:00.414444Z",
     "shell.execute_reply.started": "2022-08-30T16:31:00.394425Z"
    },
    "tags": []
   },
   "outputs": [
    {
     "data": {
      "text/plain": [
       "array([False, False, False, False, False, False, False, False, False,\n",
       "       False, False, False, False, False, False, False, False, False,\n",
       "       False, False, False, False, False, False, False, False, False,\n",
       "       False, False, False, False, False, False, False, False, False,\n",
       "       False, False, False, False, False, False, False, False, False,\n",
       "       False, False, False, False, False, False, False, False, False,\n",
       "       False, False, False, False, False, False, False, False, False,\n",
       "       False, False, False, False, False, False, False, False, False,\n",
       "       False, False, False, False, False, False, False, False, False,\n",
       "       False, False, False, False, False, False, False, False, False,\n",
       "       False, False, False, False, False, False, False, False, False,\n",
       "       False, False, False, False, False, False, False, False, False,\n",
       "       False, False, False, False, False, False, False, False, False,\n",
       "       False, False, False, False, False, False, False, False, False,\n",
       "       False, False, False, False, False, False, False, False, False,\n",
       "       False, False, False, False, False, False, False, False, False,\n",
       "       False, False, False, False, False, False, False, False, False,\n",
       "       False, False, False, False, False, False, False, False, False,\n",
       "       False, False, False, False, False, False, False])"
      ]
     },
     "execution_count": 89,
     "metadata": {},
     "output_type": "execute_result"
    }
   ],
   "source": [
    "isin_ar[0]"
   ]
  },
  {
   "cell_type": "code",
   "execution_count": 52,
   "id": "9d9841c5-53c1-4005-8a02-12000bd5ad33",
   "metadata": {
    "execution": {
     "iopub.execute_input": "2022-08-30T16:24:38.528858Z",
     "iopub.status.busy": "2022-08-30T16:24:38.527868Z",
     "iopub.status.idle": "2022-08-30T16:24:38.533869Z",
     "shell.execute_reply": "2022-08-30T16:24:38.533869Z",
     "shell.execute_reply.started": "2022-08-30T16:24:38.528858Z"
    },
    "tags": []
   },
   "outputs": [
    {
     "data": {
      "text/plain": [
       "array([ 0,  3,  7,  9, 16], dtype=int64)"
      ]
     },
     "execution_count": 52,
     "metadata": {},
     "output_type": "execute_result"
    }
   ],
   "source": []
  },
  {
   "cell_type": "code",
   "execution_count": 8,
   "id": "598d90be-4681-42dd-982e-9e8a7ee2688a",
   "metadata": {
    "execution": {
     "iopub.execute_input": "2022-08-30T15:07:14.682398Z",
     "iopub.status.busy": "2022-08-30T15:07:14.682398Z",
     "iopub.status.idle": "2022-08-30T15:07:14.694395Z",
     "shell.execute_reply": "2022-08-30T15:07:14.693394Z",
     "shell.execute_reply.started": "2022-08-30T15:07:14.682398Z"
    },
    "tags": []
   },
   "outputs": [],
   "source": [
    "# create evaluation function for target function\n",
    "# create sweep for parameter tuning with wandb with evaluation and training fucntions\n",
    "# "
   ]
  },
  {
   "cell_type": "code",
   "execution_count": 25,
   "id": "f6834437-148d-49b5-8948-8fb1718de944",
   "metadata": {
    "collapsed": true,
    "execution": {
     "iopub.execute_input": "2022-08-30T15:40:22.457760Z",
     "iopub.status.busy": "2022-08-30T15:40:22.457760Z",
     "iopub.status.idle": "2022-08-30T15:40:47.171478Z",
     "shell.execute_reply": "2022-08-30T15:40:47.171478Z",
     "shell.execute_reply.started": "2022-08-30T15:40:22.457760Z"
    },
    "jupyter": {
     "outputs_hidden": true
    },
    "tags": []
   },
   "outputs": [
    {
     "name": "stderr",
     "output_type": "stream",
     "text": [
      "Some weights of the model checkpoint at gpt2 were not used when initializing GPT2ForTextRepresentation: ['h.2.ln_1.weight', 'h.2.ln_1.bias', 'h.4.mlp.c_proj.weight', 'h.0.attn.bias', 'h.0.ln_1.weight', 'h.0.mlp.c_fc.bias', 'h.4.mlp.c_fc.bias', 'h.4.mlp.c_proj.bias', 'h.11.mlp.c_fc.bias', 'h.10.attn.c_proj.bias', 'h.7.attn.c_attn.bias', 'h.8.attn.c_proj.bias', 'h.9.ln_1.weight', 'h.9.attn.c_attn.weight', 'h.5.ln_1.bias', 'h.8.attn.c_attn.bias', 'h.1.attn.c_attn.bias', 'h.0.ln_2.weight', 'h.11.attn.c_proj.weight', 'h.11.mlp.c_fc.weight', 'h.8.attn.bias', 'h.11.attn.c_attn.weight', 'h.2.mlp.c_proj.weight', 'h.2.ln_2.weight', 'h.10.attn.c_attn.bias', 'h.4.mlp.c_fc.weight', 'h.7.attn.c_attn.weight', 'h.3.mlp.c_fc.weight', 'wte.weight', 'h.3.ln_1.weight', 'h.10.ln_2.bias', 'h.0.ln_1.bias', 'h.1.ln_1.weight', 'h.7.ln_2.bias', 'h.6.attn.c_proj.weight', 'h.10.ln_1.bias', 'h.9.mlp.c_proj.bias', 'ln_f.bias', 'h.3.mlp.c_fc.bias', 'h.5.attn.c_attn.bias', 'h.6.attn.c_attn.bias', 'h.1.mlp.c_proj.weight', 'h.4.attn.c_attn.weight', 'h.5.attn.c_proj.weight', 'h.10.ln_1.weight', 'h.4.attn.c_proj.weight', 'h.3.ln_2.bias', 'h.7.ln_1.weight', 'h.3.attn.bias', 'h.1.ln_2.bias', 'h.6.attn.c_proj.bias', 'h.1.mlp.c_proj.bias', 'h.7.attn.bias', 'h.7.attn.c_proj.weight', 'h.11.attn.c_attn.bias', 'h.8.mlp.c_fc.weight', 'h.7.attn.c_proj.bias', 'h.9.mlp.c_fc.weight', 'h.0.mlp.c_proj.bias', 'h.8.mlp.c_fc.bias', 'h.4.ln_1.weight', 'h.5.ln_2.bias', 'h.7.mlp.c_fc.bias', 'h.9.attn.c_proj.weight', 'h.9.mlp.c_proj.weight', 'h.7.ln_2.weight', 'h.1.ln_2.weight', 'h.11.attn.bias', 'h.11.ln_2.bias', 'h.1.attn.bias', 'h.1.attn.c_proj.bias', 'h.3.ln_1.bias', 'h.9.attn.c_proj.bias', 'h.11.ln_2.weight', 'h.10.ln_2.weight', 'h.11.mlp.c_proj.weight', 'h.8.ln_2.weight', 'h.6.mlp.c_fc.bias', 'h.11.ln_1.bias', 'h.3.attn.c_proj.weight', 'h.10.mlp.c_proj.bias', 'h.1.ln_1.bias', 'h.8.attn.c_attn.weight', 'h.6.mlp.c_proj.weight', 'h.1.mlp.c_fc.bias', 'h.5.mlp.c_fc.weight', 'h.6.attn.c_attn.weight', 'h.7.mlp.c_fc.weight', 'h.2.attn.c_attn.weight', 'h.9.attn.c_attn.bias', 'h.5.mlp.c_fc.bias', 'h.0.attn.c_proj.bias', 'h.5.mlp.c_proj.weight', 'h.6.ln_1.bias', 'h.9.attn.bias', 'h.7.mlp.c_proj.weight', 'h.0.attn.c_attn.weight', 'h.0.attn.c_attn.bias', 'h.10.attn.c_proj.weight', 'h.6.attn.bias', 'h.2.ln_2.bias', 'h.8.mlp.c_proj.bias', 'h.11.ln_1.weight', 'h.3.mlp.c_proj.bias', 'h.2.attn.c_proj.bias', 'h.4.attn.c_proj.bias', 'h.11.attn.c_proj.bias', 'h.5.mlp.c_proj.bias', 'h.8.attn.c_proj.weight', 'h.9.ln_2.weight', 'h.2.mlp.c_fc.bias', 'h.4.ln_1.bias', 'h.10.attn.bias', 'h.0.mlp.c_fc.weight', 'h.10.mlp.c_fc.bias', 'h.9.mlp.c_fc.bias', 'h.7.ln_1.bias', 'h.2.mlp.c_proj.bias', 'h.9.ln_2.bias', 'h.2.attn.bias', 'h.8.mlp.c_proj.weight', 'h.3.attn.c_attn.bias', 'h.3.ln_2.weight', 'h.3.mlp.c_proj.weight', 'h.0.attn.c_proj.weight', 'h.4.ln_2.bias', 'h.0.ln_2.bias', 'h.4.attn.c_attn.bias', 'h.3.attn.c_attn.weight', 'h.4.ln_2.weight', 'ln_f.weight', 'h.6.ln_1.weight', 'h.8.ln_2.bias', 'h.11.mlp.c_proj.bias', 'h.2.attn.c_attn.bias', 'h.10.mlp.c_proj.weight', 'wpe.weight', 'h.2.mlp.c_fc.weight', 'h.6.ln_2.bias', 'h.7.mlp.c_proj.bias', 'h.6.ln_2.weight', 'h.6.mlp.c_fc.weight', 'h.4.attn.bias', 'h.3.attn.c_proj.bias', 'h.5.ln_2.weight', 'h.9.ln_1.bias', 'h.1.attn.c_proj.weight', 'h.1.attn.c_attn.weight', 'h.5.ln_1.weight', 'h.6.mlp.c_proj.bias', 'h.0.mlp.c_proj.weight', 'h.10.mlp.c_fc.weight', 'h.5.attn.bias', 'h.5.attn.c_attn.weight', 'h.8.ln_1.weight', 'h.10.attn.c_attn.weight', 'h.1.mlp.c_fc.weight', 'h.2.attn.c_proj.weight', 'h.5.attn.c_proj.bias', 'h.8.ln_1.bias']\n",
      "- This IS expected if you are initializing GPT2ForTextRepresentation from the checkpoint of a model trained on another task or with another architecture (e.g. initializing a BertForSequenceClassification model from a BertForPreTraining model).\n",
      "- This IS NOT expected if you are initializing GPT2ForTextRepresentation from the checkpoint of a model that you expect to be exactly identical (initializing a BertForSequenceClassification model from a BertForSequenceClassification model).\n",
      "Some weights of GPT2ForTextRepresentation were not initialized from the model checkpoint at gpt2 and are newly initialized: ['gpt2.h.8.attn.c_proj.weight', 'gpt2.h.11.ln_1.weight', 'gpt2.h.3.attn.c_attn.weight', 'gpt2.h.9.mlp.c_fc.bias', 'gpt2.h.5.mlp.c_proj.bias', 'gpt2.h.2.attn.c_proj.bias', 'gpt2.h.10.ln_2.bias', 'gpt2.h.7.attn.c_proj.bias', 'gpt2.h.0.attn.bias', 'gpt2.h.8.ln_1.bias', 'gpt2.h.3.mlp.c_fc.weight', 'gpt2.h.9.attn.c_proj.weight', 'gpt2.h.11.attn.c_attn.weight', 'gpt2.h.4.attn.bias', 'gpt2.h.3.ln_2.weight', 'gpt2.h.10.attn.c_proj.weight', 'gpt2.h.5.mlp.c_fc.weight', 'gpt2.h.8.ln_1.weight', 'gpt2.h.4.attn.c_attn.bias', 'gpt2.h.3.attn.bias', 'gpt2.h.2.ln_2.weight', 'gpt2.h.7.attn.masked_bias', 'gpt2.h.1.ln_2.weight', 'gpt2.h.10.mlp.c_proj.weight', 'gpt2.h.1.mlp.c_proj.bias', 'gpt2.h.3.attn.c_proj.bias', 'gpt2.h.1.attn.bias', 'gpt2.h.4.mlp.c_fc.weight', 'gpt2.h.2.attn.bias', 'gpt2.h.6.ln_2.weight', 'gpt2.h.2.attn.c_attn.weight', 'gpt2.h.5.attn.c_proj.bias', 'gpt2.h.5.attn.bias', 'gpt2.h.2.mlp.c_fc.bias', 'gpt2.h.7.ln_1.weight', 'gpt2.h.3.attn.c_proj.weight', 'gpt2.h.2.attn.c_proj.weight', 'gpt2.h.8.attn.c_proj.bias', 'gpt2.h.10.mlp.c_fc.bias', 'gpt2.h.0.ln_2.weight', 'gpt2.ln_f.weight', 'gpt2.h.6.attn.c_attn.weight', 'gpt2.h.4.ln_1.bias', 'gpt2.h.1.mlp.c_proj.weight', 'gpt2.h.3.attn.c_attn.bias', 'gpt2.h.6.attn.c_attn.bias', 'gpt2.h.5.attn.masked_bias', 'gpt2.h.11.mlp.c_proj.weight', 'gpt2.h.2.mlp.c_fc.weight', 'gpt2.h.1.ln_1.bias', 'gpt2.h.9.ln_2.bias', 'gpt2.h.11.ln_2.bias', 'gpt2.h.3.ln_2.bias', 'gpt2.h.6.attn.c_proj.bias', 'gpt2.h.6.attn.masked_bias', 'gpt2.h.2.mlp.c_proj.bias', 'gpt2.h.0.ln_1.weight', 'gpt2.h.2.ln_1.bias', 'gpt2.h.7.ln_1.bias', 'gpt2.h.6.mlp.c_proj.weight', 'gpt2.h.9.mlp.c_proj.weight', 'gpt2.h.7.attn.bias', 'gpt2.h.4.ln_2.weight', 'gpt2.h.1.attn.c_attn.weight', 'gpt2.h.4.mlp.c_proj.bias', 'gpt2.h.11.attn.c_proj.bias', 'gpt2.h.3.mlp.c_proj.weight', 'gpt2.h.11.attn.masked_bias', 'gpt2.h.0.attn.masked_bias', 'gpt2.h.4.ln_2.bias', 'gpt2.h.1.ln_1.weight', 'gpt2.h.8.attn.masked_bias', 'gpt2.h.7.attn.c_proj.weight', 'gpt2.h.7.mlp.c_fc.bias', 'gpt2.h.4.attn.c_attn.weight', 'gpt2.h.6.ln_2.bias', 'gpt2.h.7.mlp.c_proj.weight', 'gpt2.h.4.attn.c_proj.bias', 'gpt2.h.10.mlp.c_proj.bias', 'gpt2.h.10.attn.c_attn.bias', 'gpt2.h.6.ln_1.bias', 'gpt2.h.1.attn.c_proj.bias', 'gpt2.h.0.attn.c_attn.weight', 'gpt2.h.6.mlp.c_proj.bias', 'gpt2.wte.weight', 'gpt2.h.11.mlp.c_fc.weight', 'gpt2.h.7.ln_2.weight', 'gpt2.h.0.ln_1.bias', 'gpt2.h.8.mlp.c_proj.weight', 'gpt2.h.0.mlp.c_proj.weight', 'gpt2.h.1.attn.c_proj.weight', 'gpt2.h.4.mlp.c_fc.bias', 'gpt2.h.3.ln_1.weight', 'gpt2.h.8.attn.c_attn.weight', 'gpt2.h.7.mlp.c_fc.weight', 'gpt2.h.9.ln_1.bias', 'gpt2.h.11.mlp.c_fc.bias', 'gpt2.h.6.ln_1.weight', 'gpt2.h.2.ln_1.weight', 'gpt2.h.11.attn.bias', 'gpt2.h.2.ln_2.bias', 'gpt2.h.5.attn.c_attn.bias', 'gpt2.h.3.mlp.c_proj.bias', 'gpt2.h.8.ln_2.bias', 'gpt2.h.1.ln_2.bias', 'gpt2.h.9.attn.c_attn.bias', 'gpt2.h.3.mlp.c_fc.bias', 'gpt2.ln_f.bias', 'gpt2.h.8.mlp.c_proj.bias', 'gpt2.h.6.mlp.c_fc.weight', 'gpt2.h.1.mlp.c_fc.weight', 'gpt2.h.4.attn.c_proj.weight', 'gpt2.h.8.mlp.c_fc.weight', 'gpt2.h.0.mlp.c_fc.weight', 'gpt2.h.2.attn.c_attn.bias', 'gpt2.h.5.attn.c_proj.weight', 'gpt2.h.7.mlp.c_proj.bias', 'gpt2.h.1.attn.c_attn.bias', 'gpt2.h.5.ln_2.weight', 'gpt2.h.2.mlp.c_proj.weight', 'gpt2.h.6.mlp.c_fc.bias', 'gpt2.h.10.ln_2.weight', 'gpt2.h.7.ln_2.bias', 'gpt2.h.9.ln_1.weight', 'gpt2.h.4.mlp.c_proj.weight', 'gpt2.h.9.attn.masked_bias', 'gpt2.h.11.ln_1.bias', 'gpt2.h.11.mlp.c_proj.bias', 'gpt2.h.3.ln_1.bias', 'gpt2.h.9.ln_2.weight', 'gpt2.h.1.attn.masked_bias', 'gpt2.h.1.mlp.c_fc.bias', 'gpt2.h.0.mlp.c_fc.bias', 'gpt2.h.8.ln_2.weight', 'gpt2.h.0.ln_2.bias', 'gpt2.h.7.attn.c_attn.bias', 'gpt2.h.11.ln_2.weight', 'gpt2.h.8.attn.c_attn.bias', 'gpt2.h.0.mlp.c_proj.bias', 'gpt2.h.10.attn.c_attn.weight', 'gpt2.h.9.mlp.c_fc.weight', 'gpt2.h.11.attn.c_proj.weight', 'gpt2.h.5.mlp.c_fc.bias', 'gpt2.h.3.attn.masked_bias', 'gpt2.h.5.ln_1.weight', 'gpt2.h.6.attn.c_proj.weight', 'gpt2.h.0.attn.c_attn.bias', 'gpt2.h.9.attn.c_proj.bias', 'gpt2.h.4.attn.masked_bias', 'gpt2.h.8.attn.bias', 'gpt2.h.11.attn.c_attn.bias', 'gpt2.h.4.ln_1.weight', 'gpt2.h.10.attn.bias', 'gpt2.h.10.ln_1.weight', 'gpt2.h.7.attn.c_attn.weight', 'gpt2.h.6.attn.bias', 'gpt2.h.10.attn.c_proj.bias', 'gpt2.h.9.attn.c_attn.weight', 'gpt2.h.10.attn.masked_bias', 'gpt2.h.9.mlp.c_proj.bias', 'gpt2.h.8.mlp.c_fc.bias', 'gpt2.h.5.attn.c_attn.weight', 'gpt2.h.2.attn.masked_bias', 'gpt2.h.5.mlp.c_proj.weight', 'gpt2.h.5.ln_1.bias', 'gpt2.h.10.mlp.c_fc.weight', 'gpt2.h.0.attn.c_proj.bias', 'gpt2.wpe.weight', 'gpt2.h.10.ln_1.bias', 'gpt2.h.9.attn.bias', 'gpt2.h.0.attn.c_proj.weight', 'gpt2.h.5.ln_2.bias']\n",
      "You should probably TRAIN this model on a down-stream task to be able to use it for predictions and inference.\n"
     ]
    },
    {
     "data": {
      "application/vnd.jupyter.widget-view+json": {
       "model_id": "b7aa094e952649f89a4d941838d2f07a",
       "version_major": 2,
       "version_minor": 0
      },
      "text/plain": [
       "  0%|          | 0/10 [00:00<?, ?it/s]"
      ]
     },
     "metadata": {},
     "output_type": "display_data"
    },
    {
     "data": {
      "application/vnd.jupyter.widget-view+json": {
       "model_id": "eb47c296fe5744f78a7e55ab3f3a1444",
       "version_major": 2,
       "version_minor": 0
      },
      "text/plain": [
       "  0%|          | 0/1 [00:00<?, ?it/s]"
      ]
     },
     "metadata": {},
     "output_type": "display_data"
    },
    {
     "data": {
      "image/png": "[encoded data removed]",
      "text/plain": [
       "<Figure size 432x288 with 2 Axes>"
      ]
     },
     "metadata": {
      "needs_background": "light"
     },
     "output_type": "display_data"
    }
   ],
   "source": [
    "a,b,c,d = classify_sdg_target(data.iloc[-10:,:]['abstract'].tolist(), run_isomap=True)"
   ]
  },
  {
   "cell_type": "code",
   "execution_count": null,
   "id": "02052a80-7128-47de-8902-06f3d9406a0c",
   "metadata": {
    "execution": {
     "iopub.status.busy": "2022-08-30T15:06:34.940993Z",
     "iopub.status.idle": "2022-08-30T15:06:34.940993Z",
     "shell.execute_reply": "2022-08-30T15:06:34.940993Z",
     "shell.execute_reply.started": "2022-08-30T15:06:34.940993Z"
    },
    "tags": []
   },
   "outputs": [],
   "source": [
    "# modify function to be used for testing both sdg and target classification"
   ]
  }
 ],
 "metadata": {
  "kernelspec": {
   "display_name": "Python 3 (ipykernel)",
   "language": "python",
   "name": "python3"
  },
  "language_info": {
   "codemirror_mode": {
    "name": "ipython",
    "version": 3
   },
   "file_extension": ".py",
   "mimetype": "text/x-python",
   "name": "python",
   "nbconvert_exporter": "python",
   "pygments_lexer": "ipython3",
   "version": "3.9.12"
  }
 },
 "nbformat": 4,
 "nbformat_minor": 5
}
