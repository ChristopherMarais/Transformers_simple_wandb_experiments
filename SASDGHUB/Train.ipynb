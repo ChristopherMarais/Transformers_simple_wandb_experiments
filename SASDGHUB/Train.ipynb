{
 "cells": [
  {
   "cell_type": "markdown",
   "id": "ecced938-c225-4f12-b565-3d73b9329857",
   "metadata": {},
   "source": [
    "# Train\n",
    "\n",
    "this script is to train the model after the parameters have been optimised.\n",
    "The final model is output to the output directory in the current directory. This can be changed as described in the [Simple transformers docs](https://simpletransformers.ai/docs/installation/).\n",
    "THis script also shows how the target classification can be prepared/trained.\n",
    "\n",
    "### SDG Classifier"
   ]
  },
  {
   "cell_type": "code",
   "execution_count": 1,
   "id": "ee564013-69a3-4853-98fe-6c2a00844ebd",
   "metadata": {
    "execution": {
     "iopub.execute_input": "2022-08-29T04:46:45.567859Z",
     "iopub.status.busy": "2022-08-29T04:46:45.567859Z",
     "iopub.status.idle": "2022-08-29T04:46:50.260026Z",
     "shell.execute_reply": "2022-08-29T04:46:50.259030Z",
     "shell.execute_reply.started": "2022-08-29T04:46:45.567859Z"
    },
    "tags": []
   },
   "outputs": [],
   "source": [
    "import wandb\n",
    "import torch\n",
    "import sklearn\n",
    "import itertools\n",
    "import numpy as np\n",
    "import pandas as pd\n",
    "import logging\n",
    "import matplotlib.pyplot as plt\n",
    "import seaborn as sns\n",
    "from sklearn.model_selection import train_test_split\n",
    "from simpletransformers.classification import MultiLabelClassificationModel, MultiLabelClassificationArgs"
   ]
  },
  {
   "cell_type": "code",
   "execution_count": 2,
   "id": "43217174-039a-41fa-9ab1-0441bc061dd5",
   "metadata": {
    "execution": {
     "iopub.execute_input": "2022-08-29T04:46:50.262010Z",
     "iopub.status.busy": "2022-08-29T04:46:50.262010Z",
     "iopub.status.idle": "2022-08-29T04:46:50.831009Z",
     "shell.execute_reply": "2022-08-29T04:46:50.830020Z",
     "shell.execute_reply.started": "2022-08-29T04:46:50.262010Z"
    },
    "tags": []
   },
   "outputs": [],
   "source": [
    "# see GPU avaialability\n",
    "cuda_available = torch.cuda.is_available()"
   ]
  },
  {
   "cell_type": "code",
   "execution_count": 3,
   "id": "2410685e-4550-4080-aa6b-74b1cce94dfc",
   "metadata": {
    "execution": {
     "iopub.execute_input": "2022-08-29T04:46:50.832014Z",
     "iopub.status.busy": "2022-08-29T04:46:50.832014Z",
     "iopub.status.idle": "2022-08-29T04:46:51.736011Z",
     "shell.execute_reply": "2022-08-29T04:46:51.735013Z",
     "shell.execute_reply.started": "2022-08-29T04:46:50.832014Z"
    },
    "tags": []
   },
   "outputs": [
    {
     "name": "stdout",
     "output_type": "stream",
     "text": [
      "% PER CLASS:\n",
      "\n",
      " SDG1      4.995375\n",
      "SDG2      4.687018\n",
      "SDG3      5.087882\n",
      "SDG4      3.669442\n",
      "SDG5      4.687018\n",
      "SDG6      5.026210\n",
      "SDG7      5.272895\n",
      "SDG8      6.259636\n",
      "SDG9      5.735430\n",
      "SDG10     5.550416\n",
      "SDG11     4.347826\n",
      "SDG12     5.889608\n",
      "SDG13    10.730805\n",
      "SDG14     5.365402\n",
      "SDG15     6.475486\n",
      "SDG16     5.550416\n",
      "SDG17    10.669134\n",
      "dtype: float64\n"
     ]
    },
    {
     "data": {
      "image/png": "[encoded data removed]",
      "text/plain": [
       "<Figure size 432x288 with 1 Axes>"
      ]
     },
     "metadata": {
      "needs_background": "light"
     },
     "output_type": "display_data"
    }
   ],
   "source": [
    "# import data\n",
    "data = pd.read_csv('OneHot_Combined_cln_utf8.tsv', sep='\\t')\n",
    "data = data[data['source']!='SASDG_Hub'] #keep the articles classified by Willem separate as an unseen testing set\n",
    "data = data.iloc[-1000:,:] # select a small subset of the data (last 1000 rows)\n",
    "\n",
    "# reformat data\n",
    "sdg_lst = ['SDG1','SDG2','SDG3','SDG4','SDG5','SDG6','SDG7','SDG8','SDG9','SDG10','SDG11','SDG12','SDG13','SDG14','SDG15','SDG16','SDG17']\n",
    "data['y'] = data[sdg_lst].values.tolist()\n",
    "y = data['y']\n",
    "X = data['abstract']\n",
    "\n",
    "# plot ratio of data\n",
    "class_weight = (data[sdg_lst].sum()/ data[sdg_lst].sum().sum())\n",
    "print('% PER CLASS:\\n\\n', class_weight*100)\n",
    "data[sdg_lst].sum().plot.bar()\n",
    "\n",
    "# split data\n",
    "X_train, X_val, y_train, y_val = train_test_split(X, y, test_size=0.3, random_state=42)\n",
    "\n",
    "# add data to dataframes\n",
    "train_df = pd.DataFrame()\n",
    "train_df['text'] = X_train\n",
    "train_df['labels'] = y_train\n",
    "train_df.reset_index(inplace=True, drop=True)\n",
    "\n",
    "eval_df = pd.DataFrame()\n",
    "eval_df['text'] = X_val\n",
    "eval_df['labels'] = y_val\n",
    "eval_df.reset_index(inplace=True, drop=True)\n",
    "\n",
    "# get number of classes\n",
    "label_count = len(sdg_lst)"
   ]
  },
  {
   "cell_type": "code",
   "execution_count": 4,
   "id": "583face1-70f2-44ad-a913-1d66137b0afc",
   "metadata": {
    "execution": {
     "iopub.execute_input": "2022-08-29T04:46:51.737008Z",
     "iopub.status.busy": "2022-08-29T04:46:51.737008Z",
     "iopub.status.idle": "2022-08-29T04:56:23.781362Z",
     "shell.execute_reply": "2022-08-29T04:56:23.780361Z",
     "shell.execute_reply.started": "2022-08-29T04:46:51.737008Z"
    },
    "tags": []
   },
   "outputs": [
    {
     "name": "stderr",
     "output_type": "stream",
     "text": [
      "Some weights of the model checkpoint at xlnet-base-cased were not used when initializing XLNetForMultiLabelSequenceClassification: ['lm_loss.bias', 'lm_loss.weight']\n",
      "- This IS expected if you are initializing XLNetForMultiLabelSequenceClassification from the checkpoint of a model trained on another task or with another architecture (e.g. initializing a BertForSequenceClassification model from a BertForPreTraining model).\n",
      "- This IS NOT expected if you are initializing XLNetForMultiLabelSequenceClassification from the checkpoint of a model that you expect to be exactly identical (initializing a BertForSequenceClassification model from a BertForSequenceClassification model).\n",
      "Some weights of XLNetForMultiLabelSequenceClassification were not initialized from the model checkpoint at xlnet-base-cased and are newly initialized: ['sequence_summary.summary.bias', 'logits_proj.bias', 'logits_proj.weight', 'sequence_summary.summary.weight']\n",
      "You should probably TRAIN this model on a down-stream task to be able to use it for predictions and inference.\n",
      "INFO:simpletransformers.classification.classification_utils: Converting to features started. Cache is not used.\n"
     ]
    },
    {
     "data": {
      "application/vnd.jupyter.widget-view+json": {
       "model_id": "c3b95c2c073946c8b692f2660bbf3825",
       "version_major": 2,
       "version_minor": 0
      },
      "text/plain": [
       "  0%|          | 0/700 [00:00<?, ?it/s]"
      ]
     },
     "metadata": {},
     "output_type": "display_data"
    },
    {
     "name": "stderr",
     "output_type": "stream",
     "text": [
      "INFO:simpletransformers.classification.classification_utils: Saving features into cached file cache_dir/cached_train_xlnet_128_0_2\n",
      "C:\\ProgramData\\Anaconda3\\envs\\NLP\\lib\\site-packages\\transformers\\optimization.py:306: FutureWarning: This implementation of AdamW is deprecated and will be removed in a future version. Use the PyTorch implementation torch.optim.AdamW instead, or set `no_deprecation_warning=True` to disable this warning\n",
      "  warnings.warn(\n"
     ]
    },
    {
     "data": {
      "application/vnd.jupyter.widget-view+json": {
       "model_id": "4472751ff36e4fa0b3be5ebe3417dd2b",
       "version_major": 2,
       "version_minor": 0
      },
      "text/plain": [
       "Epoch:   0%|          | 0/5 [00:00<?, ?it/s]"
      ]
     },
     "metadata": {},
     "output_type": "display_data"
    },
    {
     "name": "stderr",
     "output_type": "stream",
     "text": [
      "INFO:simpletransformers.classification.classification_model: Initializing WandB run for training.\n",
      "\u001b[34m\u001b[1mwandb\u001b[0m: Currently logged in as: \u001b[33mchristopher-marais\u001b[0m (\u001b[33msasdghub\u001b[0m). Use \u001b[1m`wandb login --relogin`\u001b[0m to force relogin\n"
     ]
    },
    {
     "data": {
      "text/html": [
       "wandb version 0.13.2 is available!  To upgrade, please run:\n",
       " $ pip install wandb --upgrade"
      ],
      "text/plain": [
       "<IPython.core.display.HTML object>"
      ]
     },
     "metadata": {},
     "output_type": "display_data"
    },
    {
     "data": {
      "text/html": [
       "Tracking run with wandb version 0.13.1"
      ],
      "text/plain": [
       "<IPython.core.display.HTML object>"
      ]
     },
     "metadata": {},
     "output_type": "display_data"
    },
    {
     "data": {
      "text/html": [
       "Run data is saved locally in <code>C:\\Users\\gcmar\\Desktop\\GIT_REPOS\\Transformers_simple_wandb_experiments\\SASDGHUB\\wandb\\run-20220829_004703-2qs8x145</code>"
      ],
      "text/plain": [
       "<IPython.core.display.HTML object>"
      ]
     },
     "metadata": {},
     "output_type": "display_data"
    },
    {
     "data": {
      "text/html": [
       "Syncing run <strong><a href=\"https://wandb.ai/sasdghub/sasdghub_ml_classify/runs/2qs8x145\" target=\"_blank\">tough-brook-432</a></strong> to <a href=\"https://wandb.ai/sasdghub/sasdghub_ml_classify\" target=\"_blank\">Weights & Biases</a> (<a href=\"https://wandb.me/run\" target=\"_blank\">docs</a>)<br/>"
      ],
      "text/plain": [
       "<IPython.core.display.HTML object>"
      ]
     },
     "metadata": {},
     "output_type": "display_data"
    },
    {
     "data": {
      "application/vnd.jupyter.widget-view+json": {
       "model_id": "70c39c304c7c44d5833b223ac153a30e",
       "version_major": 2,
       "version_minor": 0
      },
      "text/plain": [
       "Running Epoch 0 of 5:   0%|          | 0/35 [00:00<?, ?it/s]"
      ]
     },
     "metadata": {},
     "output_type": "display_data"
    },
    {
     "name": "stderr",
     "output_type": "stream",
     "text": [
      "INFO:simpletransformers.classification.classification_utils: Converting to features started. Cache is not used.\n"
     ]
    },
    {
     "data": {
      "application/vnd.jupyter.widget-view+json": {
       "model_id": "4917899dda0d477e9616df45f774dab2",
       "version_major": 2,
       "version_minor": 0
      },
      "text/plain": [
       "  0%|          | 0/300 [00:00<?, ?it/s]"
      ]
     },
     "metadata": {},
     "output_type": "display_data"
    },
    {
     "name": "stderr",
     "output_type": "stream",
     "text": [
      "INFO:simpletransformers.classification.classification_utils: Saving features into cached file cache_dir/cached_dev_xlnet_128_0_2\n",
      "WARNING:simpletransformers.classification.classification_model:can't log value of type: <class 'wandb.viz.CustomChart'> to tensorboar\n"
     ]
    },
    {
     "data": {
      "application/vnd.jupyter.widget-view+json": {
       "model_id": "2f7409dcf09d411e970a3290a2eb44ae",
       "version_major": 2,
       "version_minor": 0
      },
      "text/plain": [
       "Running Epoch 1 of 5:   0%|          | 0/35 [00:00<?, ?it/s]"
      ]
     },
     "metadata": {},
     "output_type": "display_data"
    },
    {
     "name": "stderr",
     "output_type": "stream",
     "text": [
      "INFO:simpletransformers.classification.classification_utils: Converting to features started. Cache is not used.\n"
     ]
    },
    {
     "data": {
      "application/vnd.jupyter.widget-view+json": {
       "model_id": "f5bcde903e4c4517a40d042e81f570d4",
       "version_major": 2,
       "version_minor": 0
      },
      "text/plain": [
       "  0%|          | 0/300 [00:00<?, ?it/s]"
      ]
     },
     "metadata": {},
     "output_type": "display_data"
    },
    {
     "name": "stderr",
     "output_type": "stream",
     "text": [
      "INFO:simpletransformers.classification.classification_utils: Saving features into cached file cache_dir/cached_dev_xlnet_128_0_2\n",
      "WARNING:simpletransformers.classification.classification_model:can't log value of type: <class 'wandb.viz.CustomChart'> to tensorboar\n"
     ]
    },
    {
     "data": {
      "application/vnd.jupyter.widget-view+json": {
       "model_id": "d920b0baa67a46b486a9c61a9f638936",
       "version_major": 2,
       "version_minor": 0
      },
      "text/plain": [
       "Running Epoch 2 of 5:   0%|          | 0/35 [00:00<?, ?it/s]"
      ]
     },
     "metadata": {},
     "output_type": "display_data"
    },
    {
     "name": "stderr",
     "output_type": "stream",
     "text": [
      "INFO:simpletransformers.classification.classification_utils: Converting to features started. Cache is not used.\n"
     ]
    },
    {
     "data": {
      "application/vnd.jupyter.widget-view+json": {
       "model_id": "c38367f2527e415286e3b774a6d2c6f2",
       "version_major": 2,
       "version_minor": 0
      },
      "text/plain": [
       "  0%|          | 0/300 [00:00<?, ?it/s]"
      ]
     },
     "metadata": {},
     "output_type": "display_data"
    },
    {
     "name": "stderr",
     "output_type": "stream",
     "text": [
      "INFO:simpletransformers.classification.classification_utils: Saving features into cached file cache_dir/cached_dev_xlnet_128_0_2\n",
      "WARNING:simpletransformers.classification.classification_model:can't log value of type: <class 'wandb.viz.CustomChart'> to tensorboar\n"
     ]
    },
    {
     "data": {
      "application/vnd.jupyter.widget-view+json": {
       "model_id": "abc05477f8c44fb4be9c9c1b6b63f2ff",
       "version_major": 2,
       "version_minor": 0
      },
      "text/plain": [
       "Running Epoch 3 of 5:   0%|          | 0/35 [00:00<?, ?it/s]"
      ]
     },
     "metadata": {},
     "output_type": "display_data"
    },
    {
     "name": "stderr",
     "output_type": "stream",
     "text": [
      "INFO:simpletransformers.classification.classification_utils: Converting to features started. Cache is not used.\n"
     ]
    },
    {
     "data": {
      "application/vnd.jupyter.widget-view+json": {
       "model_id": "920faaf36d3c4908a8c2790715e979ef",
       "version_major": 2,
       "version_minor": 0
      },
      "text/plain": [
       "  0%|          | 0/300 [00:00<?, ?it/s]"
      ]
     },
     "metadata": {},
     "output_type": "display_data"
    },
    {
     "name": "stderr",
     "output_type": "stream",
     "text": [
      "INFO:simpletransformers.classification.classification_utils: Saving features into cached file cache_dir/cached_dev_xlnet_128_0_2\n",
      "WARNING:simpletransformers.classification.classification_model:can't log value of type: <class 'wandb.viz.CustomChart'> to tensorboar\n"
     ]
    },
    {
     "data": {
      "application/vnd.jupyter.widget-view+json": {
       "model_id": "95481dec008543108c19e39a25f0a359",
       "version_major": 2,
       "version_minor": 0
      },
      "text/plain": [
       "Running Epoch 4 of 5:   0%|          | 0/35 [00:00<?, ?it/s]"
      ]
     },
     "metadata": {},
     "output_type": "display_data"
    },
    {
     "name": "stderr",
     "output_type": "stream",
     "text": [
      "INFO:simpletransformers.classification.classification_utils: Converting to features started. Cache is not used.\n"
     ]
    },
    {
     "data": {
      "application/vnd.jupyter.widget-view+json": {
       "model_id": "7f045bb305f644968bc6a4c05beff32a",
       "version_major": 2,
       "version_minor": 0
      },
      "text/plain": [
       "  0%|          | 0/300 [00:00<?, ?it/s]"
      ]
     },
     "metadata": {},
     "output_type": "display_data"
    },
    {
     "name": "stderr",
     "output_type": "stream",
     "text": [
      "INFO:simpletransformers.classification.classification_utils: Saving features into cached file cache_dir/cached_dev_xlnet_128_0_2\n",
      "WARNING:simpletransformers.classification.classification_model:can't log value of type: <class 'wandb.viz.CustomChart'> to tensorboar\n",
      "INFO:simpletransformers.classification.classification_model: Training of xlnet model complete. Saved to outputs/.\n",
      "INFO:simpletransformers.classification.classification_utils: Converting to features started. Cache is not used.\n"
     ]
    },
    {
     "data": {
      "application/vnd.jupyter.widget-view+json": {
       "model_id": "4b080092bbc94a1faa9841b30087f1fe",
       "version_major": 2,
       "version_minor": 0
      },
      "text/plain": [
       "  0%|          | 0/300 [00:00<?, ?it/s]"
      ]
     },
     "metadata": {},
     "output_type": "display_data"
    },
    {
     "name": "stderr",
     "output_type": "stream",
     "text": [
      "INFO:simpletransformers.classification.classification_utils: Saving features into cached file cache_dir/cached_dev_xlnet_128_0_2\n"
     ]
    },
    {
     "data": {
      "application/vnd.jupyter.widget-view+json": {
       "model_id": "d206ee55440d496fb56655c72d0faff6",
       "version_major": 2,
       "version_minor": 0
      },
      "text/plain": [
       "Running Evaluation:   0%|          | 0/15 [00:00<?, ?it/s]"
      ]
     },
     "metadata": {},
     "output_type": "display_data"
    },
    {
     "name": "stderr",
     "output_type": "stream",
     "text": [
      "INFO:simpletransformers.classification.classification_model:{'LRAP': 0.8157172494203976, 'accuracy': 0.805882352941174, 'f1_macro': 0.011717171717171716, 'cm': array([[[244,   0],\n",
      "        [ 56,   0]],\n",
      "\n",
      "       [[248,   0],\n",
      "        [ 52,   0]],\n",
      "\n",
      "       [[246,   0],\n",
      "        [ 54,   0]],\n",
      "\n",
      "       [[259,   0],\n",
      "        [ 40,   1]],\n",
      "\n",
      "       [[252,   0],\n",
      "        [ 48,   0]],\n",
      "\n",
      "       [[257,   0],\n",
      "        [ 43,   0]],\n",
      "\n",
      "       [[255,   0],\n",
      "        [ 45,   0]],\n",
      "\n",
      "       [[241,   0],\n",
      "        [ 59,   0]],\n",
      "\n",
      "       [[235,   0],\n",
      "        [ 65,   0]],\n",
      "\n",
      "       [[246,   0],\n",
      "        [ 54,   0]],\n",
      "\n",
      "       [[257,   0],\n",
      "        [ 43,   0]],\n",
      "\n",
      "       [[245,   0],\n",
      "        [ 55,   0]],\n",
      "\n",
      "       [[188,   0],\n",
      "        [108,   4]],\n",
      "\n",
      "       [[246,   0],\n",
      "        [ 54,   0]],\n",
      "\n",
      "       [[237,   0],\n",
      "        [ 63,   0]],\n",
      "\n",
      "       [[248,   0],\n",
      "        [ 52,   0]],\n",
      "\n",
      "       [[201,   0],\n",
      "        [ 99,   0]]], dtype=int64), 'cm_avg': array([[241.47058824,   0.        ],\n",
      "       [ 58.23529412,   0.29411765]]), 'wandb_cm': <wandb.viz.CustomChart object at 0x000001B0C44DB310>, 'eval_loss': 0.3870131552219391}\n"
     ]
    }
   ],
   "source": [
    "# train with optimal parameters from parameter tunign results\n",
    "# logging\n",
    "logging.basicConfig(level=logging.INFO)\n",
    "transformers_logger = logging.getLogger(\"transformers\")\n",
    "transformers_logger.setLevel(logging.WARNING)\n",
    "\n",
    "# create function for creating layer learning rate dictionary\n",
    "# this is used for freezing the number of layers from the first layer -> x layer\n",
    "def create_custom_layer_dict_lst(x):    \n",
    "    # get list of number of layers\n",
    "    # layers_lst = [0]\n",
    "    # for i in model.get_named_parameters():\n",
    "    #     layers_lst.append(int(re.findall(r\"layer\\.(\\d+)\", i)[0]))\n",
    "    #     layers_lst = list(set(layers_lst))\n",
    "    # create dictionary of layers to freeze\n",
    "    layer_dict_lst = []\n",
    "    for i in range(x+1):\n",
    "        layer_dict_lst.append({'layer':i, 'lr':0.0})\n",
    "    return layer_dict_lst\n",
    "\n",
    "# set threshold value here to calculate metrics accurately\n",
    "threshold_val = 0.95\n",
    "\n",
    "# Optional model configuration (all parameters defind in sweep config in parameter optimisation are now stated here)\n",
    "model_args = MultiLabelClassificationArgs(fp16= False,\n",
    "                                          manual_seed = 4,\n",
    "                                          use_multiprocessing = True,\n",
    "                                          overwrite_output_dir=True,\n",
    "                                          evaluate_during_training = True,\n",
    "                                          num_train_epochs=5,\n",
    "                                          learning_rate=0.0001,\n",
    "                                          train_batch_size=20,\n",
    "                                          eval_batch_size=20,\n",
    "                                          warmup_steps=300,\n",
    "                                          weight_decay=0.09,\n",
    "                                          threshold=threshold_val,\n",
    "                                          custom_layer_parameters=create_custom_layer_dict_lst(0),\n",
    "                                          wandb_project = 'sasdghub_ml_classify',\n",
    "                                          wandb_kwargs={\n",
    "                                              'entity':'sasdghub'\n",
    "                                                       }\n",
    "                                         )\n",
    "\n",
    "# Create a MultiLabelClassificationModel\n",
    "model = MultiLabelClassificationModel(\n",
    "        \"xlnet\",\n",
    "        \"xlnet-base-cased\",\n",
    "        num_labels=label_count,\n",
    "        args=model_args,\n",
    "        use_cuda=cuda_available,\n",
    "        pos_weight=list((1/label_count)/class_weight),\n",
    ")\n",
    "\n",
    "# create functions for additional evaluation outputs\n",
    "def acc_result(true, pred):\n",
    "    pred=(pred>=threshold_val).astype(int)\n",
    "    acc_sum = 0\n",
    "    for i in range(true.shape[0]):\n",
    "        acc_sum += sklearn.metrics.accuracy_score(true[i], pred[i])    \n",
    "    acc = acc_sum/true.shape[0]\n",
    "    return acc\n",
    "\n",
    "def f1_macro_result(true, pred):\n",
    "    pred=(pred>=threshold_val).astype(int)\n",
    "    f1 = sklearn.metrics.f1_score(true, pred, average='samples')\n",
    "    return f1\n",
    "\n",
    "def cm_wandb_result(true, pred):\n",
    "    pred=(pred>=threshold_val).astype(int)\n",
    "    # modify labels and fill all combinations to use wand multiclass confusion matrix visually\n",
    "    d=true-pred\n",
    "    t_d = (d==1)\n",
    "    p_d = (d==-1)\n",
    "    n_d = (d==0)\n",
    "    idx_ar = np.array(range(0,true.shape[1]))\n",
    "    idx = np.tile(idx_ar,300).reshape(300,true.shape[1])\n",
    "    n_labels = idx[n_d]\n",
    "    t_lst = []\n",
    "    for row in t_d:\n",
    "        if row.sum()==0:\n",
    "            t_lst.append(idx_ar)\n",
    "        else:\n",
    "            t_lst.append(idx_ar[row])\n",
    "    p_lst = []\n",
    "    for row in p_d:\n",
    "        if row.sum()==0:\n",
    "            p_lst.append(idx_ar)\n",
    "        else:\n",
    "            p_lst.append(idx_ar[row])\n",
    "    for i in range(len(t_lst)):\n",
    "        fill_ar = np.array(list(itertools.product(p_lst[i], t_lst[i])))\n",
    "        t_labels = np.append(n_labels,fill_ar[:,0].tolist())\n",
    "        p_labels = np.append(n_labels,fill_ar[:,1].tolist())\n",
    "    wandb_cm = wandb.plot.confusion_matrix(probs=None, y_true=t_labels, preds=p_labels, class_names=sdg_lst)\n",
    "    return wandb_cm\n",
    "\n",
    "def cm_result(true, pred):\n",
    "    pred=(pred>=threshold_val).astype(int)\n",
    "    cm = sklearn.metrics.multilabel_confusion_matrix(true, pred)\n",
    "    return cm\n",
    "\n",
    "def cm_avg_result(true, pred):\n",
    "    pred=(pred>=threshold_val).astype(int)\n",
    "    cm = sklearn.metrics.multilabel_confusion_matrix(true, pred)\n",
    "    cm_avg = cm.sum(axis=0)/true.shape[1]\n",
    "    return cm_avg\n",
    "\n",
    "# Train the model\n",
    "model.train_model(train_df,\n",
    "                      verbose=True,\n",
    "                      eval_df=eval_df,\n",
    "                      accuracy=acc_result,\n",
    "                      f1_macro=f1_macro_result,\n",
    "                      cm=cm_result,\n",
    "                      cm_avg=cm_avg_result,\n",
    "                      wandb_cm=cm_wandb_result)\n",
    "\n",
    "# Evaluate the model\n",
    "result, model_outputs, wrong_predictions = model.eval_model(\n",
    "    eval_df,\n",
    "    verbose=True,\n",
    "    accuracy=acc_result,\n",
    "    f1_macro=f1_macro_result,\n",
    "    cm=cm_result,\n",
    "    cm_avg=cm_avg_result,\n",
    "    wandb_cm=cm_wandb_result\n",
    ")"
   ]
  },
  {
   "cell_type": "markdown",
   "id": "7a9e90c8-c22d-42d5-886d-72515821fc7d",
   "metadata": {},
   "source": [
    "### Target classifier"
   ]
  },
  {
   "cell_type": "code",
   "execution_count": 5,
   "id": "689e0297-9b06-429a-aeeb-7741fcefbc9c",
   "metadata": {
    "execution": {
     "iopub.execute_input": "2022-08-29T04:56:23.782341Z",
     "iopub.status.busy": "2022-08-29T04:56:23.782341Z",
     "iopub.status.idle": "2022-08-29T04:56:23.908461Z",
     "shell.execute_reply": "2022-08-29T04:56:23.907451Z",
     "shell.execute_reply.started": "2022-08-29T04:56:23.782341Z"
    },
    "tags": []
   },
   "outputs": [],
   "source": [
    "from simpletransformers.language_representation import RepresentationModel\n",
    "from simpletransformers.config.model_args import ModelArgs\n",
    "from sklearn.manifold import Isomap"
   ]
  },
  {
   "cell_type": "code",
   "execution_count": 6,
   "id": "d8f338d0-bc9e-48a5-858f-722857fb6e49",
   "metadata": {
    "execution": {
     "iopub.execute_input": "2022-08-29T04:56:23.909453Z",
     "iopub.status.busy": "2022-08-29T04:56:23.909453Z",
     "iopub.status.idle": "2022-08-29T04:56:23.924441Z",
     "shell.execute_reply": "2022-08-29T04:56:23.923437Z",
     "shell.execute_reply.started": "2022-08-29T04:56:23.909453Z"
    },
    "tags": []
   },
   "outputs": [],
   "source": [
    "# import target data\n",
    "target_df = pd.read_csv('Targets.csv', sep=';')"
   ]
  },
  {
   "cell_type": "code",
   "execution_count": 7,
   "id": "8bfaec27-c0f5-40c0-931b-4304f8e318ff",
   "metadata": {
    "execution": {
     "iopub.execute_input": "2022-08-29T04:56:23.926439Z",
     "iopub.status.busy": "2022-08-29T04:56:23.926439Z",
     "iopub.status.idle": "2022-08-29T04:56:27.488327Z",
     "shell.execute_reply": "2022-08-29T04:56:27.488327Z",
     "shell.execute_reply.started": "2022-08-29T04:56:23.926439Z"
    },
    "tags": []
   },
   "outputs": [
    {
     "name": "stderr",
     "output_type": "stream",
     "text": [
      "Some weights of the model checkpoint at gpt2 were not used when initializing GPT2ForTextRepresentation: ['h.6.ln_2.weight', 'h.7.ln_1.bias', 'h.0.attn.c_attn.weight', 'h.8.mlp.c_fc.weight', 'h.3.attn.c_attn.bias', 'h.8.attn.c_attn.weight', 'h.9.attn.c_proj.weight', 'h.8.mlp.c_proj.bias', 'h.7.ln_1.weight', 'h.11.attn.c_attn.bias', 'h.3.mlp.c_fc.weight', 'h.0.ln_1.bias', 'h.4.attn.c_attn.bias', 'h.10.mlp.c_proj.weight', 'h.3.attn.c_attn.weight', 'h.7.attn.bias', 'h.5.mlp.c_proj.bias', 'h.10.attn.c_attn.weight', 'h.0.ln_1.weight', 'h.0.attn.c_attn.bias', 'h.4.mlp.c_proj.weight', 'h.7.ln_2.bias', 'h.5.attn.c_proj.weight', 'h.7.mlp.c_fc.bias', 'h.8.ln_1.bias', 'h.8.mlp.c_fc.bias', 'h.1.mlp.c_fc.bias', 'h.4.ln_2.bias', 'h.2.ln_1.bias', 'h.1.mlp.c_proj.bias', 'h.4.ln_1.weight', 'h.0.ln_2.bias', 'h.8.attn.c_proj.bias', 'h.5.ln_2.weight', 'h.8.attn.bias', 'h.5.mlp.c_proj.weight', 'h.2.ln_2.weight', 'h.5.attn.c_attn.weight', 'h.6.mlp.c_fc.weight', 'h.4.ln_2.weight', 'h.11.mlp.c_proj.bias', 'h.2.mlp.c_fc.bias', 'h.5.mlp.c_fc.bias', 'h.9.attn.c_proj.bias', 'h.9.ln_1.bias', 'h.2.mlp.c_proj.weight', 'h.10.ln_1.bias', 'h.1.attn.c_proj.weight', 'h.5.ln_2.bias', 'h.2.ln_1.weight', 'h.4.attn.c_attn.weight', 'h.2.ln_2.bias', 'h.6.mlp.c_fc.bias', 'h.11.ln_2.weight', 'h.8.attn.c_attn.bias', 'h.10.ln_2.weight', 'h.8.ln_2.bias', 'h.11.mlp.c_fc.bias', 'h.1.ln_1.weight', 'h.1.attn.c_proj.bias', 'h.0.mlp.c_fc.bias', 'h.5.ln_1.weight', 'h.10.mlp.c_proj.bias', 'h.11.ln_1.bias', 'h.4.mlp.c_fc.bias', 'h.0.mlp.c_proj.weight', 'h.11.attn.bias', 'h.11.mlp.c_fc.weight', 'h.7.mlp.c_fc.weight', 'h.5.attn.c_attn.bias', 'h.9.mlp.c_proj.weight', 'h.3.attn.c_proj.bias', 'h.5.ln_1.bias', 'h.0.ln_2.weight', 'h.1.mlp.c_fc.weight', 'h.3.ln_1.weight', 'h.8.ln_2.weight', 'h.10.ln_2.bias', 'h.6.attn.c_attn.weight', 'h.10.attn.c_proj.weight', 'h.4.attn.bias', 'h.8.attn.c_proj.weight', 'h.9.ln_2.weight', 'h.3.mlp.c_proj.weight', 'h.2.mlp.c_fc.weight', 'h.7.ln_2.weight', 'h.8.mlp.c_proj.weight', 'h.11.mlp.c_proj.weight', 'h.10.mlp.c_fc.weight', 'wte.weight', 'h.0.attn.bias', 'h.9.ln_1.weight', 'h.3.ln_2.bias', 'h.10.attn.bias', 'h.3.mlp.c_fc.bias', 'h.6.ln_1.weight', 'h.6.attn.c_proj.weight', 'h.9.attn.bias', 'h.2.attn.c_attn.weight', 'h.1.ln_2.bias', 'h.4.mlp.c_proj.bias', 'h.6.attn.c_attn.bias', 'h.2.attn.bias', 'h.9.attn.c_attn.weight', 'h.9.mlp.c_proj.bias', 'h.8.ln_1.weight', 'h.3.attn.c_proj.weight', 'h.3.attn.bias', 'h.2.attn.c_attn.bias', 'h.9.ln_2.bias', 'h.5.mlp.c_fc.weight', 'h.10.attn.c_attn.bias', 'h.5.attn.c_proj.bias', 'h.7.mlp.c_proj.weight', 'h.2.attn.c_proj.bias', 'h.2.mlp.c_proj.bias', 'h.4.attn.c_proj.weight', 'h.11.attn.c_proj.weight', 'h.4.attn.c_proj.bias', 'h.9.attn.c_attn.bias', 'h.4.mlp.c_fc.weight', 'h.11.attn.c_proj.bias', 'h.11.attn.c_attn.weight', 'h.1.ln_1.bias', 'h.6.ln_2.bias', 'h.10.mlp.c_fc.bias', 'h.0.mlp.c_proj.bias', 'h.6.attn.c_proj.bias', 'h.11.ln_2.bias', 'h.10.attn.c_proj.bias', 'h.7.attn.c_attn.weight', 'h.3.ln_1.bias', 'h.6.mlp.c_proj.bias', 'h.7.attn.c_proj.weight', 'h.0.attn.c_proj.weight', 'h.2.attn.c_proj.weight', 'h.6.mlp.c_proj.weight', 'ln_f.bias', 'h.3.mlp.c_proj.bias', 'h.7.mlp.c_proj.bias', 'h.9.mlp.c_fc.weight', 'h.4.ln_1.bias', 'h.9.mlp.c_fc.bias', 'h.1.ln_2.weight', 'h.1.mlp.c_proj.weight', 'h.0.attn.c_proj.bias', 'h.6.attn.bias', 'ln_f.weight', 'h.1.attn.c_attn.weight', 'h.1.attn.c_attn.bias', 'wpe.weight', 'h.0.mlp.c_fc.weight', 'h.1.attn.bias', 'h.7.attn.c_attn.bias', 'h.10.ln_1.weight', 'h.6.ln_1.bias', 'h.3.ln_2.weight', 'h.11.ln_1.weight', 'h.5.attn.bias', 'h.7.attn.c_proj.bias']\n",
      "- This IS expected if you are initializing GPT2ForTextRepresentation from the checkpoint of a model trained on another task or with another architecture (e.g. initializing a BertForSequenceClassification model from a BertForPreTraining model).\n",
      "- This IS NOT expected if you are initializing GPT2ForTextRepresentation from the checkpoint of a model that you expect to be exactly identical (initializing a BertForSequenceClassification model from a BertForSequenceClassification model).\n",
      "Some weights of GPT2ForTextRepresentation were not initialized from the model checkpoint at gpt2 and are newly initialized: ['gpt2.h.6.ln_2.bias', 'gpt2.h.10.attn.c_attn.weight', 'gpt2.h.10.ln_2.bias', 'gpt2.h.7.mlp.c_proj.bias', 'gpt2.h.4.mlp.c_proj.weight', 'gpt2.h.1.mlp.c_proj.bias', 'gpt2.h.7.ln_1.bias', 'gpt2.h.2.ln_2.weight', 'gpt2.h.2.mlp.c_proj.bias', 'gpt2.h.4.attn.masked_bias', 'gpt2.h.5.attn.c_proj.bias', 'gpt2.h.2.mlp.c_fc.weight', 'gpt2.h.5.ln_1.bias', 'gpt2.h.9.attn.c_attn.weight', 'gpt2.h.9.attn.masked_bias', 'gpt2.h.3.ln_1.weight', 'gpt2.h.7.ln_2.weight', 'gpt2.h.4.attn.bias', 'gpt2.h.6.attn.c_attn.bias', 'gpt2.h.4.attn.c_proj.weight', 'gpt2.h.1.ln_2.bias', 'gpt2.h.0.attn.c_attn.weight', 'gpt2.h.10.attn.c_proj.bias', 'gpt2.h.1.ln_2.weight', 'gpt2.h.11.attn.c_proj.weight', 'gpt2.h.0.mlp.c_fc.weight', 'gpt2.h.7.mlp.c_fc.weight', 'gpt2.h.11.attn.c_proj.bias', 'gpt2.h.9.mlp.c_proj.bias', 'gpt2.h.8.mlp.c_proj.weight', 'gpt2.h.11.attn.bias', 'gpt2.h.3.mlp.c_proj.bias', 'gpt2.h.11.attn.c_attn.bias', 'gpt2.wpe.weight', 'gpt2.h.9.ln_1.bias', 'gpt2.h.4.ln_1.bias', 'gpt2.h.10.ln_1.bias', 'gpt2.h.3.attn.masked_bias', 'gpt2.h.9.attn.c_proj.bias', 'gpt2.h.11.mlp.c_fc.weight', 'gpt2.h.3.ln_1.bias', 'gpt2.h.0.attn.c_proj.weight', 'gpt2.h.2.ln_1.weight', 'gpt2.h.6.attn.c_proj.bias', 'gpt2.h.5.ln_2.weight', 'gpt2.h.9.attn.c_proj.weight', 'gpt2.h.9.ln_2.weight', 'gpt2.h.6.mlp.c_fc.weight', 'gpt2.h.9.mlp.c_fc.weight', 'gpt2.h.8.attn.c_proj.weight', 'gpt2.h.11.mlp.c_proj.bias', 'gpt2.h.3.attn.c_proj.bias', 'gpt2.h.3.mlp.c_fc.bias', 'gpt2.h.7.ln_1.weight', 'gpt2.h.7.attn.c_attn.bias', 'gpt2.h.0.ln_2.bias', 'gpt2.h.3.ln_2.bias', 'gpt2.h.0.mlp.c_proj.weight', 'gpt2.h.4.mlp.c_proj.bias', 'gpt2.h.2.attn.masked_bias', 'gpt2.h.0.mlp.c_fc.bias', 'gpt2.h.8.attn.bias', 'gpt2.h.3.attn.bias', 'gpt2.h.8.mlp.c_fc.weight', 'gpt2.h.11.ln_1.weight', 'gpt2.h.7.attn.c_proj.weight', 'gpt2.h.8.ln_1.bias', 'gpt2.h.9.ln_1.weight', 'gpt2.h.11.mlp.c_proj.weight', 'gpt2.h.0.ln_2.weight', 'gpt2.h.9.attn.c_attn.bias', 'gpt2.wte.weight', 'gpt2.h.10.ln_2.weight', 'gpt2.ln_f.weight', 'gpt2.h.2.attn.c_proj.bias', 'gpt2.h.5.ln_1.weight', 'gpt2.h.5.attn.c_attn.weight', 'gpt2.h.8.attn.c_proj.bias', 'gpt2.h.4.attn.c_attn.bias', 'gpt2.h.3.attn.c_attn.weight', 'gpt2.h.3.mlp.c_proj.weight', 'gpt2.h.3.attn.c_attn.bias', 'gpt2.h.1.mlp.c_fc.weight', 'gpt2.h.8.attn.c_attn.bias', 'gpt2.h.2.attn.c_proj.weight', 'gpt2.h.1.attn.c_proj.bias', 'gpt2.h.6.mlp.c_proj.bias', 'gpt2.h.9.mlp.c_fc.bias', 'gpt2.h.0.attn.c_proj.bias', 'gpt2.h.4.ln_1.weight', 'gpt2.h.6.mlp.c_fc.bias', 'gpt2.h.5.mlp.c_fc.weight', 'gpt2.h.1.attn.masked_bias', 'gpt2.h.11.ln_2.bias', 'gpt2.h.0.attn.c_attn.bias', 'gpt2.h.6.attn.masked_bias', 'gpt2.h.4.ln_2.bias', 'gpt2.h.7.attn.masked_bias', 'gpt2.h.8.attn.masked_bias', 'gpt2.h.8.ln_1.weight', 'gpt2.h.7.mlp.c_fc.bias', 'gpt2.ln_f.bias', 'gpt2.h.0.ln_1.bias', 'gpt2.h.7.attn.bias', 'gpt2.h.10.mlp.c_fc.bias', 'gpt2.h.11.attn.c_attn.weight', 'gpt2.h.9.ln_2.bias', 'gpt2.h.4.attn.c_attn.weight', 'gpt2.h.0.mlp.c_proj.bias', 'gpt2.h.10.mlp.c_fc.weight', 'gpt2.h.1.attn.c_attn.bias', 'gpt2.h.2.ln_2.bias', 'gpt2.h.3.attn.c_proj.weight', 'gpt2.h.2.attn.c_attn.weight', 'gpt2.h.3.mlp.c_fc.weight', 'gpt2.h.11.attn.masked_bias', 'gpt2.h.0.attn.bias', 'gpt2.h.7.ln_2.bias', 'gpt2.h.1.attn.bias', 'gpt2.h.8.mlp.c_proj.bias', 'gpt2.h.5.mlp.c_proj.bias', 'gpt2.h.7.mlp.c_proj.weight', 'gpt2.h.1.mlp.c_proj.weight', 'gpt2.h.2.attn.bias', 'gpt2.h.6.mlp.c_proj.weight', 'gpt2.h.9.attn.bias', 'gpt2.h.10.mlp.c_proj.bias', 'gpt2.h.1.mlp.c_fc.bias', 'gpt2.h.4.mlp.c_fc.bias', 'gpt2.h.8.ln_2.weight', 'gpt2.h.5.mlp.c_proj.weight', 'gpt2.h.10.attn.c_proj.weight', 'gpt2.h.6.ln_1.weight', 'gpt2.h.6.attn.c_attn.weight', 'gpt2.h.4.mlp.c_fc.weight', 'gpt2.h.11.mlp.c_fc.bias', 'gpt2.h.5.attn.bias', 'gpt2.h.5.attn.masked_bias', 'gpt2.h.4.ln_2.weight', 'gpt2.h.10.attn.masked_bias', 'gpt2.h.6.attn.c_proj.weight', 'gpt2.h.1.attn.c_proj.weight', 'gpt2.h.8.ln_2.bias', 'gpt2.h.6.attn.bias', 'gpt2.h.11.ln_1.bias', 'gpt2.h.7.attn.c_attn.weight', 'gpt2.h.2.mlp.c_proj.weight', 'gpt2.h.6.ln_2.weight', 'gpt2.h.1.attn.c_attn.weight', 'gpt2.h.0.attn.masked_bias', 'gpt2.h.2.ln_1.bias', 'gpt2.h.4.attn.c_proj.bias', 'gpt2.h.10.attn.bias', 'gpt2.h.2.mlp.c_fc.bias', 'gpt2.h.3.ln_2.weight', 'gpt2.h.5.mlp.c_fc.bias', 'gpt2.h.0.ln_1.weight', 'gpt2.h.10.attn.c_attn.bias', 'gpt2.h.10.ln_1.weight', 'gpt2.h.5.attn.c_proj.weight', 'gpt2.h.8.mlp.c_fc.bias', 'gpt2.h.1.ln_1.weight', 'gpt2.h.10.mlp.c_proj.weight', 'gpt2.h.2.attn.c_attn.bias', 'gpt2.h.9.mlp.c_proj.weight', 'gpt2.h.6.ln_1.bias', 'gpt2.h.1.ln_1.bias', 'gpt2.h.7.attn.c_proj.bias', 'gpt2.h.11.ln_2.weight', 'gpt2.h.5.attn.c_attn.bias', 'gpt2.h.5.ln_2.bias', 'gpt2.h.8.attn.c_attn.weight']\n",
      "You should probably TRAIN this model on a down-stream task to be able to use it for predictions and inference.\n"
     ]
    }
   ],
   "source": [
    "# define and download model from hugging face\n",
    "# model parameters\n",
    "model_args = ModelArgs(max_seq_length=1024)\n",
    "\n",
    "# model import\n",
    "model = RepresentationModel(\n",
    "    \"gpt2\",\n",
    "    \"gpt2\", #gpt2 , gpt2-large\n",
    "    args=model_args,\n",
    ")"
   ]
  },
  {
   "cell_type": "code",
   "execution_count": 8,
   "id": "0684fb42-facb-49a0-865b-0ea972e1a334",
   "metadata": {
    "execution": {
     "iopub.execute_input": "2022-08-29T04:56:27.490336Z",
     "iopub.status.busy": "2022-08-29T04:56:27.490336Z",
     "iopub.status.idle": "2022-08-29T04:56:35.029367Z",
     "shell.execute_reply": "2022-08-29T04:56:35.028376Z",
     "shell.execute_reply.started": "2022-08-29T04:56:27.490336Z"
    },
    "tags": []
   },
   "outputs": [],
   "source": [
    "sentence_list = target_df['text'].tolist()\n",
    "word_embeddings = model.encode_sentences(sentence_list, combine_strategy=\"mean\")"
   ]
  },
  {
   "cell_type": "code",
   "execution_count": 9,
   "id": "0ab6ce04-0bbd-4866-83e9-778dfc0e718a",
   "metadata": {
    "execution": {
     "iopub.execute_input": "2022-08-29T04:56:35.030357Z",
     "iopub.status.busy": "2022-08-29T04:56:35.030357Z",
     "iopub.status.idle": "2022-08-29T04:56:35.045348Z",
     "shell.execute_reply": "2022-08-29T04:56:35.044349Z",
     "shell.execute_reply.started": "2022-08-29T04:56:35.030357Z"
    },
    "tags": []
   },
   "outputs": [
    {
     "data": {
      "text/plain": [
       "(169, 768)"
      ]
     },
     "execution_count": 9,
     "metadata": {},
     "output_type": "execute_result"
    }
   ],
   "source": [
    "word_embeddings.shape"
   ]
  },
  {
   "cell_type": "code",
   "execution_count": 10,
   "id": "d989f954-48e4-431f-ab18-5f57b7c46b9f",
   "metadata": {
    "execution": {
     "iopub.execute_input": "2022-08-29T04:56:35.047359Z",
     "iopub.status.busy": "2022-08-29T04:56:35.046359Z",
     "iopub.status.idle": "2022-08-29T04:56:35.093347Z",
     "shell.execute_reply": "2022-08-29T04:56:35.092346Z",
     "shell.execute_reply.started": "2022-08-29T04:56:35.047359Z"
    },
    "tags": []
   },
   "outputs": [],
   "source": [
    "isomap = Isomap(n_components=2) # input is an array wiht samples x features\n",
    "word_embeddings_transformed = isomap.fit_transform(word_embeddings)"
   ]
  },
  {
   "cell_type": "code",
   "execution_count": 11,
   "id": "e92cd069-6d41-4fe9-97ea-63884ae9eaf5",
   "metadata": {
    "execution": {
     "iopub.execute_input": "2022-08-29T04:56:35.095348Z",
     "iopub.status.busy": "2022-08-29T04:56:35.094347Z",
     "iopub.status.idle": "2022-08-29T04:56:35.284377Z",
     "shell.execute_reply": "2022-08-29T04:56:35.283377Z",
     "shell.execute_reply.started": "2022-08-29T04:56:35.095348Z"
    },
    "tags": []
   },
   "outputs": [
    {
     "data": {
      "text/plain": [
       "<AxesSubplot:xlabel='0', ylabel='1'>"
      ]
     },
     "execution_count": 11,
     "metadata": {},
     "output_type": "execute_result"
    },
    {
     "data": {
      "image/png": "[encoded data removed]",
      "text/plain": [
       "<Figure size 432x288 with 2 Axes>"
      ]
     },
     "metadata": {
      "needs_background": "light"
     },
     "output_type": "display_data"
    }
   ],
   "source": [
    "trans_df = pd.DataFrame(word_embeddings_transformed)\n",
    "trans_df['target'] = target_df['target']\n",
    "trans_df['sdg'] = target_df['sdg']\n",
    "trans_df.plot.scatter(0,1,c='sdg', colormap='viridis')"
   ]
  },
  {
   "cell_type": "code",
   "execution_count": 12,
   "id": "34d90bfc-5c30-4067-a332-2c53905c4722",
   "metadata": {
    "execution": {
     "iopub.execute_input": "2022-08-29T04:56:35.285367Z",
     "iopub.status.busy": "2022-08-29T04:56:35.285367Z",
     "iopub.status.idle": "2022-08-29T04:56:35.300351Z",
     "shell.execute_reply": "2022-08-29T04:56:35.299356Z",
     "shell.execute_reply.started": "2022-08-29T04:56:35.285367Z"
    },
    "tags": []
   },
   "outputs": [
    {
     "data": {
      "text/plain": [
       "abstract    The Global Alliance for Reporting Progress on ...\n",
       "source                                          Knowledge_Hub\n",
       "target                                                    NaN\n",
       "SDG1                                                        1\n",
       "SDG2                                                        0\n",
       "SDG3                                                        0\n",
       "SDG4                                                        1\n",
       "SDG5                                                        1\n",
       "SDG6                                                        0\n",
       "SDG7                                                        0\n",
       "SDG8                                                        1\n",
       "SDG9                                                        0\n",
       "SDG10                                                       1\n",
       "SDG11                                                       1\n",
       "SDG12                                                       0\n",
       "SDG13                                                       0\n",
       "SDG14                                                       0\n",
       "SDG15                                                       0\n",
       "SDG16                                                       1\n",
       "SDG17                                                       1\n",
       "y           [1, 0, 0, 1, 1, 0, 0, 1, 0, 1, 1, 0, 0, 0, 0, ...\n",
       "Name: 90118, dtype: object"
      ]
     },
     "execution_count": 12,
     "metadata": {},
     "output_type": "execute_result"
    }
   ],
   "source": [
    "data.iloc[0]"
   ]
  },
  {
   "cell_type": "code",
   "execution_count": 13,
   "id": "710e365a-4c03-4bcf-84cb-69eaf1f5f6ae",
   "metadata": {
    "execution": {
     "iopub.execute_input": "2022-08-29T04:56:35.301362Z",
     "iopub.status.busy": "2022-08-29T04:56:35.301362Z",
     "iopub.status.idle": "2022-08-29T04:56:35.316356Z",
     "shell.execute_reply": "2022-08-29T04:56:35.315355Z",
     "shell.execute_reply.started": "2022-08-29T04:56:35.301362Z"
    },
    "tags": []
   },
   "outputs": [],
   "source": [
    "# fix the acc metrics to be able to tolerate multitiple labels\n",
    "# https://stackoverflow.com/questions/17568612/how-to-make-numpy-argmax-return-all-occurrences-of-the-maximum\n",
    "# training might need another activation function\n",
    "# add for loops to calcualte accuracy for each isnance and add all up (same for all other metrics (17xN is the number of classifications made for confusion matrix))\n",
    "# save threshold value to include in the pred output \n",
    "# change threshold to list of numbers to learn a unique threshold for each class"
   ]
  },
  {
   "cell_type": "code",
   "execution_count": 14,
   "id": "e8d12fb9-53b1-4484-9fbd-2041a17f6273",
   "metadata": {
    "execution": {
     "iopub.execute_input": "2022-08-29T04:56:35.318353Z",
     "iopub.status.busy": "2022-08-29T04:56:35.317352Z",
     "iopub.status.idle": "2022-08-29T04:56:35.331354Z",
     "shell.execute_reply": "2022-08-29T04:56:35.330372Z",
     "shell.execute_reply.started": "2022-08-29T04:56:35.318353Z"
    },
    "tags": []
   },
   "outputs": [],
   "source": [
    "# get a list of target descriptions\n",
    "# get embeddings from GPT2 of the descriptions\n",
    "# perform ISOMAP on the data\n",
    "\n",
    "# TO APPLY\n",
    "# get GPT2 embedding of testing text\n",
    "# apply isomap\n",
    "#Classify SDG\n",
    "#limit targets to SDG related targets only\n",
    "# measure distance\n",
    "#use bayesian search to find best overall distance cutoff for classification to have highest classfication accuracy"
   ]
  }
 ],
 "metadata": {
  "kernelspec": {
   "display_name": "Python 3 (ipykernel)",
   "language": "python",
   "name": "python3"
  },
  "language_info": {
   "codemirror_mode": {
    "name": "ipython",
    "version": 3
   },
   "file_extension": ".py",
   "mimetype": "text/x-python",
   "name": "python",
   "nbconvert_exporter": "python",
   "pygments_lexer": "ipython3",
   "version": "3.9.12"
  }
 },
 "nbformat": 4,
 "nbformat_minor": 5
}
