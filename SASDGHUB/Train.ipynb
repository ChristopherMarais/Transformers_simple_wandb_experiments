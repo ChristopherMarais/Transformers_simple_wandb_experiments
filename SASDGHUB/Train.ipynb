{
 "cells": [
  {
   "cell_type": "markdown",
   "id": "ecced938-c225-4f12-b565-3d73b9329857",
   "metadata": {},
   "source": [
    "# Train\n",
    "\n",
    "this script is to train the model after the parameters have been optimised.\n",
    "The final model is output to the output directory in the current directory. This can be changed as described in the [Simple transformers docs](https://simpletransformers.ai/docs/installation/).\n",
    "THis script also shows how the target classification can be prepared/trained.\n",
    "\n",
    "### SDG Classifier"
   ]
  },
  {
   "cell_type": "code",
   "execution_count": 1,
   "id": "ee564013-69a3-4853-98fe-6c2a00844ebd",
   "metadata": {
    "execution": {
     "iopub.execute_input": "2022-08-25T19:45:36.252073Z",
     "iopub.status.busy": "2022-08-25T19:45:36.252073Z",
     "iopub.status.idle": "2022-08-25T19:45:42.071544Z",
     "shell.execute_reply": "2022-08-25T19:45:42.070544Z",
     "shell.execute_reply.started": "2022-08-25T19:45:36.252073Z"
    },
    "tags": []
   },
   "outputs": [],
   "source": [
    "import wandb\n",
    "import torch\n",
    "import sklearn\n",
    "import numpy as np\n",
    "import pandas as pd\n",
    "import logging\n",
    "import matplotlib.pyplot as plt\n",
    "import seaborn as sns\n",
    "from sklearn.model_selection import train_test_split\n",
    "from simpletransformers.classification import MultiLabelClassificationModel, MultiLabelClassificationArgs"
   ]
  },
  {
   "cell_type": "code",
   "execution_count": 2,
   "id": "43217174-039a-41fa-9ab1-0441bc061dd5",
   "metadata": {
    "execution": {
     "iopub.execute_input": "2022-08-25T19:45:42.072552Z",
     "iopub.status.busy": "2022-08-25T19:45:42.072552Z",
     "iopub.status.idle": "2022-08-25T19:45:42.103544Z",
     "shell.execute_reply": "2022-08-25T19:45:42.102548Z",
     "shell.execute_reply.started": "2022-08-25T19:45:42.072552Z"
    },
    "tags": []
   },
   "outputs": [],
   "source": [
    "# see GPU avaialability\n",
    "cuda_available = torch.cuda.is_available()"
   ]
  },
  {
   "cell_type": "code",
   "execution_count": 34,
   "id": "2410685e-4550-4080-aa6b-74b1cce94dfc",
   "metadata": {
    "execution": {
     "iopub.execute_input": "2022-08-25T19:55:25.454367Z",
     "iopub.status.busy": "2022-08-25T19:55:25.454367Z",
     "iopub.status.idle": "2022-08-25T19:55:26.551377Z",
     "shell.execute_reply": "2022-08-25T19:55:26.550387Z",
     "shell.execute_reply.started": "2022-08-25T19:55:25.454367Z"
    },
    "tags": []
   },
   "outputs": [
    {
     "name": "stdout",
     "output_type": "stream",
     "text": [
      "% PER CLASS:\n",
      "\n",
      " SDG1      4.686959\n",
      "SDG2      2.662763\n",
      "SDG3      6.276512\n",
      "SDG4      7.476519\n",
      "SDG5     15.678534\n",
      "SDG6      1.347068\n",
      "SDG7      0.315688\n",
      "SDG8     10.896150\n",
      "SDG9      0.552291\n",
      "SDG10    10.155622\n",
      "SDG11     2.888254\n",
      "SDG12     0.971902\n",
      "SDG13     0.998699\n",
      "SDG14     0.289544\n",
      "SDG15     0.369937\n",
      "SDG16    28.666200\n",
      "SDG17     5.767358\n",
      "dtype: float64\n"
     ]
    },
    {
     "data": {
      "image/png": "[encoded data removed]",
      "text/plain": [
       "<Figure size 432x288 with 1 Axes>"
      ]
     },
     "metadata": {
      "needs_background": "light"
     },
     "output_type": "display_data"
    }
   ],
   "source": [
    "# import data\n",
    "data = pd.read_csv('OneHot_Combined_cln_utf8.tsv', sep='\\t')\n",
    "data = data[data['source']!='SASDG_Hub'] #keep the articles classified by Willem separate as an unseen testing set\n",
    "\n",
    "# reformat data\n",
    "sdg_lst = ['SDG1','SDG2','SDG3','SDG4','SDG5','SDG6','SDG7','SDG8','SDG9','SDG10','SDG11','SDG12','SDG13','SDG14','SDG15','SDG16','SDG17']\n",
    "data['y'] = data[sdg_lst].values.tolist()\n",
    "y = data['y']\n",
    "X = data['abstract']\n",
    "\n",
    "# plot ratio of data\n",
    "class_weight = (data[sdg_lst].sum()/ data[sdg_lst].sum().sum())\n",
    "print('% PER CLASS:\\n\\n', class_weight*100)\n",
    "data[sdg_lst].sum().plot.bar()\n",
    "\n",
    "# split data\n",
    "X_train, X_val, y_train, y_val = train_test_split(X, y, test_size=0.3, random_state=42)\n",
    "\n",
    "# add data to dataframes\n",
    "train_df = pd.DataFrame()\n",
    "train_df['text'] = X_train\n",
    "train_df['labels'] = y_train\n",
    "train_df.reset_index(inplace=True, drop=True)\n",
    "\n",
    "eval_df = pd.DataFrame()\n",
    "eval_df['text'] = X_val\n",
    "eval_df['labels'] = y_val\n",
    "eval_df.reset_index(inplace=True, drop=True)\n",
    "\n",
    "# get number of classes\n",
    "label_count = len(sdg_lst)"
   ]
  },
  {
   "cell_type": "code",
   "execution_count": 4,
   "id": "50f3c1a9-502b-42df-93c1-d958d7df4a93",
   "metadata": {
    "execution": {
     "iopub.execute_input": "2022-08-25T18:58:03.687979Z",
     "iopub.status.busy": "2022-08-25T18:58:03.687979Z",
     "iopub.status.idle": "2022-08-25T18:58:03.702965Z",
     "shell.execute_reply": "2022-08-25T18:58:03.701965Z",
     "shell.execute_reply.started": "2022-08-25T18:58:03.687979Z"
    },
    "tags": []
   },
   "outputs": [],
   "source": [
    "# # create functions for additional evaluation outputs\n",
    "# def acc_result(true, pred):\n",
    "#     true=np.argmax(true, axis=1)\n",
    "#     pred=np.argmax(pred, axis=1)\n",
    "#     acc = sklearn.metrics.accuracy_score(true, pred)\n",
    "#     return acc\n",
    "\n",
    "# def f1_macro_result(true, pred):\n",
    "#     true=np.argmax(true, axis=1)\n",
    "#     pred=np.argmax(pred, axis=1)\n",
    "#     f1 = sklearn.metrics.f1_score(true, pred, average='macro')\n",
    "#     return f1\n",
    "\n",
    "# def f1_micro_result(true, pred):\n",
    "#     true=np.argmax(true, axis=1)\n",
    "#     pred=np.argmax(pred, axis=1)\n",
    "#     f1 = sklearn.metrics.f1_score(true, pred, average='micro')\n",
    "#     return f1\n",
    "\n",
    "# def cm_result(true, pred):\n",
    "#     true=np.argmax(true, axis=1)\n",
    "#     pred=np.argmax(pred, axis=1)\n",
    "#     cm = wandb.plot.confusion_matrix(probs=None, y_true=true, preds=pred, class_names=sdg_lst) #sklearn.metrics.multilabel_confusion_matrix(true, pred)\n",
    "#     return cm\n",
    "\n",
    "# # create function for creating layer learning rate dictionary\n",
    "# # this is used for freezing the number of layers from the first layer -> x layer\n",
    "# def create_custom_layer_dict_lst(x):    \n",
    "#     # get list of number of layers\n",
    "#     # layers_lst = [0]\n",
    "#     # for i in model.get_named_parameters():\n",
    "#     #     layers_lst.append(int(re.findall(r\"layer\\.(\\d+)\", i)[0]))\n",
    "#     #     layers_lst = list(set(layers_lst))\n",
    "#     # create dictionary of \n",
    "#     layer_dict_lst = []\n",
    "#     for i in range(x+1):\n",
    "#         layer_dict_lst.append({'layer':i, 'lr':0.0})\n",
    "#     return layer_dict_lst"
   ]
  },
  {
   "cell_type": "code",
   "execution_count": 4,
   "id": "583face1-70f2-44ad-a913-1d66137b0afc",
   "metadata": {
    "execution": {
     "iopub.execute_input": "2022-08-25T19:45:56.964376Z",
     "iopub.status.busy": "2022-08-25T19:45:56.963378Z",
     "iopub.status.idle": "2022-08-25T19:45:56.973377Z",
     "shell.execute_reply": "2022-08-25T19:45:56.972388Z",
     "shell.execute_reply.started": "2022-08-25T19:45:56.964376Z"
    },
    "tags": []
   },
   "outputs": [],
   "source": [
    "# # train with optimal parameters from parameter tunign results\n",
    "# # logging\n",
    "# logging.basicConfig(level=logging.INFO)\n",
    "# transformers_logger = logging.getLogger(\"transformers\")\n",
    "# transformers_logger.setLevel(logging.WARNING)\n",
    "\n",
    "# # Optional model configuration (all parameters defind in sweep config in parameter optimisation are now stated here)\n",
    "# model_args = MultiLabelClassificationArgs(fp16= False,\n",
    "#                                           manual_seed = 4,\n",
    "#                                           use_multiprocessing = True,\n",
    "#                                           overwrite_output_dir=True,\n",
    "#                                           evaluate_during_training = True,\n",
    "#                                           num_train_epochs=5,\n",
    "#                                           learning_rate=0.0001,\n",
    "#                                           train_batch_size=20,\n",
    "#                                           eval_batch_size=20,\n",
    "#                                           warmup_steps=300,\n",
    "#                                           weight_decay=0.09,\n",
    "#                                           threshold=0.97,\n",
    "#                                           custom_layer_parameters=create_custom_layer_dict_lst(0)\n",
    "#                                           wandb_project = 'sasdghub_ml_classify',\n",
    "#                                           wandb_kwargs={\n",
    "#                                               'entity':'sasdghub'\n",
    "#                                                        }\n",
    "#                                          )\n",
    "\n",
    "# # Create a MultiLabelClassificationModel\n",
    "# model = MultiLabelClassificationModel(\n",
    "#         \"xlnet\",\n",
    "#         \"xlnet-base-cased\",\n",
    "#         num_labels=label_count,\n",
    "#         args=model_args,\n",
    "#         use_cuda=cuda_available,\n",
    "#         pos_weight=list((1/label_count)/class_weight),\n",
    "#         show_running_loss=True\n",
    "# )\n",
    "\n",
    "# # Train the model\n",
    "# model.train_model(train_df,\n",
    "#                       verbose=True,\n",
    "#                       eval_df=eval_df,\n",
    "#                       accuracy=acc_result,\n",
    "#                       f1_macro=f1_macro_result,\n",
    "#                       f1_micro=f1_micro_result,\n",
    "#                       cm=cm_result)\n",
    "\n",
    "# # Evaluate the model\n",
    "# result, model_outputs, wrong_predictions = model.eval_model(\n",
    "#     eval_df,\n",
    "#     verbose=True,\n",
    "#     accuracy=acc_result,\n",
    "#     f1_macro=f1_macro_result,\n",
    "#     f1_micro=f1_micro_result,\n",
    "#     cm=cm_result\n",
    "# )"
   ]
  },
  {
   "cell_type": "markdown",
   "id": "7a9e90c8-c22d-42d5-886d-72515821fc7d",
   "metadata": {},
   "source": [
    "### Target classifier"
   ]
  },
  {
   "cell_type": "code",
   "execution_count": 77,
   "id": "8a87a3ca-f49b-4569-b7d5-3a6318246f05",
   "metadata": {
    "execution": {
     "iopub.execute_input": "2022-08-25T21:54:14.939586Z",
     "iopub.status.busy": "2022-08-25T21:54:14.939586Z",
     "iopub.status.idle": "2022-08-25T21:54:14.953606Z",
     "shell.execute_reply": "2022-08-25T21:54:14.952604Z",
     "shell.execute_reply.started": "2022-08-25T21:54:14.939586Z"
    },
    "tags": []
   },
   "outputs": [],
   "source": [
    "# import target data\n",
    "target_df = pd.read_csv('Targets.csv', sep=';')"
   ]
  },
  {
   "cell_type": "code",
   "execution_count": 80,
   "id": "09d52c6c-aaff-487b-a32c-4b6aa2dd73e9",
   "metadata": {
    "execution": {
     "iopub.execute_input": "2022-08-25T21:54:53.534038Z",
     "iopub.status.busy": "2022-08-25T21:54:53.534038Z",
     "iopub.status.idle": "2022-08-25T21:54:53.543048Z",
     "shell.execute_reply": "2022-08-25T21:54:53.542036Z",
     "shell.execute_reply.started": "2022-08-25T21:54:53.534038Z"
    },
    "tags": []
   },
   "outputs": [
    {
     "data": {
      "text/plain": [
       "169"
      ]
     },
     "execution_count": 80,
     "metadata": {},
     "output_type": "execute_result"
    }
   ],
   "source": [
    "len(target_df['target'].unique())"
   ]
  },
  {
   "cell_type": "code",
   "execution_count": null,
   "id": "93237028-e194-42b9-8075-a8700e8003cd",
   "metadata": {},
   "outputs": [],
   "source": []
  },
  {
   "cell_type": "code",
   "execution_count": 75,
   "id": "e8d12fb9-53b1-4484-9fbd-2041a17f6273",
   "metadata": {
    "execution": {
     "iopub.execute_input": "2022-08-25T20:40:23.316485Z",
     "iopub.status.busy": "2022-08-25T20:40:23.316485Z",
     "iopub.status.idle": "2022-08-25T20:40:23.332486Z",
     "shell.execute_reply": "2022-08-25T20:40:23.330484Z",
     "shell.execute_reply.started": "2022-08-25T20:40:23.316485Z"
    }
   },
   "outputs": [],
   "source": [
    "# get a list of target descriptions\n",
    "# get embeddings from GPT2 of the descriptions\n",
    "# perform ISOMAP on the data\n",
    "\n",
    "# TO APPLY\n",
    "# get GPT2 embedding of testing text\n",
    "# apply isomap\n",
    "# KNN to get best target (filtered to only include targets from SDGs that it has been classfied as)"
   ]
  },
  {
   "cell_type": "code",
   "execution_count": null,
   "id": "758cb220-2b82-4b33-b452-e1398d1f6808",
   "metadata": {},
   "outputs": [],
   "source": [
    "# Get embedding of targets using a model and save mebeddings to disk\n",
    "# apply isomap for dimensionality reduction and save output to disk to save space"
   ]
  }
 ],
 "metadata": {
  "kernelspec": {
   "display_name": "Python 3 (ipykernel)",
   "language": "python",
   "name": "python3"
  },
  "language_info": {
   "codemirror_mode": {
    "name": "ipython",
    "version": 3
   },
   "file_extension": ".py",
   "mimetype": "text/x-python",
   "name": "python",
   "nbconvert_exporter": "python",
   "pygments_lexer": "ipython3",
   "version": "3.9.12"
  }
 },
 "nbformat": 4,
 "nbformat_minor": 5
}
