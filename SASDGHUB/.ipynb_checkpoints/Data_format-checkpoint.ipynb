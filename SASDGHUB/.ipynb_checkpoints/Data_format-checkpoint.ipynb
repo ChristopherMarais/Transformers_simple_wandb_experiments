{
 "cells": [
  {
   "cell_type": "code",
   "execution_count": 1,
   "id": "8123464f-4d77-45b6-8d98-56931e0e87e1",
   "metadata": {
    "execution": {
     "iopub.execute_input": "2022-08-18T11:05:27.065727Z",
     "iopub.status.busy": "2022-08-18T11:05:27.065727Z",
     "iopub.status.idle": "2022-08-18T11:05:27.549727Z",
     "shell.execute_reply": "2022-08-18T11:05:27.549225Z",
     "shell.execute_reply.started": "2022-08-18T11:05:27.065727Z"
    },
    "tags": []
   },
   "outputs": [],
   "source": [
    "import numpy as np\n",
    "import pandas as pd"
   ]
  },
  {
   "cell_type": "code",
   "execution_count": 2,
   "id": "a7ad7a05-33e1-43a5-9b39-224432a4af4c",
   "metadata": {
    "execution": {
     "iopub.execute_input": "2022-08-18T11:05:27.551225Z",
     "iopub.status.busy": "2022-08-18T11:05:27.551225Z",
     "iopub.status.idle": "2022-08-18T11:05:28.386726Z",
     "shell.execute_reply": "2022-08-18T11:05:28.386226Z",
     "shell.execute_reply.started": "2022-08-18T11:05:27.551225Z"
    },
    "tags": []
   },
   "outputs": [],
   "source": [
    "sdg_lst = ['SDG1','SDG2','SDG3','SDG4','SDG5','SDG6','SDG7','SDG8','SDG9','SDG10','SDG11','SDG12','SDG13','SDG14','SDG15','SDG16','SDG17']\n",
    "data_df = pd.read_csv('OneHot_Combined_cln_utf8.tsv', sep='\\t')"
   ]
  },
  {
   "cell_type": "code",
   "execution_count": 9,
   "id": "42882090-eca3-4975-af2f-8dbff5849870",
   "metadata": {
    "execution": {
     "iopub.execute_input": "2022-08-18T11:08:03.034826Z",
     "iopub.status.busy": "2022-08-18T11:08:03.034826Z",
     "iopub.status.idle": "2022-08-18T11:08:03.147324Z",
     "shell.execute_reply": "2022-08-18T11:08:03.146825Z",
     "shell.execute_reply.started": "2022-08-18T11:08:03.034826Z"
    },
    "tags": []
   },
   "outputs": [
    {
     "data": {
      "text/plain": [
       "0         SDG1\n",
       "1         SDG1\n",
       "2         SDG1\n",
       "3         SDG1\n",
       "4         SDG1\n",
       "         ...  \n",
       "91338     SDG4\n",
       "91339    SDG13\n",
       "91340     SDG6\n",
       "91341     SDG5\n",
       "91342     SDG3\n",
       "Length: 91343, dtype: object"
      ]
     },
     "execution_count": 9,
     "metadata": {},
     "output_type": "execute_result"
    }
   ],
   "source": [
    "# reverse one hot encoding\n",
    "# is_max = data_df[sdg_lst].eq(data_df[sdg_lst].max(axis=1), axis=0)\n",
    "# result = is_max.dot(data_df[sdg_lst].columns + \" \")"
   ]
  }
 ],
 "metadata": {
  "kernelspec": {
   "display_name": "Python 3 (ipykernel)",
   "language": "python",
   "name": "python3"
  },
  "language_info": {
   "codemirror_mode": {
    "name": "ipython",
    "version": 3
   },
   "file_extension": ".py",
   "mimetype": "text/x-python",
   "name": "python",
   "nbconvert_exporter": "python",
   "pygments_lexer": "ipython3",
   "version": "3.9.12"
  }
 },
 "nbformat": 4,
 "nbformat_minor": 5
}
