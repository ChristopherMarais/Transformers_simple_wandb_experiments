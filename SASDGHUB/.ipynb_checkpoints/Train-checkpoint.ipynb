{
 "cells": [
  {
   "cell_type": "markdown",
   "id": "ecced938-c225-4f12-b565-3d73b9329857",
   "metadata": {},
   "source": [
    "# Train\n",
    "\n",
    "this script is to train the model after the parameters have been optimised.\n",
    "The final model is output to the output directory in the current directory. This can be changed as described in the [Simple transformers docs](https://simpletransformers.ai/docs/installation/).\n",
    "THis script also shows how the target classification can be prepared/trained.\n",
    "\n",
    "### SDG Classifier"
   ]
  },
  {
   "cell_type": "code",
   "execution_count": 1,
   "id": "ee564013-69a3-4853-98fe-6c2a00844ebd",
   "metadata": {
    "execution": {
     "iopub.execute_input": "2022-08-25T19:45:36.252073Z",
     "iopub.status.busy": "2022-08-25T19:45:36.252073Z",
     "iopub.status.idle": "2022-08-25T19:45:42.071544Z",
     "shell.execute_reply": "2022-08-25T19:45:42.070544Z",
     "shell.execute_reply.started": "2022-08-25T19:45:36.252073Z"
    },
    "tags": []
   },
   "outputs": [],
   "source": [
    "import wandb\n",
    "import torch\n",
    "import sklearn\n",
    "import numpy as np\n",
    "import pandas as pd\n",
    "import logging\n",
    "import matplotlib.pyplot as plt\n",
    "import seaborn as sns\n",
    "from sklearn.model_selection import train_test_split\n",
    "from simpletransformers.classification import MultiLabelClassificationModel, MultiLabelClassificationArgs"
   ]
  },
  {
   "cell_type": "code",
   "execution_count": 2,
   "id": "43217174-039a-41fa-9ab1-0441bc061dd5",
   "metadata": {
    "execution": {
     "iopub.execute_input": "2022-08-25T19:45:42.072552Z",
     "iopub.status.busy": "2022-08-25T19:45:42.072552Z",
     "iopub.status.idle": "2022-08-25T19:45:42.103544Z",
     "shell.execute_reply": "2022-08-25T19:45:42.102548Z",
     "shell.execute_reply.started": "2022-08-25T19:45:42.072552Z"
    },
    "tags": []
   },
   "outputs": [],
   "source": [
    "# see GPU avaialability\n",
    "cuda_available = torch.cuda.is_available()"
   ]
  },
  {
   "cell_type": "code",
   "execution_count": 34,
   "id": "2410685e-4550-4080-aa6b-74b1cce94dfc",
   "metadata": {
    "execution": {
     "iopub.execute_input": "2022-08-25T19:55:25.454367Z",
     "iopub.status.busy": "2022-08-25T19:55:25.454367Z",
     "iopub.status.idle": "2022-08-25T19:55:26.551377Z",
     "shell.execute_reply": "2022-08-25T19:55:26.550387Z",
     "shell.execute_reply.started": "2022-08-25T19:55:25.454367Z"
    },
    "tags": []
   },
   "outputs": [
    {
     "name": "stdout",
     "output_type": "stream",
     "text": [
      "% PER CLASS:\n",
      "\n",
      " SDG1      4.686959\n",
      "SDG2      2.662763\n",
      "SDG3      6.276512\n",
      "SDG4      7.476519\n",
      "SDG5     15.678534\n",
      "SDG6      1.347068\n",
      "SDG7      0.315688\n",
      "SDG8     10.896150\n",
      "SDG9      0.552291\n",
      "SDG10    10.155622\n",
      "SDG11     2.888254\n",
      "SDG12     0.971902\n",
      "SDG13     0.998699\n",
      "SDG14     0.289544\n",
      "SDG15     0.369937\n",
      "SDG16    28.666200\n",
      "SDG17     5.767358\n",
      "dtype: float64\n"
     ]
    },
    {
     "data": {
      "image/png": "[encoded data removed]",
      "text/plain": [
       "<Figure size 432x288 with 1 Axes>"
      ]
     },
     "metadata": {
      "needs_background": "light"
     },
     "output_type": "display_data"
    }
   ],
   "source": [
    "# import data\n",
    "data = pd.read_csv('OneHot_Combined_cln_utf8.tsv', sep='\\t')\n",
    "data = data[data['source']!='SASDG_Hub'] #keep the articles classified by Willem separate as an unseen testing set\n",
    "\n",
    "# reformat data\n",
    "sdg_lst = ['SDG1','SDG2','SDG3','SDG4','SDG5','SDG6','SDG7','SDG8','SDG9','SDG10','SDG11','SDG12','SDG13','SDG14','SDG15','SDG16','SDG17']\n",
    "data['y'] = data[sdg_lst].values.tolist()\n",
    "y = data['y']\n",
    "X = data['abstract']\n",
    "\n",
    "# plot ratio of data\n",
    "class_weight = (data[sdg_lst].sum()/ data[sdg_lst].sum().sum())\n",
    "print('% PER CLASS:\\n\\n', class_weight*100)\n",
    "data[sdg_lst].sum().plot.bar()\n",
    "\n",
    "# split data\n",
    "X_train, X_val, y_train, y_val = train_test_split(X, y, test_size=0.3, random_state=42)\n",
    "\n",
    "# add data to dataframes\n",
    "train_df = pd.DataFrame()\n",
    "train_df['text'] = X_train\n",
    "train_df['labels'] = y_train\n",
    "train_df.reset_index(inplace=True, drop=True)\n",
    "\n",
    "eval_df = pd.DataFrame()\n",
    "eval_df['text'] = X_val\n",
    "eval_df['labels'] = y_val\n",
    "eval_df.reset_index(inplace=True, drop=True)\n",
    "\n",
    "# get number of classes\n",
    "label_count = len(sdg_lst)"
   ]
  },
  {
   "cell_type": "code",
   "execution_count": 4,
   "id": "50f3c1a9-502b-42df-93c1-d958d7df4a93",
   "metadata": {
    "execution": {
     "iopub.execute_input": "2022-08-25T18:58:03.687979Z",
     "iopub.status.busy": "2022-08-25T18:58:03.687979Z",
     "iopub.status.idle": "2022-08-25T18:58:03.702965Z",
     "shell.execute_reply": "2022-08-25T18:58:03.701965Z",
     "shell.execute_reply.started": "2022-08-25T18:58:03.687979Z"
    },
    "tags": []
   },
   "outputs": [],
   "source": [
    "# # create functions for additional evaluation outputs\n",
    "# def acc_result(true, pred):\n",
    "#     true=np.argmax(true, axis=1)\n",
    "#     pred=np.argmax(pred, axis=1)\n",
    "#     acc = sklearn.metrics.accuracy_score(true, pred)\n",
    "#     return acc\n",
    "\n",
    "# def f1_macro_result(true, pred):\n",
    "#     true=np.argmax(true, axis=1)\n",
    "#     pred=np.argmax(pred, axis=1)\n",
    "#     f1 = sklearn.metrics.f1_score(true, pred, average='macro')\n",
    "#     return f1\n",
    "\n",
    "# def f1_micro_result(true, pred):\n",
    "#     true=np.argmax(true, axis=1)\n",
    "#     pred=np.argmax(pred, axis=1)\n",
    "#     f1 = sklearn.metrics.f1_score(true, pred, average='micro')\n",
    "#     return f1\n",
    "\n",
    "# def cm_result(true, pred):\n",
    "#     true=np.argmax(true, axis=1)\n",
    "#     pred=np.argmax(pred, axis=1)\n",
    "#     cm = wandb.plot.confusion_matrix(probs=None, y_true=true, preds=pred, class_names=sdg_lst) #sklearn.metrics.multilabel_confusion_matrix(true, pred)\n",
    "#     return cm\n",
    "\n",
    "# # create function for creating layer learning rate dictionary\n",
    "# # this is used for freezing the number of layers from the first layer -> x layer\n",
    "# def create_custom_layer_dict_lst(x):    \n",
    "#     # get list of number of layers\n",
    "#     # layers_lst = [0]\n",
    "#     # for i in model.get_named_parameters():\n",
    "#     #     layers_lst.append(int(re.findall(r\"layer\\.(\\d+)\", i)[0]))\n",
    "#     #     layers_lst = list(set(layers_lst))\n",
    "#     # create dictionary of \n",
    "#     layer_dict_lst = []\n",
    "#     for i in range(x+1):\n",
    "#         layer_dict_lst.append({'layer':i, 'lr':0.0})\n",
    "#     return layer_dict_lst"
   ]
  },
  {
   "cell_type": "code",
   "execution_count": 4,
   "id": "583face1-70f2-44ad-a913-1d66137b0afc",
   "metadata": {
    "execution": {
     "iopub.execute_input": "2022-08-25T19:45:56.964376Z",
     "iopub.status.busy": "2022-08-25T19:45:56.963378Z",
     "iopub.status.idle": "2022-08-25T19:45:56.973377Z",
     "shell.execute_reply": "2022-08-25T19:45:56.972388Z",
     "shell.execute_reply.started": "2022-08-25T19:45:56.964376Z"
    },
    "tags": []
   },
   "outputs": [],
   "source": [
    "# # train with optimal parameters from parameter tunign results\n",
    "# # logging\n",
    "# logging.basicConfig(level=logging.INFO)\n",
    "# transformers_logger = logging.getLogger(\"transformers\")\n",
    "# transformers_logger.setLevel(logging.WARNING)\n",
    "\n",
    "# # Optional model configuration (all parameters defind in sweep config in parameter optimisation are now stated here)\n",
    "# model_args = MultiLabelClassificationArgs(fp16= False,\n",
    "#                                           manual_seed = 4,\n",
    "#                                           use_multiprocessing = True,\n",
    "#                                           overwrite_output_dir=True,\n",
    "#                                           evaluate_during_training = True,\n",
    "#                                           num_train_epochs=5,\n",
    "#                                           learning_rate=0.0001,\n",
    "#                                           train_batch_size=20,\n",
    "#                                           eval_batch_size=20,\n",
    "#                                           warmup_steps=300,\n",
    "#                                           weight_decay=0.09,\n",
    "#                                           threshold=0.97,\n",
    "#                                           custom_layer_parameters=create_custom_layer_dict_lst(0)\n",
    "#                                           wandb_project = 'sasdghub_ml_classify',\n",
    "#                                           wandb_kwargs={\n",
    "#                                               'entity':'sasdghub'\n",
    "#                                                        }\n",
    "#                                          )\n",
    "\n",
    "# # Create a MultiLabelClassificationModel\n",
    "# model = MultiLabelClassificationModel(\n",
    "#         \"xlnet\",\n",
    "#         \"xlnet-base-cased\",\n",
    "#         num_labels=label_count,\n",
    "#         args=model_args,\n",
    "#         use_cuda=cuda_available,\n",
    "#         pos_weight=list((1/label_count)/class_weight),\n",
    "#         show_running_loss=True\n",
    "# )\n",
    "\n",
    "# # Train the model\n",
    "# model.train_model(train_df,\n",
    "#                       verbose=True,\n",
    "#                       eval_df=eval_df,\n",
    "#                       accuracy=acc_result,\n",
    "#                       f1_macro=f1_macro_result,\n",
    "#                       f1_micro=f1_micro_result,\n",
    "#                       cm=cm_result)\n",
    "\n",
    "# # Evaluate the model\n",
    "# result, model_outputs, wrong_predictions = model.eval_model(\n",
    "#     eval_df,\n",
    "#     verbose=True,\n",
    "#     accuracy=acc_result,\n",
    "#     f1_macro=f1_macro_result,\n",
    "#     f1_micro=f1_micro_result,\n",
    "#     cm=cm_result\n",
    "# )"
   ]
  },
  {
   "cell_type": "markdown",
   "id": "7a9e90c8-c22d-42d5-886d-72515821fc7d",
   "metadata": {},
   "source": [
    "### Target classifier"
   ]
  },
  {
   "cell_type": "code",
   "execution_count": 81,
   "id": "689e0297-9b06-429a-aeeb-7741fcefbc9c",
   "metadata": {
    "execution": {
     "iopub.execute_input": "2022-08-25T22:04:21.158413Z",
     "iopub.status.busy": "2022-08-25T22:04:21.158413Z",
     "iopub.status.idle": "2022-08-25T22:04:21.358033Z",
     "shell.execute_reply": "2022-08-25T22:04:21.357032Z",
     "shell.execute_reply.started": "2022-08-25T22:04:21.158413Z"
    }
   },
   "outputs": [],
   "source": [
    "from simpletransformers.language_representation import RepresentationModel\n",
    "from simpletransformers.config.model_args import ModelArgs\n",
    "from sklearn.manifold import Isomap"
   ]
  },
  {
   "cell_type": "code",
   "execution_count": 82,
   "id": "d8f338d0-bc9e-48a5-858f-722857fb6e49",
   "metadata": {
    "execution": {
     "iopub.execute_input": "2022-08-25T22:04:22.323865Z",
     "iopub.status.busy": "2022-08-25T22:04:22.323865Z",
     "iopub.status.idle": "2022-08-25T22:04:22.333873Z",
     "shell.execute_reply": "2022-08-25T22:04:22.332852Z",
     "shell.execute_reply.started": "2022-08-25T22:04:22.323865Z"
    },
    "tags": []
   },
   "outputs": [],
   "source": [
    "# import target data\n",
    "target_df = pd.read_csv('Targets.csv', sep=';')"
   ]
  },
  {
   "cell_type": "code",
   "execution_count": 87,
   "id": "8bfaec27-c0f5-40c0-931b-4304f8e318ff",
   "metadata": {
    "collapsed": true,
    "execution": {
     "iopub.execute_input": "2022-08-25T22:10:16.543638Z",
     "iopub.status.busy": "2022-08-25T22:10:16.543638Z",
     "iopub.status.idle": "2022-08-25T22:10:58.482522Z",
     "shell.execute_reply": "2022-08-25T22:10:58.482522Z",
     "shell.execute_reply.started": "2022-08-25T22:10:16.543638Z"
    },
    "jupyter": {
     "outputs_hidden": true
    },
    "tags": []
   },
   "outputs": [
    {
     "data": {
      "application/vnd.jupyter.widget-view+json": {
       "model_id": "6bb4d8ef0e3f4d14b4f335a5498da836",
       "version_major": 2,
       "version_minor": 0
      },
      "text/plain": [
       "Downloading config.json:   0%|          | 0.00/665 [00:00<?, ?B/s]"
      ]
     },
     "metadata": {},
     "output_type": "display_data"
    },
    {
     "data": {
      "application/vnd.jupyter.widget-view+json": {
       "model_id": "858e1130f4ac4d0797ee76996747bd1b",
       "version_major": 2,
       "version_minor": 0
      },
      "text/plain": [
       "Downloading pytorch_model.bin:   0%|          | 0.00/523M [00:00<?, ?B/s]"
      ]
     },
     "metadata": {},
     "output_type": "display_data"
    },
    {
     "name": "stderr",
     "output_type": "stream",
     "text": [
      "Some weights of the model checkpoint at gpt2 were not used when initializing GPT2ForTextRepresentation: ['h.3.mlp.c_proj.weight', 'h.4.mlp.c_fc.weight', 'h.4.ln_2.bias', 'h.5.attn.c_attn.bias', 'h.5.mlp.c_proj.bias', 'h.10.ln_1.bias', 'h.7.attn.c_proj.bias', 'h.0.mlp.c_proj.weight', 'h.3.attn.c_proj.bias', 'h.6.mlp.c_fc.weight', 'h.10.attn.c_proj.weight', 'h.7.mlp.c_proj.weight', 'h.7.attn.c_attn.bias', 'h.3.ln_1.bias', 'h.8.ln_1.weight', 'h.10.attn.c_attn.bias', 'h.4.attn.c_proj.bias', 'h.0.mlp.c_fc.bias', 'h.2.ln_1.weight', 'h.3.attn.c_attn.bias', 'h.6.attn.bias', 'h.5.attn.c_proj.weight', 'h.5.mlp.c_fc.bias', 'h.5.ln_1.weight', 'h.7.attn.bias', 'h.7.ln_1.weight', 'h.0.ln_1.bias', 'h.7.attn.c_attn.weight', 'h.11.attn.c_attn.bias', 'h.1.mlp.c_fc.bias', 'h.2.attn.c_proj.weight', 'h.5.mlp.c_proj.weight', 'h.6.attn.c_attn.weight', 'h.10.mlp.c_fc.bias', 'h.5.mlp.c_fc.weight', 'h.7.ln_1.bias', 'h.2.mlp.c_proj.bias', 'h.1.ln_2.bias', 'h.5.attn.c_proj.bias', 'h.2.mlp.c_proj.weight', 'h.7.mlp.c_fc.bias', 'h.8.mlp.c_fc.bias', 'h.0.attn.c_attn.bias', 'h.9.mlp.c_fc.weight', 'h.6.mlp.c_proj.bias', 'h.9.ln_2.bias', 'h.8.attn.c_proj.weight', 'h.5.ln_2.weight', 'h.1.attn.c_attn.bias', 'h.0.attn.c_attn.weight', 'h.2.ln_2.weight', 'h.6.ln_2.bias', 'h.9.mlp.c_proj.bias', 'h.11.ln_2.weight', 'h.1.ln_1.weight', 'h.0.mlp.c_fc.weight', 'h.11.ln_1.weight', 'h.3.mlp.c_proj.bias', 'h.2.attn.bias', 'h.4.ln_2.weight', 'h.0.mlp.c_proj.bias', 'h.3.ln_2.bias', 'h.4.attn.c_attn.weight', 'h.1.attn.c_proj.bias', 'h.2.ln_2.bias', 'h.7.mlp.c_fc.weight', 'h.6.attn.c_attn.bias', 'h.1.ln_2.weight', 'h.8.attn.c_attn.weight', 'h.10.mlp.c_proj.bias', 'h.8.attn.bias', 'h.8.mlp.c_proj.bias', 'ln_f.bias', 'h.10.ln_1.weight', 'h.11.attn.c_proj.weight', 'h.4.mlp.c_proj.weight', 'h.1.attn.c_proj.weight', 'h.10.mlp.c_fc.weight', 'h.5.ln_2.bias', 'h.5.ln_1.bias', 'h.10.attn.bias', 'h.7.ln_2.weight', 'h.0.attn.c_proj.weight', 'h.8.attn.c_attn.bias', 'h.9.ln_1.weight', 'h.4.mlp.c_fc.bias', 'h.6.mlp.c_proj.weight', 'h.1.mlp.c_proj.weight', 'h.5.attn.c_attn.weight', 'h.8.mlp.c_proj.weight', 'h.10.attn.c_attn.weight', 'wte.weight', 'h.1.attn.c_attn.weight', 'h.4.attn.c_proj.weight', 'h.10.ln_2.bias', 'h.10.attn.c_proj.bias', 'h.2.mlp.c_fc.weight', 'h.1.ln_1.bias', 'h.1.mlp.c_fc.weight', 'h.6.ln_1.weight', 'h.1.attn.bias', 'h.8.attn.c_proj.bias', 'h.11.attn.bias', 'h.2.ln_1.bias', 'h.0.ln_2.bias', 'h.6.mlp.c_fc.bias', 'h.3.ln_1.weight', 'h.11.ln_1.bias', 'h.11.ln_2.bias', 'h.1.mlp.c_proj.bias', 'h.9.ln_1.bias', 'h.3.ln_2.weight', 'h.7.ln_2.bias', 'h.3.attn.c_attn.weight', 'h.6.attn.c_proj.weight', 'h.6.ln_2.weight', 'h.8.ln_2.weight', 'h.7.attn.c_proj.weight', 'h.2.mlp.c_fc.bias', 'h.4.mlp.c_proj.bias', 'h.9.attn.c_proj.weight', 'h.9.attn.bias', 'h.9.ln_2.weight', 'wpe.weight', 'h.9.mlp.c_fc.bias', 'h.3.mlp.c_fc.weight', 'h.7.mlp.c_proj.bias', 'h.2.attn.c_proj.bias', 'h.8.ln_1.bias', 'h.11.mlp.c_proj.weight', 'h.4.ln_1.weight', 'h.0.ln_1.weight', 'h.2.attn.c_attn.weight', 'h.9.attn.c_proj.bias', 'h.11.mlp.c_fc.weight', 'ln_f.weight', 'h.8.mlp.c_fc.weight', 'h.0.attn.bias', 'h.0.ln_2.weight', 'h.3.attn.bias', 'h.11.mlp.c_fc.bias', 'h.3.attn.c_proj.weight', 'h.6.attn.c_proj.bias', 'h.9.mlp.c_proj.weight', 'h.3.mlp.c_fc.bias', 'h.4.attn.bias', 'h.10.ln_2.weight', 'h.4.ln_1.bias', 'h.9.attn.c_attn.bias', 'h.9.attn.c_attn.weight', 'h.10.mlp.c_proj.weight', 'h.11.attn.c_proj.bias', 'h.2.attn.c_attn.bias', 'h.4.attn.c_attn.bias', 'h.0.attn.c_proj.bias', 'h.11.attn.c_attn.weight', 'h.11.mlp.c_proj.bias', 'h.8.ln_2.bias', 'h.5.attn.bias', 'h.6.ln_1.bias']\n",
      "- This IS expected if you are initializing GPT2ForTextRepresentation from the checkpoint of a model trained on another task or with another architecture (e.g. initializing a BertForSequenceClassification model from a BertForPreTraining model).\n",
      "- This IS NOT expected if you are initializing GPT2ForTextRepresentation from the checkpoint of a model that you expect to be exactly identical (initializing a BertForSequenceClassification model from a BertForSequenceClassification model).\n",
      "Some weights of GPT2ForTextRepresentation were not initialized from the model checkpoint at gpt2 and are newly initialized: ['gpt2.h.2.ln_2.weight', 'gpt2.h.7.ln_2.weight', 'gpt2.h.6.mlp.c_fc.weight', 'gpt2.h.6.attn.c_attn.weight', 'gpt2.h.0.ln_1.bias', 'gpt2.h.7.attn.masked_bias', 'gpt2.h.4.mlp.c_fc.weight', 'gpt2.h.11.attn.c_proj.weight', 'gpt2.h.11.mlp.c_fc.bias', 'gpt2.h.6.mlp.c_proj.bias', 'gpt2.h.11.attn.masked_bias', 'gpt2.h.0.attn.c_proj.weight', 'gpt2.h.7.attn.c_proj.weight', 'gpt2.h.9.attn.bias', 'gpt2.h.11.mlp.c_proj.weight', 'gpt2.h.9.ln_1.weight', 'gpt2.h.11.ln_2.bias', 'gpt2.h.9.mlp.c_fc.bias', 'gpt2.h.3.mlp.c_fc.bias', 'gpt2.h.2.ln_2.bias', 'gpt2.h.7.mlp.c_proj.bias', 'gpt2.h.2.mlp.c_fc.weight', 'gpt2.h.5.ln_2.bias', 'gpt2.h.5.attn.c_proj.weight', 'gpt2.h.8.mlp.c_fc.bias', 'gpt2.h.11.mlp.c_proj.bias', 'gpt2.h.7.mlp.c_fc.bias', 'gpt2.h.3.ln_2.bias', 'gpt2.h.1.ln_1.bias', 'gpt2.h.6.ln_2.weight', 'gpt2.h.1.mlp.c_fc.weight', 'gpt2.h.2.ln_1.bias', 'gpt2.h.7.ln_1.bias', 'gpt2.ln_f.bias', 'gpt2.h.8.attn.c_proj.weight', 'gpt2.h.10.mlp.c_fc.bias', 'gpt2.wpe.weight', 'gpt2.h.2.mlp.c_proj.bias', 'gpt2.h.1.ln_2.weight', 'gpt2.h.2.attn.masked_bias', 'gpt2.h.10.attn.masked_bias', 'gpt2.h.4.ln_2.bias', 'gpt2.h.3.attn.c_attn.bias', 'gpt2.h.0.attn.c_attn.bias', 'gpt2.h.9.attn.masked_bias', 'gpt2.h.8.attn.c_proj.bias', 'gpt2.h.4.mlp.c_proj.weight', 'gpt2.h.1.attn.masked_bias', 'gpt2.h.7.ln_1.weight', 'gpt2.h.7.mlp.c_proj.weight', 'gpt2.h.10.mlp.c_proj.weight', 'gpt2.h.11.attn.c_proj.bias', 'gpt2.h.0.attn.c_attn.weight', 'gpt2.h.0.attn.bias', 'gpt2.h.3.attn.masked_bias', 'gpt2.h.9.mlp.c_proj.weight', 'gpt2.h.11.ln_2.weight', 'gpt2.h.7.mlp.c_fc.weight', 'gpt2.h.5.ln_1.weight', 'gpt2.h.0.mlp.c_proj.bias', 'gpt2.h.6.attn.c_proj.bias', 'gpt2.h.0.mlp.c_proj.weight', 'gpt2.h.7.attn.c_proj.bias', 'gpt2.h.6.attn.c_attn.bias', 'gpt2.h.10.attn.c_proj.weight', 'gpt2.h.1.ln_2.bias', 'gpt2.h.3.mlp.c_proj.bias', 'gpt2.h.8.attn.c_attn.weight', 'gpt2.h.7.attn.c_attn.bias', 'gpt2.h.5.ln_1.bias', 'gpt2.h.11.ln_1.weight', 'gpt2.h.8.ln_2.bias', 'gpt2.h.3.attn.c_proj.weight', 'gpt2.h.1.ln_1.weight', 'gpt2.h.3.mlp.c_proj.weight', 'gpt2.h.9.mlp.c_proj.bias', 'gpt2.h.1.attn.c_proj.bias', 'gpt2.h.2.mlp.c_proj.weight', 'gpt2.h.6.mlp.c_fc.bias', 'gpt2.h.8.ln_1.weight', 'gpt2.h.3.ln_1.weight', 'gpt2.h.11.attn.bias', 'gpt2.h.8.attn.c_attn.bias', 'gpt2.h.4.attn.c_attn.bias', 'gpt2.h.0.ln_2.bias', 'gpt2.h.11.mlp.c_fc.weight', 'gpt2.h.0.ln_1.weight', 'gpt2.h.4.attn.c_attn.weight', 'gpt2.h.5.attn.masked_bias', 'gpt2.h.2.attn.c_attn.bias', 'gpt2.h.9.mlp.c_fc.weight', 'gpt2.h.8.attn.bias', 'gpt2.h.10.attn.c_proj.bias', 'gpt2.h.2.attn.c_proj.bias', 'gpt2.h.3.attn.c_attn.weight', 'gpt2.h.4.attn.masked_bias', 'gpt2.wte.weight', 'gpt2.h.4.ln_1.bias', 'gpt2.h.2.ln_1.weight', 'gpt2.h.5.attn.c_attn.weight', 'gpt2.h.9.attn.c_proj.bias', 'gpt2.h.6.ln_1.bias', 'gpt2.h.10.attn.c_attn.weight', 'gpt2.h.1.mlp.c_proj.bias', 'gpt2.h.7.attn.bias', 'gpt2.h.8.mlp.c_proj.bias', 'gpt2.h.10.attn.c_attn.bias', 'gpt2.h.9.ln_2.weight', 'gpt2.h.1.mlp.c_proj.weight', 'gpt2.h.0.mlp.c_fc.weight', 'gpt2.h.3.ln_2.weight', 'gpt2.h.8.attn.masked_bias', 'gpt2.h.5.mlp.c_fc.bias', 'gpt2.h.10.mlp.c_fc.weight', 'gpt2.h.4.ln_1.weight', 'gpt2.h.8.ln_1.bias', 'gpt2.h.4.ln_2.weight', 'gpt2.h.1.attn.bias', 'gpt2.h.2.attn.bias', 'gpt2.h.5.ln_2.weight', 'gpt2.h.11.attn.c_attn.weight', 'gpt2.h.10.ln_2.weight', 'gpt2.h.7.ln_2.bias', 'gpt2.h.1.attn.c_proj.weight', 'gpt2.h.5.attn.bias', 'gpt2.h.1.mlp.c_fc.bias', 'gpt2.h.0.attn.c_proj.bias', 'gpt2.h.0.mlp.c_fc.bias', 'gpt2.h.5.mlp.c_proj.bias', 'gpt2.h.6.mlp.c_proj.weight', 'gpt2.h.6.attn.masked_bias', 'gpt2.h.8.ln_2.weight', 'gpt2.h.4.mlp.c_proj.bias', 'gpt2.h.9.attn.c_attn.bias', 'gpt2.h.10.ln_1.bias', 'gpt2.h.2.mlp.c_fc.bias', 'gpt2.h.9.ln_1.bias', 'gpt2.h.9.attn.c_attn.weight', 'gpt2.h.5.attn.c_proj.bias', 'gpt2.ln_f.weight', 'gpt2.h.10.attn.bias', 'gpt2.h.1.attn.c_attn.bias', 'gpt2.h.6.ln_2.bias', 'gpt2.h.8.mlp.c_fc.weight', 'gpt2.h.10.mlp.c_proj.bias', 'gpt2.h.4.attn.c_proj.bias', 'gpt2.h.5.mlp.c_fc.weight', 'gpt2.h.2.attn.c_attn.weight', 'gpt2.h.11.ln_1.bias', 'gpt2.h.9.ln_2.bias', 'gpt2.h.6.attn.c_proj.weight', 'gpt2.h.3.mlp.c_fc.weight', 'gpt2.h.1.attn.c_attn.weight', 'gpt2.h.4.attn.bias', 'gpt2.h.0.attn.masked_bias', 'gpt2.h.5.mlp.c_proj.weight', 'gpt2.h.3.attn.bias', 'gpt2.h.6.ln_1.weight', 'gpt2.h.4.mlp.c_fc.bias', 'gpt2.h.3.ln_1.bias', 'gpt2.h.9.attn.c_proj.weight', 'gpt2.h.11.attn.c_attn.bias', 'gpt2.h.4.attn.c_proj.weight', 'gpt2.h.10.ln_2.bias', 'gpt2.h.2.attn.c_proj.weight', 'gpt2.h.3.attn.c_proj.bias', 'gpt2.h.5.attn.c_attn.bias', 'gpt2.h.8.mlp.c_proj.weight', 'gpt2.h.10.ln_1.weight', 'gpt2.h.7.attn.c_attn.weight', 'gpt2.h.6.attn.bias', 'gpt2.h.0.ln_2.weight']\n",
      "You should probably TRAIN this model on a down-stream task to be able to use it for predictions and inference.\n"
     ]
    },
    {
     "data": {
      "application/vnd.jupyter.widget-view+json": {
       "model_id": "6a050ce10da74d3eb85be7f1054d45df",
       "version_major": 2,
       "version_minor": 0
      },
      "text/plain": [
       "Downloading vocab.json:   0%|          | 0.00/0.99M [00:00<?, ?B/s]"
      ]
     },
     "metadata": {},
     "output_type": "display_data"
    },
    {
     "data": {
      "application/vnd.jupyter.widget-view+json": {
       "model_id": "aefe0a35b7434a6591dae3081b4875aa",
       "version_major": 2,
       "version_minor": 0
      },
      "text/plain": [
       "Downloading merges.txt:   0%|          | 0.00/446k [00:00<?, ?B/s]"
      ]
     },
     "metadata": {},
     "output_type": "display_data"
    }
   ],
   "source": [
    "# define and download model from hugging face\n",
    "# model parameters\n",
    "model_args = ModelArgs(max_seq_length=1024)\n",
    "\n",
    "# model import\n",
    "model = RepresentationModel(\n",
    "    \"gpt2\",\n",
    "    \"gpt2\", #gpt2 , gpt2-large\n",
    "    args=model_args,\n",
    ")"
   ]
  },
  {
   "cell_type": "code",
   "execution_count": 99,
   "id": "0684fb42-facb-49a0-865b-0ea972e1a334",
   "metadata": {
    "execution": {
     "iopub.execute_input": "2022-08-25T22:13:32.573605Z",
     "iopub.status.busy": "2022-08-25T22:13:32.573605Z",
     "iopub.status.idle": "2022-08-25T22:13:39.817919Z",
     "shell.execute_reply": "2022-08-25T22:13:39.816909Z",
     "shell.execute_reply.started": "2022-08-25T22:13:32.573605Z"
    },
    "tags": []
   },
   "outputs": [],
   "source": [
    "sentence_list = target_df['text'].tolist()\n",
    "word_embeddings = model.encode_sentences(sentence_list, combine_strategy=\"mean\")"
   ]
  },
  {
   "cell_type": "code",
   "execution_count": 100,
   "id": "0ab6ce04-0bbd-4866-83e9-778dfc0e718a",
   "metadata": {
    "execution": {
     "iopub.execute_input": "2022-08-25T22:13:39.819916Z",
     "iopub.status.busy": "2022-08-25T22:13:39.819916Z",
     "iopub.status.idle": "2022-08-25T22:13:39.833890Z",
     "shell.execute_reply": "2022-08-25T22:13:39.832902Z",
     "shell.execute_reply.started": "2022-08-25T22:13:39.819916Z"
    },
    "tags": []
   },
   "outputs": [
    {
     "data": {
      "text/plain": [
       "(169, 768)"
      ]
     },
     "execution_count": 100,
     "metadata": {},
     "output_type": "execute_result"
    }
   ],
   "source": [
    "word_embeddings.shape"
   ]
  },
  {
   "cell_type": "code",
   "execution_count": 102,
   "id": "d989f954-48e4-431f-ab18-5f57b7c46b9f",
   "metadata": {
    "execution": {
     "iopub.execute_input": "2022-08-25T22:16:30.928874Z",
     "iopub.status.busy": "2022-08-25T22:16:30.928874Z",
     "iopub.status.idle": "2022-08-25T22:16:30.992848Z",
     "shell.execute_reply": "2022-08-25T22:16:30.991865Z",
     "shell.execute_reply.started": "2022-08-25T22:16:30.928874Z"
    },
    "tags": []
   },
   "outputs": [],
   "source": [
    "isomap = Isomap(n_components=2) # input is an array wiht samples x features\n",
    "word_embeddings_transformed = isomap.fit_transform(word_embeddings)"
   ]
  },
  {
   "cell_type": "code",
   "execution_count": 106,
   "id": "e92cd069-6d41-4fe9-97ea-63884ae9eaf5",
   "metadata": {
    "execution": {
     "iopub.execute_input": "2022-08-25T22:17:16.008994Z",
     "iopub.status.busy": "2022-08-25T22:17:16.008994Z",
     "iopub.status.idle": "2022-08-25T22:17:16.131010Z",
     "shell.execute_reply": "2022-08-25T22:17:16.130030Z",
     "shell.execute_reply.started": "2022-08-25T22:17:16.008994Z"
    },
    "tags": []
   },
   "outputs": [
    {
     "data": {
      "text/plain": [
       "<AxesSubplot:xlabel='0', ylabel='1'>"
      ]
     },
     "execution_count": 106,
     "metadata": {},
     "output_type": "execute_result"
    },
    {
     "data": {
      "image/png": "[encoded data removed]",
      "text/plain": [
       "<Figure size 432x288 with 1 Axes>"
      ]
     },
     "metadata": {
      "needs_background": "light"
     },
     "output_type": "display_data"
    }
   ],
   "source": [
    "trans_df = pd.DataFrame(word_embeddings_transformed)\n",
    "trans_df.plot.scatter(0,1)"
   ]
  },
  {
   "cell_type": "code",
   "execution_count": 75,
   "id": "e8d12fb9-53b1-4484-9fbd-2041a17f6273",
   "metadata": {
    "execution": {
     "iopub.execute_input": "2022-08-25T20:40:23.316485Z",
     "iopub.status.busy": "2022-08-25T20:40:23.316485Z",
     "iopub.status.idle": "2022-08-25T20:40:23.332486Z",
     "shell.execute_reply": "2022-08-25T20:40:23.330484Z",
     "shell.execute_reply.started": "2022-08-25T20:40:23.316485Z"
    }
   },
   "outputs": [],
   "source": [
    "# get a list of target descriptions\n",
    "# get embeddings from GPT2 of the descriptions\n",
    "# perform ISOMAP on the data\n",
    "\n",
    "# TO APPLY\n",
    "# get GPT2 embedding of testing text\n",
    "# apply isomap\n",
    "# KNN to get best target (filtered to only include targets from SDGs that it has been classfied as)"
   ]
  },
  {
   "cell_type": "code",
   "execution_count": null,
   "id": "758cb220-2b82-4b33-b452-e1398d1f6808",
   "metadata": {},
   "outputs": [],
   "source": [
    "# Get embedding of targets using a model and save mebeddings to disk\n",
    "# apply isomap for dimensionality reduction and save output to disk to save space"
   ]
  }
 ],
 "metadata": {
  "kernelspec": {
   "display_name": "Python 3 (ipykernel)",
   "language": "python",
   "name": "python3"
  },
  "language_info": {
   "codemirror_mode": {
    "name": "ipython",
    "version": 3
   },
   "file_extension": ".py",
   "mimetype": "text/x-python",
   "name": "python",
   "nbconvert_exporter": "python",
   "pygments_lexer": "ipython3",
   "version": "3.9.12"
  }
 },
 "nbformat": 4,
 "nbformat_minor": 5
}
