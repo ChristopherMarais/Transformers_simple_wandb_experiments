{
 "cells": [
  {
   "cell_type": "code",
   "execution_count": 4,
   "id": "789f3a9c-650b-4576-bd35-3a74ca0ddc04",
   "metadata": {
    "execution": {
     "iopub.execute_input": "2022-08-21T15:35:27.145279Z",
     "iopub.status.busy": "2022-08-21T15:35:27.144781Z",
     "iopub.status.idle": "2022-08-21T15:35:27.152279Z",
     "shell.execute_reply": "2022-08-21T15:35:27.150780Z",
     "shell.execute_reply.started": "2022-08-21T15:35:27.145279Z"
    },
    "tags": []
   },
   "outputs": [],
   "source": [
    "import numpy as np\n",
    "import scipy\n",
    "import matplotlib.pyplot as plt\n",
    "import pandas as pd\n",
    "\n",
    "dist_ar = np.array([4.688020,2.671225,6.316593,7.484520,15.656094,1.353229,0.324279,10.893040,0.559170,10.140086,2.903506,0.972185,0.999589,0.289046,0.373215,28.618779,5.757424])"
   ]
  },
  {
   "cell_type": "code",
   "execution_count": 5,
   "id": "09b3d6c3-b66b-42c9-a5ef-5c8a359da483",
   "metadata": {
    "execution": {
     "iopub.execute_input": "2022-08-21T15:35:28.095170Z",
     "iopub.status.busy": "2022-08-21T15:35:28.095170Z",
     "iopub.status.idle": "2022-08-21T15:35:28.109176Z",
     "shell.execute_reply": "2022-08-21T15:35:28.108169Z",
     "shell.execute_reply.started": "2022-08-21T15:35:28.095170Z"
    },
    "tags": []
   },
   "outputs": [
    {
     "data": {
      "text/plain": [
       "array([ 1.25476277,  2.20211811,  0.93125407,  0.7859359 ,  0.37572289,\n",
       "        4.34690133, 18.13978994,  0.54001022, 10.51979352,  0.58010878,\n",
       "        2.02594826,  6.05065182,  5.88477158, 20.35092318, 15.76129829,\n",
       "        0.20554172,  1.02169876])"
      ]
     },
     "execution_count": 5,
     "metadata": {},
     "output_type": "execute_result"
    }
   ],
   "source": [
    "dist_df = (100/17)/dist_ar\n",
    "dist_df"
   ]
  },
  {
   "cell_type": "code",
   "execution_count": null,
   "id": "8c2f2bea-48ae-4534-8846-71064a37cc78",
   "metadata": {},
   "outputs": [],
   "source": []
  }
 ],
 "metadata": {
  "kernelspec": {
   "display_name": "Python 3 (ipykernel)",
   "language": "python",
   "name": "python3"
  },
  "language_info": {
   "codemirror_mode": {
    "name": "ipython",
    "version": 3
   },
   "file_extension": ".py",
   "mimetype": "text/x-python",
   "name": "python",
   "nbconvert_exporter": "python",
   "pygments_lexer": "ipython3",
   "version": "3.9.12"
  }
 },
 "nbformat": 4,
 "nbformat_minor": 5
}
