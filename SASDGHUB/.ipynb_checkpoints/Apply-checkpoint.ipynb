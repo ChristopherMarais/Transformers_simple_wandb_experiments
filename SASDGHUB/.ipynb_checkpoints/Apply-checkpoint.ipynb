{
 "cells": [
  {
   "cell_type": "code",
   "execution_count": 1,
   "id": "a7deb845-3059-4a9a-a531-db0d3cf04e91",
   "metadata": {
    "execution": {
     "iopub.execute_input": "2022-08-25T17:17:20.408546Z",
     "iopub.status.busy": "2022-08-25T17:17:20.408546Z",
     "iopub.status.idle": "2022-08-25T17:17:27.171497Z",
     "shell.execute_reply": "2022-08-25T17:17:27.171497Z",
     "shell.execute_reply.started": "2022-08-25T17:17:20.408546Z"
    },
    "tags": []
   },
   "outputs": [],
   "source": [
    "import torch\n",
    "from simpletransformers.classification import MultiLabelClassificationModel"
   ]
  },
  {
   "cell_type": "code",
   "execution_count": 4,
   "id": "585f395c-dd77-4b78-8fa8-375e1a3fd73a",
   "metadata": {
    "execution": {
     "iopub.execute_input": "2022-08-25T17:17:56.672108Z",
     "iopub.status.busy": "2022-08-25T17:17:56.672108Z",
     "iopub.status.idle": "2022-08-25T17:17:56.678088Z",
     "shell.execute_reply": "2022-08-25T17:17:56.678088Z",
     "shell.execute_reply.started": "2022-08-25T17:17:56.672108Z"
    },
    "tags": []
   },
   "outputs": [],
   "source": [
    "# see GPU avaialability\n",
    "cuda_available = torch.cuda.is_available()"
   ]
  },
  {
   "cell_type": "code",
   "execution_count": 5,
   "id": "05e70d3f-3cd3-460d-9286-e8e552754cb9",
   "metadata": {
    "execution": {
     "iopub.execute_input": "2022-08-25T17:17:58.810607Z",
     "iopub.status.busy": "2022-08-25T17:17:58.810607Z",
     "iopub.status.idle": "2022-08-25T17:17:59.755443Z",
     "shell.execute_reply": "2022-08-25T17:17:59.755443Z",
     "shell.execute_reply.started": "2022-08-25T17:17:58.810607Z"
    },
    "tags": []
   },
   "outputs": [],
   "source": [
    "# import model from path\n",
    "model = MultiLabelClassificationModel(\n",
    "        \"xlnet\",\n",
    "        r\"C:\\Users\\gcmar\\Desktop\\GIT_REPOS\\Transformers_simple_wandb_experiments\\SASDGHUB\\outputs\\best_model\\\\\",\n",
    "        num_labels=17,\n",
    "        use_cuda=cuda_available,\n",
    ")"
   ]
  },
  {
   "cell_type": "code",
   "execution_count": 6,
   "id": "6258364b-81b5-4f79-a7a2-cca64b7e81a3",
   "metadata": {
    "execution": {
     "iopub.execute_input": "2022-08-25T17:18:05.388333Z",
     "iopub.status.busy": "2022-08-25T17:18:05.388333Z",
     "iopub.status.idle": "2022-08-25T17:18:14.330398Z",
     "shell.execute_reply": "2022-08-25T17:18:14.329396Z",
     "shell.execute_reply.started": "2022-08-25T17:18:05.388333Z"
    },
    "tags": []
   },
   "outputs": [
    {
     "data": {
      "application/vnd.jupyter.widget-view+json": {
       "model_id": "bd2a9efa911440dfa9804cd196406b06",
       "version_major": 2,
       "version_minor": 0
      },
      "text/plain": [
       "  0%|          | 0/1 [00:00<?, ?it/s]"
      ]
     },
     "metadata": {},
     "output_type": "display_data"
    },
    {
     "data": {
      "application/vnd.jupyter.widget-view+json": {
       "model_id": "57e6573e4ad3429fa9ea475e4c855a35",
       "version_major": 2,
       "version_minor": 0
      },
      "text/plain": [
       "  0%|          | 0/1 [00:00<?, ?it/s]"
      ]
     },
     "metadata": {},
     "output_type": "display_data"
    }
   ],
   "source": [
    "# Make predictions with the model\n",
    "predictions, raw_outputs = model.predict([\"sustainable development goal 3 Good Health and Well-being\"])"
   ]
  }
 ],
 "metadata": {
  "kernelspec": {
   "display_name": "Python 3 (ipykernel)",
   "language": "python",
   "name": "python3"
  },
  "language_info": {
   "codemirror_mode": {
    "name": "ipython",
    "version": 3
   },
   "file_extension": ".py",
   "mimetype": "text/x-python",
   "name": "python",
   "nbconvert_exporter": "python",
   "pygments_lexer": "ipython3",
   "version": "3.9.12"
  }
 },
 "nbformat": 4,
 "nbformat_minor": 5
}
