{
 "cells": [
  {
   "cell_type": "markdown",
   "id": "83fd34e1-4700-417a-b95f-42fd97e908b1",
   "metadata": {},
   "source": [
    "### Target classifier"
   ]
  },
  {
   "cell_type": "code",
   "execution_count": 1,
   "id": "689e0297-9b06-429a-aeeb-7741fcefbc9c",
   "metadata": {
    "execution": {
     "iopub.execute_input": "2022-08-29T19:58:08.690365Z",
     "iopub.status.busy": "2022-08-29T19:58:08.689365Z",
     "iopub.status.idle": "2022-08-29T19:58:13.274486Z",
     "shell.execute_reply": "2022-08-29T19:58:13.273479Z",
     "shell.execute_reply.started": "2022-08-29T19:58:08.690365Z"
    },
    "tags": []
   },
   "outputs": [],
   "source": [
    "from simpletransformers.language_representation import RepresentationModel\n",
    "from simpletransformers.classification import MultiLabelClassificationModel\n",
    "from simpletransformers.config.model_args import ModelArgs\n",
    "from sklearn.manifold import Isomap\n",
    "import matplotlib.pyplot as plt\n",
    "import pandas as pd\n",
    "import numpy as np\n",
    "import torch"
   ]
  },
  {
   "cell_type": "code",
   "execution_count": 2,
   "id": "7886bd55-872c-483c-a0c4-42ae8765d49e",
   "metadata": {
    "execution": {
     "iopub.execute_input": "2022-08-29T19:58:13.276484Z",
     "iopub.status.busy": "2022-08-29T19:58:13.275479Z",
     "iopub.status.idle": "2022-08-29T19:58:13.989488Z",
     "shell.execute_reply": "2022-08-29T19:58:13.988509Z",
     "shell.execute_reply.started": "2022-08-29T19:58:13.276484Z"
    },
    "tags": []
   },
   "outputs": [],
   "source": [
    "# import data\n",
    "data = pd.read_csv('OneHot_Combined_cln_utf8.tsv', sep='\\t')\n",
    "data = data[data['source']!='SASDG_Hub'] #keep the articles classified by Willem separate as an unseen testing set\n",
    "data = data.iloc[-1000:,:] # select a small subset of the data (last 1000 rows)\n",
    "\n",
    "# import target data\n",
    "target_df = pd.read_csv('Targets.csv', sep=';')"
   ]
  },
  {
   "cell_type": "code",
   "execution_count": 3,
   "id": "b1160642-d5b4-4ed4-9461-a49a8557e658",
   "metadata": {
    "execution": {
     "iopub.execute_input": "2022-08-29T19:58:13.990479Z",
     "iopub.status.busy": "2022-08-29T19:58:13.990479Z",
     "iopub.status.idle": "2022-08-29T19:58:14.004489Z",
     "shell.execute_reply": "2022-08-29T19:58:14.003488Z",
     "shell.execute_reply.started": "2022-08-29T19:58:13.990479Z"
    },
    "tags": []
   },
   "outputs": [],
   "source": [
    "# function to apply model to text\n",
    "def classify_sdg(text_lst):\n",
    "    # see GPU avaialability\n",
    "    cuda_available = torch.cuda.is_available()\n",
    "    \n",
    "    # import model from path (this path is the directory with all the model files)\n",
    "    sdg_model = MultiLabelClassificationModel(\n",
    "            \"xlnet\",\n",
    "            r\"C:\\Users\\gcmar\\Desktop\\GIT_REPOS\\Transformers_simple_wandb_experiments\\SASDGHUB\\outputs\\best_model\\\\\",\n",
    "            num_labels=17,\n",
    "            use_cuda=cuda_available,\n",
    "            )\n",
    "    predictions, raw_outputs = sdg_model.predict(text_lst)\n",
    "    return(predictions, raw_outputs)"
   ]
  },
  {
   "cell_type": "code",
   "execution_count": 4,
   "id": "34e9d699-4603-46fa-8e6f-1598361379e6",
   "metadata": {
    "execution": {
     "iopub.execute_input": "2022-08-29T19:58:14.005489Z",
     "iopub.status.busy": "2022-08-29T19:58:14.005489Z",
     "iopub.status.idle": "2022-08-29T19:58:14.019490Z",
     "shell.execute_reply": "2022-08-29T19:58:14.019490Z",
     "shell.execute_reply.started": "2022-08-29T19:58:14.005489Z"
    },
    "tags": []
   },
   "outputs": [],
   "source": [
    "# function to classify targets\n",
    "def classify_sdg_target(text_lst, \n",
    "                        target_data_path='Targets.csv',\n",
    "                        run_isomap=True, # run faster for multiple samples otherwise (target_data_path required when this is False) (do not use when only one sample)\n",
    "                        target_embedding_reduced_path=None, # load a previously calculated and reduced embedding for the targets 'outputs/targets_embedded_reduced_gpt2_2D.csv'\n",
    "                        isomap_dims = 2,\n",
    "                        isomap_neigbors = 5, # has to be <= len(text_lst) a.k.a n_samples\n",
    "                        pre_trained_model_type='gpt2', \n",
    "                        pre_trained_model_name='gpt2'):\n",
    "    \n",
    "    # see GPU avaialability\n",
    "    cuda_available = torch.cuda.is_available()\n",
    "\n",
    "    # define and load model from hugging face\n",
    "    model_args = ModelArgs(max_seq_length=1024)\n",
    "    # model import\n",
    "    model = RepresentationModel(\n",
    "        pre_trained_model_type,\n",
    "        pre_trained_model_name, #gpt2 , gpt2-large\n",
    "        args=model_args,\n",
    "    )\n",
    "    \n",
    "    # classify sdg of text\n",
    "    sdg_predictions, sdg_raw_outputs = classify_sdg(text_lst)\n",
    "    # get embeddings of text\n",
    "    word_embeddings = model.encode_sentences(text_lst, combine_strategy=\"mean\")\n",
    "    \n",
    "    \n",
    "    # ISOMAP\n",
    "    if run_isomap==True: \n",
    "        # reduce isomap_neigbors to fit the number of samples\n",
    "        n_samples = len(text_lst)\n",
    "        if n_samples < isomap_neigbors:\n",
    "            isomap_neigbors = np.max([1,n_samples-1])\n",
    "            print('Reduced isomap_n_neigbors to: ', isomap_neigbors)\n",
    "\n",
    "        # reduce dimensions of embeddings to 2 (can be reduced to higher dimensions)\n",
    "        isomap = Isomap(n_components=isomap_dims, n_neighbors=isomap_neigbors-1) # input is an array with samples x features\n",
    "        word_embeddings_transformed = isomap.fit_transform(word_embeddings)\n",
    "\n",
    "        if target_embedding_reduced_path == None:\n",
    "            # load pre-calculated embeddings\n",
    "            target_df = pd.read_csv(target_data_path, sep=';')\n",
    "            # get sentence list from target data\n",
    "            target_sentence_list = target_df['text'].tolist()\n",
    "            # get embeddings of targets\n",
    "            target_embeddings = model.encode_sentences(target_sentence_list, combine_strategy=\"mean\")\n",
    "            target_embeddings_transformed = isomap.fit_transform(target_embeddings)\n",
    "            # add labels to reduced embeddings\n",
    "            target_trans_df = pd.DataFrame(word_embeddings_transformed)\n",
    "            target_trans_df['target'] = target_df['target']\n",
    "            target_trans_df['sdg'] = target_df['sdg']\n",
    "            target_trans_df.to_csv('outputs/targets_embedded_reduced_'+pre_trained_model_name+'_'+str(isomap_dims)+'D.csv', index=False)\n",
    "            \n",
    "            # define source and target for KNN\n",
    "            Y = target_trans_df\n",
    "            X = pd.DataFrame(word_embeddings_transformed)\n",
    "            idx_ar = np.array(range(0,17))\n",
    "            sdg_label_lst = []\n",
    "            for row in (np.array(sdg_predictions)==1):\n",
    "                sdg_label_lst.append(idx_ar[row])\n",
    "            X['sdg'] = sdg_label_lst\n",
    "            sdg_prob_lst = []\n",
    "            for row in sdg_raw_outputs:\n",
    "                sdg_prob_lst.append(row)\n",
    "            X['sdg_probability'] = sdg_prob_lst\n",
    "            \n",
    "        else:\n",
    "            # import reduced embedding of targets\n",
    "            target_trans_df = pd.read_csv(target_embedding_reduced_path, sep=',')\n",
    "            \n",
    "            # define source and target for KNN\n",
    "            Y = target_trans_df\n",
    "            X = pd.DataFrame(word_embeddings_transformed)\n",
    "            idx_ar = np.array(range(0,17))\n",
    "            sdg_label_lst = []\n",
    "            for row in (np.array(sdg_predictions)==1):\n",
    "                sdg_label_lst.append(idx_ar[row])\n",
    "            X['sdg'] = sdg_label_lst\n",
    "            sdg_prob_lst = []\n",
    "            for row in sdg_raw_outputs:\n",
    "                sdg_prob_lst.append(row)\n",
    "            X['sdg_probability'] = sdg_prob_lst\n",
    "\n",
    "        # plot embeddings if they are 2D\n",
    "        if isomap_dims ==2:\n",
    "            trans_df = pd.DataFrame(word_embeddings_transformed)\n",
    "            trans_df['target'] = target_df['target']\n",
    "            trans_df['sdg'] = target_df['sdg']\n",
    "            trans_df.plot.scatter(0,1,c='sdg', colormap='viridis') # colour by sdg\n",
    "            plt.show()\n",
    "    \n",
    "    else:\n",
    "        # load pre-calculated embeddings\n",
    "        target_df = pd.read_csv(target_data_path, sep=';')\n",
    "        # get sentence list from target data\n",
    "        target_sentence_list = target_df['text'].tolist()\n",
    "        # get embeddings of targets\n",
    "        target_embeddings = model.encode_sentences(target_sentence_list, combine_strategy=\"mean\")\n",
    "        \n",
    "        # define source and target for KNN\n",
    "        Y = pd.DataFrame(target_embeddings)\n",
    "        Y['target'] = target_df['target']\n",
    "        Y['sdg'] = target_df['sdg']\n",
    "        X = pd.DataFrame(word_embeddings)\n",
    "        idx_ar = np.array(range(0,17))\n",
    "        sdg_label_lst = []\n",
    "        for row in (np.array(sdg_predictions)==1):\n",
    "            sdg_label_lst.append(idx_ar[row])\n",
    "        X['sdg'] = sdg_label_lst\n",
    "        sdg_prob_lst = []\n",
    "        for row in sdg_raw_outputs:\n",
    "            sdg_prob_lst.append(row)\n",
    "        X['sdg_probability'] = sdg_prob_lst\n",
    "    \n",
    "    \n",
    "    # Filter by SDG classification on X\n",
    "    # apply knn on two dataframes\n",
    "    \n",
    "\n",
    "    return X, Y"
   ]
  },
  {
   "cell_type": "code",
   "execution_count": 5,
   "id": "f6834437-148d-49b5-8948-8fb1718de944",
   "metadata": {
    "execution": {
     "iopub.execute_input": "2022-08-29T19:58:14.021487Z",
     "iopub.status.busy": "2022-08-29T19:58:14.020482Z",
     "iopub.status.idle": "2022-08-29T19:58:39.867967Z",
     "shell.execute_reply": "2022-08-29T19:58:39.866972Z",
     "shell.execute_reply.started": "2022-08-29T19:58:14.021487Z"
    },
    "tags": []
   },
   "outputs": [
    {
     "name": "stderr",
     "output_type": "stream",
     "text": [
      "Some weights of the model checkpoint at gpt2 were not used when initializing GPT2ForTextRepresentation: ['h.11.attn.c_attn.bias', 'h.11.attn.c_attn.weight', 'h.11.mlp.c_fc.weight', 'h.10.attn.c_proj.weight', 'h.11.ln_2.weight', 'h.10.mlp.c_fc.weight', 'h.1.ln_2.weight', 'h.1.attn.bias', 'h.3.attn.c_proj.bias', 'h.2.attn.c_attn.bias', 'h.2.mlp.c_fc.weight', 'h.2.ln_2.bias', 'h.0.ln_2.bias', 'h.11.attn.c_proj.bias', 'h.8.attn.c_proj.bias', 'h.3.mlp.c_proj.bias', 'h.8.mlp.c_proj.bias', 'h.4.ln_2.bias', 'h.6.ln_1.bias', 'h.5.ln_1.weight', 'h.8.ln_1.weight', 'h.3.mlp.c_fc.bias', 'h.2.attn.bias', 'h.3.mlp.c_proj.weight', 'h.7.attn.c_attn.bias', 'h.3.mlp.c_fc.weight', 'h.2.mlp.c_proj.bias', 'h.7.mlp.c_proj.bias', 'h.8.ln_2.weight', 'h.0.ln_2.weight', 'wpe.weight', 'h.3.ln_1.weight', 'h.4.attn.bias', 'h.8.mlp.c_proj.weight', 'h.9.ln_2.weight', 'h.7.ln_1.bias', 'h.6.attn.c_attn.bias', 'h.1.attn.c_attn.weight', 'h.9.mlp.c_fc.bias', 'h.10.mlp.c_proj.weight', 'h.1.mlp.c_proj.weight', 'h.5.attn.c_attn.bias', 'h.1.attn.c_proj.bias', 'h.2.attn.c_proj.bias', 'h.3.attn.c_attn.weight', 'h.6.mlp.c_proj.weight', 'h.7.mlp.c_proj.weight', 'h.3.ln_1.bias', 'h.3.ln_2.weight', 'h.10.attn.bias', 'ln_f.bias', 'h.4.ln_2.weight', 'h.0.attn.c_proj.weight', 'h.11.attn.c_proj.weight', 'h.5.ln_2.bias', 'h.11.ln_2.bias', 'h.4.attn.c_attn.bias', 'h.11.attn.bias', 'h.8.attn.c_attn.bias', 'h.6.ln_2.weight', 'h.1.mlp.c_fc.bias', 'h.4.ln_1.bias', 'h.8.ln_1.bias', 'h.1.mlp.c_proj.bias', 'h.9.ln_1.weight', 'h.10.mlp.c_fc.bias', 'h.5.mlp.c_proj.bias', 'h.6.ln_2.bias', 'h.4.mlp.c_fc.bias', 'h.2.ln_2.weight', 'h.2.attn.c_proj.weight', 'wte.weight', 'h.5.ln_1.bias', 'h.9.ln_2.bias', 'h.9.mlp.c_proj.weight', 'h.8.mlp.c_fc.weight', 'h.3.attn.bias', 'h.1.attn.c_proj.weight', 'h.7.attn.c_attn.weight', 'h.4.ln_1.weight', 'h.5.attn.c_attn.weight', 'ln_f.weight', 'h.5.mlp.c_fc.weight', 'h.0.attn.bias', 'h.3.attn.c_proj.weight', 'h.6.attn.bias', 'h.7.ln_1.weight', 'h.0.mlp.c_proj.weight', 'h.8.attn.c_proj.weight', 'h.5.attn.bias', 'h.2.ln_1.weight', 'h.3.ln_2.bias', 'h.7.mlp.c_fc.weight', 'h.11.mlp.c_proj.weight', 'h.5.ln_2.weight', 'h.6.mlp.c_fc.bias', 'h.4.attn.c_attn.weight', 'h.0.attn.c_attn.bias', 'h.10.ln_1.weight', 'h.10.attn.c_attn.weight', 'h.10.ln_2.bias', 'h.7.attn.c_proj.bias', 'h.3.attn.c_attn.bias', 'h.1.mlp.c_fc.weight', 'h.0.ln_1.weight', 'h.2.attn.c_attn.weight', 'h.6.attn.c_proj.bias', 'h.5.mlp.c_proj.weight', 'h.0.attn.c_attn.weight', 'h.0.mlp.c_fc.bias', 'h.9.attn.c_attn.weight', 'h.4.attn.c_proj.bias', 'h.9.attn.c_attn.bias', 'h.11.mlp.c_proj.bias', 'h.5.attn.c_proj.weight', 'h.7.attn.c_proj.weight', 'h.6.ln_1.weight', 'h.1.ln_1.weight', 'h.1.attn.c_attn.bias', 'h.11.ln_1.weight', 'h.4.mlp.c_fc.weight', 'h.6.attn.c_attn.weight', 'h.10.mlp.c_proj.bias', 'h.10.attn.c_attn.bias', 'h.0.mlp.c_fc.weight', 'h.8.attn.bias', 'h.9.mlp.c_fc.weight', 'h.1.ln_1.bias', 'h.9.attn.c_proj.weight', 'h.6.mlp.c_proj.bias', 'h.9.attn.c_proj.bias', 'h.10.ln_2.weight', 'h.4.attn.c_proj.weight', 'h.5.attn.c_proj.bias', 'h.0.ln_1.bias', 'h.5.mlp.c_fc.bias', 'h.1.ln_2.bias', 'h.2.mlp.c_fc.bias', 'h.6.attn.c_proj.weight', 'h.6.mlp.c_fc.weight', 'h.7.mlp.c_fc.bias', 'h.10.ln_1.bias', 'h.9.attn.bias', 'h.2.ln_1.bias', 'h.0.mlp.c_proj.bias', 'h.7.attn.bias', 'h.4.mlp.c_proj.bias', 'h.8.attn.c_attn.weight', 'h.0.attn.c_proj.bias', 'h.9.mlp.c_proj.bias', 'h.8.ln_2.bias', 'h.11.mlp.c_fc.bias', 'h.11.ln_1.bias', 'h.7.ln_2.bias', 'h.4.mlp.c_proj.weight', 'h.9.ln_1.bias', 'h.8.mlp.c_fc.bias', 'h.7.ln_2.weight', 'h.2.mlp.c_proj.weight', 'h.10.attn.c_proj.bias']\n",
      "- This IS expected if you are initializing GPT2ForTextRepresentation from the checkpoint of a model trained on another task or with another architecture (e.g. initializing a BertForSequenceClassification model from a BertForPreTraining model).\n",
      "- This IS NOT expected if you are initializing GPT2ForTextRepresentation from the checkpoint of a model that you expect to be exactly identical (initializing a BertForSequenceClassification model from a BertForSequenceClassification model).\n",
      "Some weights of GPT2ForTextRepresentation were not initialized from the model checkpoint at gpt2 and are newly initialized: ['gpt2.h.8.mlp.c_fc.bias', 'gpt2.h.5.ln_2.bias', 'gpt2.h.6.ln_2.weight', 'gpt2.h.0.mlp.c_fc.bias', 'gpt2.h.5.attn.c_attn.weight', 'gpt2.h.8.attn.c_proj.bias', 'gpt2.h.9.ln_2.weight', 'gpt2.h.7.attn.c_attn.weight', 'gpt2.h.8.mlp.c_proj.weight', 'gpt2.h.9.mlp.c_fc.bias', 'gpt2.h.11.mlp.c_fc.weight', 'gpt2.h.5.ln_2.weight', 'gpt2.h.1.ln_2.weight', 'gpt2.h.10.mlp.c_fc.bias', 'gpt2.h.1.mlp.c_proj.bias', 'gpt2.h.3.attn.c_attn.bias', 'gpt2.h.7.attn.c_proj.weight', 'gpt2.h.5.mlp.c_proj.weight', 'gpt2.h.1.attn.masked_bias', 'gpt2.h.6.attn.c_proj.bias', 'gpt2.h.6.mlp.c_proj.bias', 'gpt2.h.1.attn.c_attn.weight', 'gpt2.h.8.attn.masked_bias', 'gpt2.h.10.attn.bias', 'gpt2.h.3.ln_2.bias', 'gpt2.h.10.mlp.c_proj.bias', 'gpt2.h.9.attn.c_attn.weight', 'gpt2.h.4.attn.c_attn.bias', 'gpt2.h.11.ln_1.bias', 'gpt2.h.11.mlp.c_proj.bias', 'gpt2.h.5.ln_1.bias', 'gpt2.h.9.attn.c_proj.weight', 'gpt2.h.0.ln_2.bias', 'gpt2.h.2.ln_2.bias', 'gpt2.h.3.attn.c_proj.weight', 'gpt2.h.6.attn.c_attn.weight', 'gpt2.h.9.ln_2.bias', 'gpt2.h.0.mlp.c_fc.weight', 'gpt2.h.4.mlp.c_proj.weight', 'gpt2.h.11.attn.masked_bias', 'gpt2.h.1.mlp.c_proj.weight', 'gpt2.wte.weight', 'gpt2.h.8.attn.bias', 'gpt2.h.0.attn.c_proj.weight', 'gpt2.h.4.attn.bias', 'gpt2.h.11.attn.c_proj.weight', 'gpt2.h.4.mlp.c_fc.weight', 'gpt2.h.3.attn.bias', 'gpt2.h.7.mlp.c_fc.bias', 'gpt2.h.6.mlp.c_fc.weight', 'gpt2.h.3.attn.masked_bias', 'gpt2.h.0.mlp.c_proj.weight', 'gpt2.h.10.ln_2.weight', 'gpt2.h.4.attn.c_proj.weight', 'gpt2.h.2.attn.c_attn.weight', 'gpt2.h.8.mlp.c_proj.bias', 'gpt2.h.3.mlp.c_proj.bias', 'gpt2.h.1.mlp.c_fc.bias', 'gpt2.h.10.ln_2.bias', 'gpt2.h.1.attn.bias', 'gpt2.h.2.attn.masked_bias', 'gpt2.h.8.mlp.c_fc.weight', 'gpt2.h.3.mlp.c_fc.bias', 'gpt2.h.6.ln_1.weight', 'gpt2.h.7.ln_1.weight', 'gpt2.h.4.mlp.c_proj.bias', 'gpt2.h.10.ln_1.bias', 'gpt2.h.7.ln_1.bias', 'gpt2.ln_f.weight', 'gpt2.h.0.attn.c_attn.bias', 'gpt2.h.9.ln_1.bias', 'gpt2.h.7.ln_2.bias', 'gpt2.h.2.attn.c_proj.weight', 'gpt2.h.6.attn.masked_bias', 'gpt2.h.0.attn.bias', 'gpt2.h.2.ln_1.bias', 'gpt2.h.11.ln_2.bias', 'gpt2.h.9.mlp.c_proj.bias', 'gpt2.h.4.ln_2.bias', 'gpt2.h.1.attn.c_attn.bias', 'gpt2.h.9.attn.masked_bias', 'gpt2.h.11.attn.c_proj.bias', 'gpt2.h.3.attn.c_proj.bias', 'gpt2.h.5.attn.c_proj.weight', 'gpt2.h.10.ln_1.weight', 'gpt2.h.11.ln_1.weight', 'gpt2.h.7.attn.c_proj.bias', 'gpt2.ln_f.bias', 'gpt2.wpe.weight', 'gpt2.h.6.attn.c_attn.bias', 'gpt2.h.1.attn.c_proj.weight', 'gpt2.h.11.mlp.c_proj.weight', 'gpt2.h.5.mlp.c_fc.weight', 'gpt2.h.2.mlp.c_proj.weight', 'gpt2.h.9.ln_1.weight', 'gpt2.h.1.attn.c_proj.bias', 'gpt2.h.9.attn.c_proj.bias', 'gpt2.h.11.attn.c_attn.weight', 'gpt2.h.0.ln_2.weight', 'gpt2.h.4.attn.c_proj.bias', 'gpt2.h.5.mlp.c_proj.bias', 'gpt2.h.6.attn.bias', 'gpt2.h.4.mlp.c_fc.bias', 'gpt2.h.8.attn.c_proj.weight', 'gpt2.h.5.attn.masked_bias', 'gpt2.h.3.mlp.c_proj.weight', 'gpt2.h.10.attn.c_proj.bias', 'gpt2.h.10.mlp.c_proj.weight', 'gpt2.h.6.mlp.c_fc.bias', 'gpt2.h.6.ln_1.bias', 'gpt2.h.7.attn.c_attn.bias', 'gpt2.h.2.ln_2.weight', 'gpt2.h.3.ln_1.weight', 'gpt2.h.2.mlp.c_fc.bias', 'gpt2.h.8.attn.c_attn.weight', 'gpt2.h.0.ln_1.bias', 'gpt2.h.0.attn.c_proj.bias', 'gpt2.h.3.attn.c_attn.weight', 'gpt2.h.7.attn.bias', 'gpt2.h.4.attn.masked_bias', 'gpt2.h.4.attn.c_attn.weight', 'gpt2.h.2.ln_1.weight', 'gpt2.h.6.attn.c_proj.weight', 'gpt2.h.10.mlp.c_fc.weight', 'gpt2.h.10.attn.c_proj.weight', 'gpt2.h.7.attn.masked_bias', 'gpt2.h.8.ln_1.bias', 'gpt2.h.7.mlp.c_fc.weight', 'gpt2.h.5.ln_1.weight', 'gpt2.h.9.mlp.c_proj.weight', 'gpt2.h.0.attn.c_attn.weight', 'gpt2.h.2.mlp.c_proj.bias', 'gpt2.h.9.attn.bias', 'gpt2.h.9.attn.c_attn.bias', 'gpt2.h.11.attn.bias', 'gpt2.h.2.attn.bias', 'gpt2.h.5.attn.c_attn.bias', 'gpt2.h.8.ln_2.bias', 'gpt2.h.0.attn.masked_bias', 'gpt2.h.3.ln_1.bias', 'gpt2.h.7.ln_2.weight', 'gpt2.h.7.mlp.c_proj.weight', 'gpt2.h.1.ln_2.bias', 'gpt2.h.3.ln_2.weight', 'gpt2.h.3.mlp.c_fc.weight', 'gpt2.h.4.ln_2.weight', 'gpt2.h.0.mlp.c_proj.bias', 'gpt2.h.10.attn.masked_bias', 'gpt2.h.8.ln_1.weight', 'gpt2.h.10.attn.c_attn.weight', 'gpt2.h.2.attn.c_proj.bias', 'gpt2.h.11.ln_2.weight', 'gpt2.h.4.ln_1.bias', 'gpt2.h.2.mlp.c_fc.weight', 'gpt2.h.2.attn.c_attn.bias', 'gpt2.h.11.mlp.c_fc.bias', 'gpt2.h.1.mlp.c_fc.weight', 'gpt2.h.6.mlp.c_proj.weight', 'gpt2.h.1.ln_1.weight', 'gpt2.h.0.ln_1.weight', 'gpt2.h.5.attn.c_proj.bias', 'gpt2.h.10.attn.c_attn.bias', 'gpt2.h.5.attn.bias', 'gpt2.h.7.mlp.c_proj.bias', 'gpt2.h.8.attn.c_attn.bias', 'gpt2.h.4.ln_1.weight', 'gpt2.h.6.ln_2.bias', 'gpt2.h.5.mlp.c_fc.bias', 'gpt2.h.9.mlp.c_fc.weight', 'gpt2.h.1.ln_1.bias', 'gpt2.h.8.ln_2.weight', 'gpt2.h.11.attn.c_attn.bias']\n",
      "You should probably TRAIN this model on a down-stream task to be able to use it for predictions and inference.\n"
     ]
    },
    {
     "data": {
      "application/vnd.jupyter.widget-view+json": {
       "model_id": "ff184fc4ea374a7b8c9aa7c704048d61",
       "version_major": 2,
       "version_minor": 0
      },
      "text/plain": [
       "  0%|          | 0/10 [00:00<?, ?it/s]"
      ]
     },
     "metadata": {},
     "output_type": "display_data"
    },
    {
     "data": {
      "application/vnd.jupyter.widget-view+json": {
       "model_id": "d86829c1da1d4a4987c404667db6df58",
       "version_major": 2,
       "version_minor": 0
      },
      "text/plain": [
       "  0%|          | 0/1 [00:00<?, ?it/s]"
      ]
     },
     "metadata": {},
     "output_type": "display_data"
    },
    {
     "data": {
      "image/png": "[encoded data removed]",
      "text/plain": [
       "<Figure size 432x288 with 2 Axes>"
      ]
     },
     "metadata": {
      "needs_background": "light"
     },
     "output_type": "display_data"
    }
   ],
   "source": [
    "a, b= classify_sdg_target(data.iloc[-10:,:]['abstract'].tolist(), run_isomap=True)"
   ]
  },
  {
   "cell_type": "code",
   "execution_count": 6,
   "id": "5632d62b-b26c-4d3f-9b44-235635be1ea1",
   "metadata": {
    "execution": {
     "iopub.execute_input": "2022-08-29T19:58:39.868968Z",
     "iopub.status.busy": "2022-08-29T19:58:39.868968Z",
     "iopub.status.idle": "2022-08-29T19:58:39.899971Z",
     "shell.execute_reply": "2022-08-29T19:58:39.898969Z",
     "shell.execute_reply.started": "2022-08-29T19:58:39.868968Z"
    },
    "tags": []
   },
   "outputs": [
    {
     "data": {
      "text/html": [
       "<div>\n",
       "<style scoped>\n",
       "    .dataframe tbody tr th:only-of-type {\n",
       "        vertical-align: middle;\n",
       "    }\n",
       "\n",
       "    .dataframe tbody tr th {\n",
       "        vertical-align: top;\n",
       "    }\n",
       "\n",
       "    .dataframe thead th {\n",
       "        text-align: right;\n",
       "    }\n",
       "</style>\n",
       "<table border=\"1\" class=\"dataframe\">\n",
       "  <thead>\n",
       "    <tr style=\"text-align: right;\">\n",
       "      <th></th>\n",
       "      <th>0</th>\n",
       "      <th>1</th>\n",
       "      <th>sdg</th>\n",
       "      <th>sdg_probability</th>\n",
       "    </tr>\n",
       "  </thead>\n",
       "  <tbody>\n",
       "    <tr>\n",
       "      <th>0</th>\n",
       "      <td>10.744605</td>\n",
       "      <td>5.404824</td>\n",
       "      <td>[0, 3, 7, 9, 16]</td>\n",
       "      <td>[0.12408998608589172, 0.05647684633731842, 0.0...</td>\n",
       "    </tr>\n",
       "    <tr>\n",
       "      <th>1</th>\n",
       "      <td>-9.515295</td>\n",
       "      <td>-5.604776</td>\n",
       "      <td>[3, 6, 7, 9, 16]</td>\n",
       "      <td>[0.07849065959453583, 0.051520802080631256, 0....</td>\n",
       "    </tr>\n",
       "    <tr>\n",
       "      <th>2</th>\n",
       "      <td>-8.085702</td>\n",
       "      <td>-5.660842</td>\n",
       "      <td>[0, 3, 4, 7, 9, 15, 16]</td>\n",
       "      <td>[0.1639489233493805, 0.08686479181051254, 0.08...</td>\n",
       "    </tr>\n",
       "    <tr>\n",
       "      <th>3</th>\n",
       "      <td>-9.180405</td>\n",
       "      <td>9.218314</td>\n",
       "      <td>[5, 6, 7, 8, 10, 16]</td>\n",
       "      <td>[0.06458315253257751, 0.04803938418626785, 0.0...</td>\n",
       "    </tr>\n",
       "    <tr>\n",
       "      <th>4</th>\n",
       "      <td>-1.601232</td>\n",
       "      <td>-0.253775</td>\n",
       "      <td>[5, 6, 7, 8, 10, 11, 12, 13, 14, 16]</td>\n",
       "      <td>[0.0433623269200325, 0.07563838362693787, 0.08...</td>\n",
       "    </tr>\n",
       "    <tr>\n",
       "      <th>5</th>\n",
       "      <td>-4.085216</td>\n",
       "      <td>2.502656</td>\n",
       "      <td>[5, 6, 8, 10, 11, 12, 16]</td>\n",
       "      <td>[0.04861505702137947, 0.07050523161888123, 0.0...</td>\n",
       "    </tr>\n",
       "    <tr>\n",
       "      <th>6</th>\n",
       "      <td>4.188988</td>\n",
       "      <td>-4.045839</td>\n",
       "      <td>[1, 2, 5, 6, 8, 11, 12, 13, 14, 16]</td>\n",
       "      <td>[0.04943974316120148, 0.12201870232820511, 0.1...</td>\n",
       "    </tr>\n",
       "    <tr>\n",
       "      <th>7</th>\n",
       "      <td>2.803382</td>\n",
       "      <td>11.874653</td>\n",
       "      <td>[1, 2, 5, 6, 8, 10, 11, 12, 13, 14, 16]</td>\n",
       "      <td>[0.07510310411453247, 0.21487849950790405, 0.1...</td>\n",
       "    </tr>\n",
       "    <tr>\n",
       "      <th>8</th>\n",
       "      <td>11.970259</td>\n",
       "      <td>-4.558487</td>\n",
       "      <td>[3, 4, 7, 9, 15, 16]</td>\n",
       "      <td>[0.09540661424398422, 0.05669081583619118, 0.0...</td>\n",
       "    </tr>\n",
       "    <tr>\n",
       "      <th>9</th>\n",
       "      <td>2.760615</td>\n",
       "      <td>-8.876729</td>\n",
       "      <td>[0, 3, 6, 7, 9, 15, 16]</td>\n",
       "      <td>[0.119785837829113, 0.04727477207779884, 0.070...</td>\n",
       "    </tr>\n",
       "  </tbody>\n",
       "</table>\n",
       "</div>"
      ],
      "text/plain": [
       "           0          1                                      sdg  \\\n",
       "0  10.744605   5.404824                         [0, 3, 7, 9, 16]   \n",
       "1  -9.515295  -5.604776                         [3, 6, 7, 9, 16]   \n",
       "2  -8.085702  -5.660842                  [0, 3, 4, 7, 9, 15, 16]   \n",
       "3  -9.180405   9.218314                     [5, 6, 7, 8, 10, 16]   \n",
       "4  -1.601232  -0.253775     [5, 6, 7, 8, 10, 11, 12, 13, 14, 16]   \n",
       "5  -4.085216   2.502656                [5, 6, 8, 10, 11, 12, 16]   \n",
       "6   4.188988  -4.045839      [1, 2, 5, 6, 8, 11, 12, 13, 14, 16]   \n",
       "7   2.803382  11.874653  [1, 2, 5, 6, 8, 10, 11, 12, 13, 14, 16]   \n",
       "8  11.970259  -4.558487                     [3, 4, 7, 9, 15, 16]   \n",
       "9   2.760615  -8.876729                  [0, 3, 6, 7, 9, 15, 16]   \n",
       "\n",
       "                                     sdg_probability  \n",
       "0  [0.12408998608589172, 0.05647684633731842, 0.0...  \n",
       "1  [0.07849065959453583, 0.051520802080631256, 0....  \n",
       "2  [0.1639489233493805, 0.08686479181051254, 0.08...  \n",
       "3  [0.06458315253257751, 0.04803938418626785, 0.0...  \n",
       "4  [0.0433623269200325, 0.07563838362693787, 0.08...  \n",
       "5  [0.04861505702137947, 0.07050523161888123, 0.0...  \n",
       "6  [0.04943974316120148, 0.12201870232820511, 0.1...  \n",
       "7  [0.07510310411453247, 0.21487849950790405, 0.1...  \n",
       "8  [0.09540661424398422, 0.05669081583619118, 0.0...  \n",
       "9  [0.119785837829113, 0.04727477207779884, 0.070...  "
      ]
     },
     "execution_count": 6,
     "metadata": {},
     "output_type": "execute_result"
    }
   ],
   "source": [
    "a"
   ]
  },
  {
   "cell_type": "code",
   "execution_count": 7,
   "id": "b5e0e9b9-92ee-4b5d-8daf-ea356fb09c34",
   "metadata": {
    "execution": {
     "iopub.execute_input": "2022-08-29T19:58:39.901969Z",
     "iopub.status.busy": "2022-08-29T19:58:39.901969Z",
     "iopub.status.idle": "2022-08-29T19:58:39.915970Z",
     "shell.execute_reply": "2022-08-29T19:58:39.914967Z",
     "shell.execute_reply.started": "2022-08-29T19:58:39.901969Z"
    },
    "tags": []
   },
   "outputs": [
    {
     "data": {
      "text/html": [
       "<div>\n",
       "<style scoped>\n",
       "    .dataframe tbody tr th:only-of-type {\n",
       "        vertical-align: middle;\n",
       "    }\n",
       "\n",
       "    .dataframe tbody tr th {\n",
       "        vertical-align: top;\n",
       "    }\n",
       "\n",
       "    .dataframe thead th {\n",
       "        text-align: right;\n",
       "    }\n",
       "</style>\n",
       "<table border=\"1\" class=\"dataframe\">\n",
       "  <thead>\n",
       "    <tr style=\"text-align: right;\">\n",
       "      <th></th>\n",
       "      <th>0</th>\n",
       "      <th>1</th>\n",
       "      <th>target</th>\n",
       "      <th>sdg</th>\n",
       "    </tr>\n",
       "  </thead>\n",
       "  <tbody>\n",
       "    <tr>\n",
       "      <th>0</th>\n",
       "      <td>10.744605</td>\n",
       "      <td>5.404824</td>\n",
       "      <td>1.1</td>\n",
       "      <td>1</td>\n",
       "    </tr>\n",
       "    <tr>\n",
       "      <th>1</th>\n",
       "      <td>-9.515295</td>\n",
       "      <td>-5.604776</td>\n",
       "      <td>1.2</td>\n",
       "      <td>1</td>\n",
       "    </tr>\n",
       "    <tr>\n",
       "      <th>2</th>\n",
       "      <td>-8.085702</td>\n",
       "      <td>-5.660842</td>\n",
       "      <td>1.3</td>\n",
       "      <td>1</td>\n",
       "    </tr>\n",
       "    <tr>\n",
       "      <th>3</th>\n",
       "      <td>-9.180405</td>\n",
       "      <td>9.218314</td>\n",
       "      <td>1.4</td>\n",
       "      <td>1</td>\n",
       "    </tr>\n",
       "    <tr>\n",
       "      <th>4</th>\n",
       "      <td>-1.601232</td>\n",
       "      <td>-0.253775</td>\n",
       "      <td>1.5</td>\n",
       "      <td>1</td>\n",
       "    </tr>\n",
       "    <tr>\n",
       "      <th>5</th>\n",
       "      <td>-4.085216</td>\n",
       "      <td>2.502656</td>\n",
       "      <td>1.a</td>\n",
       "      <td>1</td>\n",
       "    </tr>\n",
       "    <tr>\n",
       "      <th>6</th>\n",
       "      <td>4.188988</td>\n",
       "      <td>-4.045839</td>\n",
       "      <td>1.b</td>\n",
       "      <td>1</td>\n",
       "    </tr>\n",
       "    <tr>\n",
       "      <th>7</th>\n",
       "      <td>2.803382</td>\n",
       "      <td>11.874653</td>\n",
       "      <td>2.1</td>\n",
       "      <td>2</td>\n",
       "    </tr>\n",
       "    <tr>\n",
       "      <th>8</th>\n",
       "      <td>11.970259</td>\n",
       "      <td>-4.558487</td>\n",
       "      <td>2.2</td>\n",
       "      <td>2</td>\n",
       "    </tr>\n",
       "    <tr>\n",
       "      <th>9</th>\n",
       "      <td>2.760615</td>\n",
       "      <td>-8.876729</td>\n",
       "      <td>2.3</td>\n",
       "      <td>2</td>\n",
       "    </tr>\n",
       "  </tbody>\n",
       "</table>\n",
       "</div>"
      ],
      "text/plain": [
       "           0          1 target  sdg\n",
       "0  10.744605   5.404824    1.1    1\n",
       "1  -9.515295  -5.604776    1.2    1\n",
       "2  -8.085702  -5.660842    1.3    1\n",
       "3  -9.180405   9.218314    1.4    1\n",
       "4  -1.601232  -0.253775    1.5    1\n",
       "5  -4.085216   2.502656   1.a     1\n",
       "6   4.188988  -4.045839    1.b    1\n",
       "7   2.803382  11.874653    2.1    2\n",
       "8  11.970259  -4.558487    2.2    2\n",
       "9   2.760615  -8.876729    2.3    2"
      ]
     },
     "execution_count": 7,
     "metadata": {},
     "output_type": "execute_result"
    }
   ],
   "source": [
    "b"
   ]
  },
  {
   "cell_type": "code",
   "execution_count": 8,
   "id": "f0449f40-5bfb-4cbe-b135-9a1313fd8958",
   "metadata": {
    "execution": {
     "iopub.execute_input": "2022-08-29T19:58:39.916975Z",
     "iopub.status.busy": "2022-08-29T19:58:39.916975Z",
     "iopub.status.idle": "2022-08-29T19:58:39.931969Z",
     "shell.execute_reply": "2022-08-29T19:58:39.930970Z",
     "shell.execute_reply.started": "2022-08-29T19:58:39.916975Z"
    },
    "tags": []
   },
   "outputs": [],
   "source": [
    "# evaluate performance to adjust parameters with a sweep on wandb"
   ]
  },
  {
   "cell_type": "code",
   "execution_count": null,
   "id": "02052a80-7128-47de-8902-06f3d9406a0c",
   "metadata": {},
   "outputs": [],
   "source": [
    "# modify function to be used for testing both sdg and target classification"
   ]
  }
 ],
 "metadata": {
  "kernelspec": {
   "display_name": "Python 3 (ipykernel)",
   "language": "python",
   "name": "python3"
  },
  "language_info": {
   "codemirror_mode": {
    "name": "ipython",
    "version": 3
   },
   "file_extension": ".py",
   "mimetype": "text/x-python",
   "name": "python",
   "nbconvert_exporter": "python",
   "pygments_lexer": "ipython3",
   "version": "3.9.12"
  }
 },
 "nbformat": 4,
 "nbformat_minor": 5
}
